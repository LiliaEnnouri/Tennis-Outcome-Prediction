{
 "cells": [
  {
   "cell_type": "code",
   "execution_count": 1,
   "metadata": {},
   "outputs": [],
   "source": [
    "import pandas as pd\n",
    "from urllib.request import urlopen  \n",
    "import os.path as osp\n",
    "import os\n",
    "import logging\n",
    "import zipfile\n",
    "from glob import glob\n",
    "import numpy as np\n",
    "import matplotlib.pyplot as plt\n",
    "import seaborn as sns\n",
    "from datetime import datetime\n",
    "from sklearn.impute import SimpleImputer\n",
    "from sklearn.preprocessing import LabelEncoder, OneHotEncoder, StandardScaler\n",
    "from sklearn.feature_extraction import FeatureHasher\n",
    "import random\n",
    "from sklearn.decomposition import PCA\n",
    "from sklearn.linear_model import LogisticRegression\n",
    "from sklearn.pipeline import Pipeline\n",
    "from sklearn.model_selection import GridSearchCV, cross_val_score,cross_val_predict,cross_validate\n",
    "from sklearn.metrics import accuracy_score, classification_report\n",
    "from sklearn.tree import DecisionTreeClassifier\n",
    "from sklearn.ensemble import RandomForestClassifier\n",
    "from xgboost.sklearn import XGBClassifier\n",
    "from sklearn import svm\n",
    "\n",
    "logging.getLogger().setLevel('INFO')"
   ]
  },
  {
   "cell_type": "markdown",
   "metadata": {},
   "source": [
    "### Helpers"
   ]
  },
  {
   "cell_type": "code",
   "execution_count": 2,
   "metadata": {},
   "outputs": [],
   "source": [
    "def download_file(url_str, path):\n",
    "    url = urlopen(url_str)\n",
    "    output = open(path, 'wb')       \n",
    "    output.write(url.read())\n",
    "    output.close()  \n",
    "    \n",
    "def extract_file(archive_path, target_dir):\n",
    "    zip_file = zipfile.ZipFile(archive_path, 'r')\n",
    "    zip_file.extractall(target_dir)\n",
    "    zip_file.close()"
   ]
  },
  {
   "cell_type": "markdown",
   "metadata": {},
   "source": [
    "### Download the dataset"
   ]
  },
  {
   "cell_type": "code",
   "execution_count": 9,
   "metadata": {},
   "outputs": [
    {
     "name": "stderr",
     "output_type": "stream",
     "text": [
      "INFO:root:downloading & extracting file http://tennis-data.co.uk/2000/2000.zip\n",
      "INFO:root:downloading & extracting file http://tennis-data.co.uk/2001/2001.zip\n",
      "INFO:root:downloading & extracting file http://tennis-data.co.uk/2002/2002.zip\n",
      "INFO:root:downloading & extracting file http://tennis-data.co.uk/2003/2003.zip\n",
      "INFO:root:downloading & extracting file http://tennis-data.co.uk/2004/2004.zip\n",
      "INFO:root:downloading & extracting file http://tennis-data.co.uk/2005/2005.zip\n",
      "INFO:root:downloading & extracting file http://tennis-data.co.uk/2006/2006.zip\n",
      "INFO:root:downloading & extracting file http://tennis-data.co.uk/2007/2007.zip\n",
      "INFO:root:downloading & extracting file http://tennis-data.co.uk/2008/2008.zip\n",
      "INFO:root:downloading & extracting file http://tennis-data.co.uk/2009/2009.zip\n",
      "INFO:root:downloading & extracting file http://tennis-data.co.uk/2010/2010.zip\n",
      "INFO:root:downloading & extracting file http://tennis-data.co.uk/2011/2011.zip\n",
      "INFO:root:downloading & extracting file http://tennis-data.co.uk/2012/2012.zip\n",
      "INFO:root:downloading & extracting file http://tennis-data.co.uk/2013/2013.zip\n",
      "INFO:root:downloading & extracting file http://tennis-data.co.uk/2014/2014.zip\n",
      "INFO:root:downloading & extracting file http://tennis-data.co.uk/2015/2015.zip\n",
      "INFO:root:downloading & extracting file http://tennis-data.co.uk/2016/2016.zip\n",
      "INFO:root:downloading & extracting file http://tennis-data.co.uk/2017/2017.zip\n",
      "INFO:root:downloading & extracting file http://tennis-data.co.uk/2018/2018.zip\n",
      "INFO:root:52298 matches ATP in df_atp\n"
     ]
    }
   ],
   "source": [
    "BASE_URL = 'http://tennis-data.co.uk'\n",
    "DATA_DIR = \"tennis_data\"\n",
    "ATP_DIR = './{}/ATP'.format(DATA_DIR)\n",
    "WTA_DIR = './{}/WTA'.format(DATA_DIR)\n",
    "\n",
    "ATP_URLS = [BASE_URL + \"/%i/%i.zip\" % (i,i) for i in range(2000,2019)]\n",
    "\n",
    "os.makedirs(osp.join(ATP_DIR, 'archives'), exist_ok=True)\n",
    "\n",
    "files, directory = ATP_URLS, ATP_DIR\n",
    "for dl_path in files:\n",
    "    logging.info(\"downloading & extracting file %s\", dl_path)\n",
    "    archive_path = osp.join(directory, 'archives', osp.basename(dl_path))\n",
    "    download_file(dl_path, archive_path)\n",
    "    extract_file(archive_path, directory)\n",
    "    \n",
    "ATP_FILES = sorted(glob(\"%s/*.xls*\" % ATP_DIR))\n",
    "\n",
    "df_atp = pd.concat([pd.read_excel(f) for f in ATP_FILES], ignore_index=True)\n",
    "\n",
    "logging.info(\"%i matches ATP in df_atp\", df_atp.shape[0])"
   ]
  },
  {
   "cell_type": "code",
   "execution_count": 10,
   "metadata": {},
   "outputs": [
    {
     "data": {
      "text/html": [
       "<div>\n",
       "<style scoped>\n",
       "    .dataframe tbody tr th:only-of-type {\n",
       "        vertical-align: middle;\n",
       "    }\n",
       "\n",
       "    .dataframe tbody tr th {\n",
       "        vertical-align: top;\n",
       "    }\n",
       "\n",
       "    .dataframe thead th {\n",
       "        text-align: right;\n",
       "    }\n",
       "</style>\n",
       "<table border=\"1\" class=\"dataframe\">\n",
       "  <thead>\n",
       "    <tr style=\"text-align: right;\">\n",
       "      <th></th>\n",
       "      <th>ATP</th>\n",
       "      <th>Location</th>\n",
       "      <th>Tournament</th>\n",
       "      <th>Date</th>\n",
       "      <th>Series</th>\n",
       "      <th>Court</th>\n",
       "      <th>Surface</th>\n",
       "      <th>Round</th>\n",
       "      <th>Best of</th>\n",
       "      <th>Winner</th>\n",
       "      <th>...</th>\n",
       "      <th>UBW</th>\n",
       "      <th>UBL</th>\n",
       "      <th>LBW</th>\n",
       "      <th>LBL</th>\n",
       "      <th>SJW</th>\n",
       "      <th>SJL</th>\n",
       "      <th>MaxW</th>\n",
       "      <th>MaxL</th>\n",
       "      <th>AvgW</th>\n",
       "      <th>AvgL</th>\n",
       "    </tr>\n",
       "  </thead>\n",
       "  <tbody>\n",
       "    <tr>\n",
       "      <th>0</th>\n",
       "      <td>1</td>\n",
       "      <td>Adelaide</td>\n",
       "      <td>Australian Hardcourt Championships</td>\n",
       "      <td>2000-01-03</td>\n",
       "      <td>International</td>\n",
       "      <td>Outdoor</td>\n",
       "      <td>Hard</td>\n",
       "      <td>1st Round</td>\n",
       "      <td>3</td>\n",
       "      <td>Dosedel S.</td>\n",
       "      <td>...</td>\n",
       "      <td>NaN</td>\n",
       "      <td>NaN</td>\n",
       "      <td>NaN</td>\n",
       "      <td>NaN</td>\n",
       "      <td>NaN</td>\n",
       "      <td>NaN</td>\n",
       "      <td>NaN</td>\n",
       "      <td>NaN</td>\n",
       "      <td>NaN</td>\n",
       "      <td>NaN</td>\n",
       "    </tr>\n",
       "    <tr>\n",
       "      <th>1</th>\n",
       "      <td>1</td>\n",
       "      <td>Adelaide</td>\n",
       "      <td>Australian Hardcourt Championships</td>\n",
       "      <td>2000-01-03</td>\n",
       "      <td>International</td>\n",
       "      <td>Outdoor</td>\n",
       "      <td>Hard</td>\n",
       "      <td>1st Round</td>\n",
       "      <td>3</td>\n",
       "      <td>Enqvist T.</td>\n",
       "      <td>...</td>\n",
       "      <td>NaN</td>\n",
       "      <td>NaN</td>\n",
       "      <td>NaN</td>\n",
       "      <td>NaN</td>\n",
       "      <td>NaN</td>\n",
       "      <td>NaN</td>\n",
       "      <td>NaN</td>\n",
       "      <td>NaN</td>\n",
       "      <td>NaN</td>\n",
       "      <td>NaN</td>\n",
       "    </tr>\n",
       "    <tr>\n",
       "      <th>2</th>\n",
       "      <td>1</td>\n",
       "      <td>Adelaide</td>\n",
       "      <td>Australian Hardcourt Championships</td>\n",
       "      <td>2000-01-03</td>\n",
       "      <td>International</td>\n",
       "      <td>Outdoor</td>\n",
       "      <td>Hard</td>\n",
       "      <td>1st Round</td>\n",
       "      <td>3</td>\n",
       "      <td>Escude N.</td>\n",
       "      <td>...</td>\n",
       "      <td>NaN</td>\n",
       "      <td>NaN</td>\n",
       "      <td>NaN</td>\n",
       "      <td>NaN</td>\n",
       "      <td>NaN</td>\n",
       "      <td>NaN</td>\n",
       "      <td>NaN</td>\n",
       "      <td>NaN</td>\n",
       "      <td>NaN</td>\n",
       "      <td>NaN</td>\n",
       "    </tr>\n",
       "    <tr>\n",
       "      <th>3</th>\n",
       "      <td>1</td>\n",
       "      <td>Adelaide</td>\n",
       "      <td>Australian Hardcourt Championships</td>\n",
       "      <td>2000-01-03</td>\n",
       "      <td>International</td>\n",
       "      <td>Outdoor</td>\n",
       "      <td>Hard</td>\n",
       "      <td>1st Round</td>\n",
       "      <td>3</td>\n",
       "      <td>Federer R.</td>\n",
       "      <td>...</td>\n",
       "      <td>NaN</td>\n",
       "      <td>NaN</td>\n",
       "      <td>NaN</td>\n",
       "      <td>NaN</td>\n",
       "      <td>NaN</td>\n",
       "      <td>NaN</td>\n",
       "      <td>NaN</td>\n",
       "      <td>NaN</td>\n",
       "      <td>NaN</td>\n",
       "      <td>NaN</td>\n",
       "    </tr>\n",
       "    <tr>\n",
       "      <th>4</th>\n",
       "      <td>1</td>\n",
       "      <td>Adelaide</td>\n",
       "      <td>Australian Hardcourt Championships</td>\n",
       "      <td>2000-01-03</td>\n",
       "      <td>International</td>\n",
       "      <td>Outdoor</td>\n",
       "      <td>Hard</td>\n",
       "      <td>1st Round</td>\n",
       "      <td>3</td>\n",
       "      <td>Fromberg R.</td>\n",
       "      <td>...</td>\n",
       "      <td>NaN</td>\n",
       "      <td>NaN</td>\n",
       "      <td>NaN</td>\n",
       "      <td>NaN</td>\n",
       "      <td>NaN</td>\n",
       "      <td>NaN</td>\n",
       "      <td>NaN</td>\n",
       "      <td>NaN</td>\n",
       "      <td>NaN</td>\n",
       "      <td>NaN</td>\n",
       "    </tr>\n",
       "    <tr>\n",
       "      <th>5</th>\n",
       "      <td>1</td>\n",
       "      <td>Adelaide</td>\n",
       "      <td>Australian Hardcourt Championships</td>\n",
       "      <td>2000-01-03</td>\n",
       "      <td>International</td>\n",
       "      <td>Outdoor</td>\n",
       "      <td>Hard</td>\n",
       "      <td>1st Round</td>\n",
       "      <td>3</td>\n",
       "      <td>Gambill J.M.</td>\n",
       "      <td>...</td>\n",
       "      <td>NaN</td>\n",
       "      <td>NaN</td>\n",
       "      <td>NaN</td>\n",
       "      <td>NaN</td>\n",
       "      <td>NaN</td>\n",
       "      <td>NaN</td>\n",
       "      <td>NaN</td>\n",
       "      <td>NaN</td>\n",
       "      <td>NaN</td>\n",
       "      <td>NaN</td>\n",
       "    </tr>\n",
       "    <tr>\n",
       "      <th>6</th>\n",
       "      <td>1</td>\n",
       "      <td>Adelaide</td>\n",
       "      <td>Australian Hardcourt Championships</td>\n",
       "      <td>2000-01-03</td>\n",
       "      <td>International</td>\n",
       "      <td>Outdoor</td>\n",
       "      <td>Hard</td>\n",
       "      <td>1st Round</td>\n",
       "      <td>3</td>\n",
       "      <td>Grosjean S.</td>\n",
       "      <td>...</td>\n",
       "      <td>NaN</td>\n",
       "      <td>NaN</td>\n",
       "      <td>NaN</td>\n",
       "      <td>NaN</td>\n",
       "      <td>NaN</td>\n",
       "      <td>NaN</td>\n",
       "      <td>NaN</td>\n",
       "      <td>NaN</td>\n",
       "      <td>NaN</td>\n",
       "      <td>NaN</td>\n",
       "    </tr>\n",
       "    <tr>\n",
       "      <th>7</th>\n",
       "      <td>1</td>\n",
       "      <td>Adelaide</td>\n",
       "      <td>Australian Hardcourt Championships</td>\n",
       "      <td>2000-01-03</td>\n",
       "      <td>International</td>\n",
       "      <td>Outdoor</td>\n",
       "      <td>Hard</td>\n",
       "      <td>1st Round</td>\n",
       "      <td>3</td>\n",
       "      <td>Henman T.</td>\n",
       "      <td>...</td>\n",
       "      <td>NaN</td>\n",
       "      <td>NaN</td>\n",
       "      <td>NaN</td>\n",
       "      <td>NaN</td>\n",
       "      <td>NaN</td>\n",
       "      <td>NaN</td>\n",
       "      <td>NaN</td>\n",
       "      <td>NaN</td>\n",
       "      <td>NaN</td>\n",
       "      <td>NaN</td>\n",
       "    </tr>\n",
       "    <tr>\n",
       "      <th>8</th>\n",
       "      <td>1</td>\n",
       "      <td>Adelaide</td>\n",
       "      <td>Australian Hardcourt Championships</td>\n",
       "      <td>2000-01-03</td>\n",
       "      <td>International</td>\n",
       "      <td>Outdoor</td>\n",
       "      <td>Hard</td>\n",
       "      <td>1st Round</td>\n",
       "      <td>3</td>\n",
       "      <td>Hewitt L.</td>\n",
       "      <td>...</td>\n",
       "      <td>NaN</td>\n",
       "      <td>NaN</td>\n",
       "      <td>NaN</td>\n",
       "      <td>NaN</td>\n",
       "      <td>NaN</td>\n",
       "      <td>NaN</td>\n",
       "      <td>NaN</td>\n",
       "      <td>NaN</td>\n",
       "      <td>NaN</td>\n",
       "      <td>NaN</td>\n",
       "    </tr>\n",
       "    <tr>\n",
       "      <th>9</th>\n",
       "      <td>1</td>\n",
       "      <td>Adelaide</td>\n",
       "      <td>Australian Hardcourt Championships</td>\n",
       "      <td>2000-01-03</td>\n",
       "      <td>International</td>\n",
       "      <td>Outdoor</td>\n",
       "      <td>Hard</td>\n",
       "      <td>1st Round</td>\n",
       "      <td>3</td>\n",
       "      <td>Lisnard J.</td>\n",
       "      <td>...</td>\n",
       "      <td>NaN</td>\n",
       "      <td>NaN</td>\n",
       "      <td>NaN</td>\n",
       "      <td>NaN</td>\n",
       "      <td>NaN</td>\n",
       "      <td>NaN</td>\n",
       "      <td>NaN</td>\n",
       "      <td>NaN</td>\n",
       "      <td>NaN</td>\n",
       "      <td>NaN</td>\n",
       "    </tr>\n",
       "  </tbody>\n",
       "</table>\n",
       "<p>10 rows × 54 columns</p>\n",
       "</div>"
      ],
      "text/plain": [
       "   ATP  Location                          Tournament       Date  \\\n",
       "0    1  Adelaide  Australian Hardcourt Championships 2000-01-03   \n",
       "1    1  Adelaide  Australian Hardcourt Championships 2000-01-03   \n",
       "2    1  Adelaide  Australian Hardcourt Championships 2000-01-03   \n",
       "3    1  Adelaide  Australian Hardcourt Championships 2000-01-03   \n",
       "4    1  Adelaide  Australian Hardcourt Championships 2000-01-03   \n",
       "5    1  Adelaide  Australian Hardcourt Championships 2000-01-03   \n",
       "6    1  Adelaide  Australian Hardcourt Championships 2000-01-03   \n",
       "7    1  Adelaide  Australian Hardcourt Championships 2000-01-03   \n",
       "8    1  Adelaide  Australian Hardcourt Championships 2000-01-03   \n",
       "9    1  Adelaide  Australian Hardcourt Championships 2000-01-03   \n",
       "\n",
       "          Series    Court Surface      Round  Best of        Winner  ... UBW  \\\n",
       "0  International  Outdoor    Hard  1st Round        3    Dosedel S.  ... NaN   \n",
       "1  International  Outdoor    Hard  1st Round        3    Enqvist T.  ... NaN   \n",
       "2  International  Outdoor    Hard  1st Round        3     Escude N.  ... NaN   \n",
       "3  International  Outdoor    Hard  1st Round        3    Federer R.  ... NaN   \n",
       "4  International  Outdoor    Hard  1st Round        3   Fromberg R.  ... NaN   \n",
       "5  International  Outdoor    Hard  1st Round        3  Gambill J.M.  ... NaN   \n",
       "6  International  Outdoor    Hard  1st Round        3   Grosjean S.  ... NaN   \n",
       "7  International  Outdoor    Hard  1st Round        3     Henman T.  ... NaN   \n",
       "8  International  Outdoor    Hard  1st Round        3     Hewitt L.  ... NaN   \n",
       "9  International  Outdoor    Hard  1st Round        3    Lisnard J.  ... NaN   \n",
       "\n",
       "  UBL LBW  LBL  SJW SJL MaxW MaxL AvgW  AvgL  \n",
       "0 NaN NaN  NaN  NaN NaN  NaN  NaN  NaN   NaN  \n",
       "1 NaN NaN  NaN  NaN NaN  NaN  NaN  NaN   NaN  \n",
       "2 NaN NaN  NaN  NaN NaN  NaN  NaN  NaN   NaN  \n",
       "3 NaN NaN  NaN  NaN NaN  NaN  NaN  NaN   NaN  \n",
       "4 NaN NaN  NaN  NaN NaN  NaN  NaN  NaN   NaN  \n",
       "5 NaN NaN  NaN  NaN NaN  NaN  NaN  NaN   NaN  \n",
       "6 NaN NaN  NaN  NaN NaN  NaN  NaN  NaN   NaN  \n",
       "7 NaN NaN  NaN  NaN NaN  NaN  NaN  NaN   NaN  \n",
       "8 NaN NaN  NaN  NaN NaN  NaN  NaN  NaN   NaN  \n",
       "9 NaN NaN  NaN  NaN NaN  NaN  NaN  NaN   NaN  \n",
       "\n",
       "[10 rows x 54 columns]"
      ]
     },
     "execution_count": 10,
     "metadata": {},
     "output_type": "execute_result"
    }
   ],
   "source": [
    "df_atp.head(10)"
   ]
  },
  {
   "cell_type": "code",
   "execution_count": 11,
   "metadata": {},
   "outputs": [
    {
     "data": {
      "text/plain": [
       "(52298, 54)"
      ]
     },
     "execution_count": 11,
     "metadata": {},
     "output_type": "execute_result"
    }
   ],
   "source": [
    "df_atp.shape"
   ]
  },
  {
   "cell_type": "markdown",
   "metadata": {},
   "source": [
    "We will drop the duplicates if they exist"
   ]
  },
  {
   "cell_type": "code",
   "execution_count": 12,
   "metadata": {},
   "outputs": [],
   "source": [
    "df_atp.drop_duplicates(inplace = True)\n",
    "df_atp.reset_index(drop=True, inplace=True)"
   ]
  },
  {
   "cell_type": "code",
   "execution_count": 13,
   "metadata": {},
   "outputs": [
    {
     "data": {
      "text/plain": [
       "Index(['ATP', 'Location', 'Tournament', 'Date', 'Series', 'Court', 'Surface',\n",
       "       'Round', 'Best of', 'Winner', 'Loser', 'WRank', 'LRank', 'W1', 'L1',\n",
       "       'W2', 'L2', 'W3', 'L3', 'W4', 'L4', 'W5', 'L5', 'Wsets', 'Lsets',\n",
       "       'Comment', 'CBW', 'CBL', 'GBW', 'GBL', 'IWW', 'IWL', 'SBW', 'SBL',\n",
       "       'B365W', 'B365L', 'B&WW', 'B&WL', 'EXW', 'EXL', 'PSW', 'PSL', 'WPts',\n",
       "       'LPts', 'UBW', 'UBL', 'LBW', 'LBL', 'SJW', 'SJL', 'MaxW', 'MaxL',\n",
       "       'AvgW', 'AvgL'],\n",
       "      dtype='object')"
      ]
     },
     "execution_count": 13,
     "metadata": {},
     "output_type": "execute_result"
    }
   ],
   "source": [
    "df_atp.columns"
   ]
  },
  {
   "cell_type": "markdown",
   "metadata": {},
   "source": [
    "### Defining some visualisation functions"
   ]
  },
  {
   "cell_type": "code",
   "execution_count": 14,
   "metadata": {
    "scrolled": true
   },
   "outputs": [],
   "source": [
    "def density_plot(column, title, x_label):\n",
    "    sns.distplot(column, hist=False)\n",
    "    plt.title(title)\n",
    "    plt.xlabel(x_label)\n",
    "    plt.ylabel('Density')"
   ]
  },
  {
   "cell_type": "code",
   "execution_count": 15,
   "metadata": {},
   "outputs": [],
   "source": [
    "def scatter_plot(x,y,x_label,y_label):\n",
    "    plt.scatter(x, y)\n",
    "    plt.xlabel(x_label)\n",
    "    plt.ylabel(y_label)\n",
    "    plt.show()"
   ]
  },
  {
   "cell_type": "markdown",
   "metadata": {},
   "source": [
    "## 1. Data preprocessing"
   ]
  },
  {
   "cell_type": "markdown",
   "metadata": {},
   "source": [
    "### 1.1. Exploring  the dateset"
   ]
  },
  {
   "cell_type": "code",
   "execution_count": 16,
   "metadata": {},
   "outputs": [
    {
     "data": {
      "text/plain": [
       "Index(['ATP', 'Location', 'Tournament', 'Date', 'Series', 'Court', 'Surface',\n",
       "       'Round', 'Best of', 'Winner', 'Loser', 'WRank', 'LRank', 'W1', 'L1',\n",
       "       'W2', 'L2', 'W3', 'L3', 'W4', 'L4', 'W5', 'L5', 'Wsets', 'Lsets',\n",
       "       'Comment', 'CBW', 'CBL', 'GBW', 'GBL', 'IWW', 'IWL', 'SBW', 'SBL',\n",
       "       'B365W', 'B365L', 'B&WW', 'B&WL', 'EXW', 'EXL', 'PSW', 'PSL', 'WPts',\n",
       "       'LPts', 'UBW', 'UBL', 'LBW', 'LBL', 'SJW', 'SJL', 'MaxW', 'MaxL',\n",
       "       'AvgW', 'AvgL'],\n",
       "      dtype='object')"
      ]
     },
     "execution_count": 16,
     "metadata": {},
     "output_type": "execute_result"
    }
   ],
   "source": [
    "df_atp.columns"
   ]
  },
  {
   "cell_type": "markdown",
   "metadata": {},
   "source": [
    "When predicting the outcome of a tennis match, we will have the data relative to the players,the tournament and the match but we won't have the data relative to the outcome of the match since that's what we are trying to predict, so we will drop all the columns relative to the outcome match except for the winner and the loser of the match"
   ]
  },
  {
   "cell_type": "code",
   "execution_count": 17,
   "metadata": {},
   "outputs": [],
   "source": [
    "df_atp.drop(['L1', 'L2', 'L3', 'L4', 'L5','Lsets', 'W1', 'W2', 'W3', 'W4', 'W5','Wsets'], inplace=True, axis=1)"
   ]
  },
  {
   "cell_type": "markdown",
   "metadata": {},
   "source": [
    "We will extract the year of every match"
   ]
  },
  {
   "cell_type": "code",
   "execution_count": 18,
   "metadata": {},
   "outputs": [],
   "source": [
    "df_atp['year'] = pd.DatetimeIndex(df_atp['Date']).year\n",
    "df_atp = df_atp.sort_values(by='Date')\n",
    "df_atp = df_atp.reset_index(drop=True)"
   ]
  },
  {
   "cell_type": "code",
   "execution_count": 19,
   "metadata": {
    "scrolled": true
   },
   "outputs": [
    {
     "data": {
      "text/plain": [
       "ATP               0\n",
       "Location          0\n",
       "Tournament        0\n",
       "Date              0\n",
       "Series            0\n",
       "Court             0\n",
       "Surface           0\n",
       "Round             0\n",
       "Best of           0\n",
       "Winner            0\n",
       "Loser             0\n",
       "WRank            15\n",
       "LRank            78\n",
       "Comment           0\n",
       "CBW           34792\n",
       "CBL           34792\n",
       "GBW           47243\n",
       "GBL           47243\n",
       "IWW           38940\n",
       "IWL           38940\n",
       "SBW           46874\n",
       "SBL           46874\n",
       "B365W          8655\n",
       "B365L          8632\n",
       "B&WW          51201\n",
       "B&WL          51201\n",
       "EXW           12887\n",
       "EXL           12882\n",
       "PSW           14959\n",
       "PSL           14959\n",
       "WPts          16204\n",
       "LPts          16263\n",
       "UBW           41627\n",
       "UBL           41627\n",
       "LBW           24167\n",
       "LBL           24156\n",
       "SJW           36726\n",
       "SJL           36719\n",
       "MaxW          29553\n",
       "MaxL          29553\n",
       "AvgW          29553\n",
       "AvgL          29553\n",
       "year              0\n",
       "dtype: int64"
      ]
     },
     "execution_count": 19,
     "metadata": {},
     "output_type": "execute_result"
    }
   ],
   "source": [
    "df_atp.isnull().sum()"
   ]
  },
  {
   "cell_type": "code",
   "execution_count": 20,
   "metadata": {
    "scrolled": true
   },
   "outputs": [
    {
     "data": {
      "text/plain": [
       "ATP                    int64\n",
       "Location              object\n",
       "Tournament            object\n",
       "Date          datetime64[ns]\n",
       "Series                object\n",
       "Court                 object\n",
       "Surface               object\n",
       "Round                 object\n",
       "Best of                int64\n",
       "Winner                object\n",
       "Loser                 object\n",
       "WRank                 object\n",
       "LRank                 object\n",
       "Comment               object\n",
       "CBW                  float64\n",
       "CBL                  float64\n",
       "GBW                  float64\n",
       "GBL                  float64\n",
       "IWW                  float64\n",
       "IWL                  float64\n",
       "SBW                  float64\n",
       "SBL                  float64\n",
       "B365W                float64\n",
       "B365L                float64\n",
       "B&WW                 float64\n",
       "B&WL                 float64\n",
       "EXW                   object\n",
       "EXL                  float64\n",
       "PSW                  float64\n",
       "PSL                  float64\n",
       "WPts                 float64\n",
       "LPts                 float64\n",
       "UBW                  float64\n",
       "UBL                  float64\n",
       "LBW                  float64\n",
       "LBL                  float64\n",
       "SJW                  float64\n",
       "SJL                  float64\n",
       "MaxW                 float64\n",
       "MaxL                 float64\n",
       "AvgW                 float64\n",
       "AvgL                 float64\n",
       "year                   int64\n",
       "dtype: object"
      ]
     },
     "execution_count": 20,
     "metadata": {},
     "output_type": "execute_result"
    }
   ],
   "source": [
    "df_atp.dtypes"
   ]
  },
  {
   "cell_type": "code",
   "execution_count": 21,
   "metadata": {},
   "outputs": [],
   "source": [
    "odds = [ 'AvgL', 'AvgW','MaxL', 'MaxW', 'B&WL', 'B&WW', 'B365L', 'B365W','CBL', 'CBW', 'EXL', 'EXW', 'GBL', 'GBW',\n",
    "       'IWL', 'IWW', 'LBL', 'LBW', 'PSL', 'PSW',  'SBL', 'SBW', 'SJL', 'SJW','UBL', 'UBW']\n",
    "data = ['ATP', 'Location','Tournament','Best of', 'Series', 'Surface','Date','Comment', 'Court', 'Round',  \n",
    "        'Loser', 'LPts', 'LRank','Winner', 'WPts', 'WRank','year']"
   ]
  },
  {
   "cell_type": "code",
   "execution_count": 22,
   "metadata": {},
   "outputs": [
    {
     "data": {
      "text/html": [
       "<div>\n",
       "<style scoped>\n",
       "    .dataframe tbody tr th:only-of-type {\n",
       "        vertical-align: middle;\n",
       "    }\n",
       "\n",
       "    .dataframe tbody tr th {\n",
       "        vertical-align: top;\n",
       "    }\n",
       "\n",
       "    .dataframe thead th {\n",
       "        text-align: right;\n",
       "    }\n",
       "</style>\n",
       "<table border=\"1\" class=\"dataframe\">\n",
       "  <thead>\n",
       "    <tr style=\"text-align: right;\">\n",
       "      <th></th>\n",
       "      <th>ATP</th>\n",
       "      <th>Best of</th>\n",
       "      <th>LPts</th>\n",
       "      <th>WPts</th>\n",
       "      <th>year</th>\n",
       "    </tr>\n",
       "  </thead>\n",
       "  <tbody>\n",
       "    <tr>\n",
       "      <th>count</th>\n",
       "      <td>52298.000000</td>\n",
       "      <td>52298.000000</td>\n",
       "      <td>36035.000000</td>\n",
       "      <td>36094.000000</td>\n",
       "      <td>52298.000000</td>\n",
       "    </tr>\n",
       "    <tr>\n",
       "      <th>mean</th>\n",
       "      <td>33.222532</td>\n",
       "      <td>3.372366</td>\n",
       "      <td>1047.544665</td>\n",
       "      <td>1831.891644</td>\n",
       "      <td>2008.760526</td>\n",
       "    </tr>\n",
       "    <tr>\n",
       "      <th>std</th>\n",
       "      <td>18.115493</td>\n",
       "      <td>0.778516</td>\n",
       "      <td>1213.773168</td>\n",
       "      <td>2294.307489</td>\n",
       "      <td>5.494070</td>\n",
       "    </tr>\n",
       "    <tr>\n",
       "      <th>min</th>\n",
       "      <td>1.000000</td>\n",
       "      <td>3.000000</td>\n",
       "      <td>1.000000</td>\n",
       "      <td>1.000000</td>\n",
       "      <td>2000.000000</td>\n",
       "    </tr>\n",
       "    <tr>\n",
       "      <th>25%</th>\n",
       "      <td>19.000000</td>\n",
       "      <td>3.000000</td>\n",
       "      <td>496.000000</td>\n",
       "      <td>640.000000</td>\n",
       "      <td>2004.000000</td>\n",
       "    </tr>\n",
       "    <tr>\n",
       "      <th>50%</th>\n",
       "      <td>33.000000</td>\n",
       "      <td>3.000000</td>\n",
       "      <td>736.000000</td>\n",
       "      <td>1007.000000</td>\n",
       "      <td>2009.000000</td>\n",
       "    </tr>\n",
       "    <tr>\n",
       "      <th>75%</th>\n",
       "      <td>49.000000</td>\n",
       "      <td>3.000000</td>\n",
       "      <td>1141.000000</td>\n",
       "      <td>1895.000000</td>\n",
       "      <td>2014.000000</td>\n",
       "    </tr>\n",
       "    <tr>\n",
       "      <th>max</th>\n",
       "      <td>69.000000</td>\n",
       "      <td>5.000000</td>\n",
       "      <td>16950.000000</td>\n",
       "      <td>16950.000000</td>\n",
       "      <td>2018.000000</td>\n",
       "    </tr>\n",
       "  </tbody>\n",
       "</table>\n",
       "</div>"
      ],
      "text/plain": [
       "                ATP       Best of          LPts          WPts          year\n",
       "count  52298.000000  52298.000000  36035.000000  36094.000000  52298.000000\n",
       "mean      33.222532      3.372366   1047.544665   1831.891644   2008.760526\n",
       "std       18.115493      0.778516   1213.773168   2294.307489      5.494070\n",
       "min        1.000000      3.000000      1.000000      1.000000   2000.000000\n",
       "25%       19.000000      3.000000    496.000000    640.000000   2004.000000\n",
       "50%       33.000000      3.000000    736.000000   1007.000000   2009.000000\n",
       "75%       49.000000      3.000000   1141.000000   1895.000000   2014.000000\n",
       "max       69.000000      5.000000  16950.000000  16950.000000   2018.000000"
      ]
     },
     "execution_count": 22,
     "metadata": {},
     "output_type": "execute_result"
    }
   ],
   "source": [
    "df_atp[data].describe()"
   ]
  },
  {
   "cell_type": "code",
   "execution_count": 23,
   "metadata": {},
   "outputs": [
    {
     "data": {
      "text/html": [
       "<div>\n",
       "<style scoped>\n",
       "    .dataframe tbody tr th:only-of-type {\n",
       "        vertical-align: middle;\n",
       "    }\n",
       "\n",
       "    .dataframe tbody tr th {\n",
       "        vertical-align: top;\n",
       "    }\n",
       "\n",
       "    .dataframe thead th {\n",
       "        text-align: right;\n",
       "    }\n",
       "</style>\n",
       "<table border=\"1\" class=\"dataframe\">\n",
       "  <thead>\n",
       "    <tr style=\"text-align: right;\">\n",
       "      <th></th>\n",
       "      <th>AvgL</th>\n",
       "      <th>AvgW</th>\n",
       "      <th>MaxL</th>\n",
       "      <th>MaxW</th>\n",
       "      <th>B&amp;WL</th>\n",
       "      <th>B&amp;WW</th>\n",
       "      <th>B365L</th>\n",
       "      <th>B365W</th>\n",
       "      <th>CBL</th>\n",
       "      <th>CBW</th>\n",
       "      <th>...</th>\n",
       "      <th>LBL</th>\n",
       "      <th>LBW</th>\n",
       "      <th>PSL</th>\n",
       "      <th>PSW</th>\n",
       "      <th>SBL</th>\n",
       "      <th>SBW</th>\n",
       "      <th>SJL</th>\n",
       "      <th>SJW</th>\n",
       "      <th>UBL</th>\n",
       "      <th>UBW</th>\n",
       "    </tr>\n",
       "  </thead>\n",
       "  <tbody>\n",
       "    <tr>\n",
       "      <th>count</th>\n",
       "      <td>22745.000000</td>\n",
       "      <td>22745.000000</td>\n",
       "      <td>22745.000000</td>\n",
       "      <td>22745.000000</td>\n",
       "      <td>1097.000000</td>\n",
       "      <td>1097.000000</td>\n",
       "      <td>43666.000000</td>\n",
       "      <td>43643.000000</td>\n",
       "      <td>17506.000000</td>\n",
       "      <td>17506.000000</td>\n",
       "      <td>...</td>\n",
       "      <td>28142.000000</td>\n",
       "      <td>28131.000000</td>\n",
       "      <td>37339.000000</td>\n",
       "      <td>37339.000000</td>\n",
       "      <td>5424.000000</td>\n",
       "      <td>5424.000000</td>\n",
       "      <td>15579.000000</td>\n",
       "      <td>15572.000000</td>\n",
       "      <td>10671.000000</td>\n",
       "      <td>10671.000000</td>\n",
       "    </tr>\n",
       "    <tr>\n",
       "      <th>mean</th>\n",
       "      <td>3.594448</td>\n",
       "      <td>1.834821</td>\n",
       "      <td>8.326076</td>\n",
       "      <td>1.998610</td>\n",
       "      <td>2.547347</td>\n",
       "      <td>1.728633</td>\n",
       "      <td>3.551805</td>\n",
       "      <td>1.823768</td>\n",
       "      <td>3.000658</td>\n",
       "      <td>1.812080</td>\n",
       "      <td>...</td>\n",
       "      <td>3.451461</td>\n",
       "      <td>1.810226</td>\n",
       "      <td>4.186818</td>\n",
       "      <td>1.926742</td>\n",
       "      <td>2.672064</td>\n",
       "      <td>1.793035</td>\n",
       "      <td>3.557943</td>\n",
       "      <td>1.796538</td>\n",
       "      <td>3.542479</td>\n",
       "      <td>1.815867</td>\n",
       "    </tr>\n",
       "    <tr>\n",
       "      <th>std</th>\n",
       "      <td>3.282610</td>\n",
       "      <td>1.107884</td>\n",
       "      <td>397.235666</td>\n",
       "      <td>1.628982</td>\n",
       "      <td>1.330386</td>\n",
       "      <td>0.730434</td>\n",
       "      <td>3.527564</td>\n",
       "      <td>1.100806</td>\n",
       "      <td>2.032791</td>\n",
       "      <td>0.868254</td>\n",
       "      <td>...</td>\n",
       "      <td>3.075889</td>\n",
       "      <td>1.031691</td>\n",
       "      <td>5.581127</td>\n",
       "      <td>1.334797</td>\n",
       "      <td>1.424672</td>\n",
       "      <td>0.751026</td>\n",
       "      <td>3.272510</td>\n",
       "      <td>1.004273</td>\n",
       "      <td>3.646316</td>\n",
       "      <td>0.996238</td>\n",
       "    </tr>\n",
       "    <tr>\n",
       "      <th>min</th>\n",
       "      <td>1.010000</td>\n",
       "      <td>1.010000</td>\n",
       "      <td>1.010000</td>\n",
       "      <td>1.010000</td>\n",
       "      <td>1.020000</td>\n",
       "      <td>1.010000</td>\n",
       "      <td>1.002000</td>\n",
       "      <td>1.000000</td>\n",
       "      <td>1.020000</td>\n",
       "      <td>1.000000</td>\n",
       "      <td>...</td>\n",
       "      <td>1.000000</td>\n",
       "      <td>1.000000</td>\n",
       "      <td>1.010000</td>\n",
       "      <td>1.000000</td>\n",
       "      <td>0.000000</td>\n",
       "      <td>0.000000</td>\n",
       "      <td>1.010000</td>\n",
       "      <td>1.000000</td>\n",
       "      <td>1.020000</td>\n",
       "      <td>1.010000</td>\n",
       "    </tr>\n",
       "    <tr>\n",
       "      <th>25%</th>\n",
       "      <td>1.740000</td>\n",
       "      <td>1.240000</td>\n",
       "      <td>1.850000</td>\n",
       "      <td>1.290000</td>\n",
       "      <td>1.600000</td>\n",
       "      <td>1.250000</td>\n",
       "      <td>1.720000</td>\n",
       "      <td>1.222000</td>\n",
       "      <td>1.720000</td>\n",
       "      <td>1.280000</td>\n",
       "      <td>...</td>\n",
       "      <td>1.730000</td>\n",
       "      <td>1.250000</td>\n",
       "      <td>1.794000</td>\n",
       "      <td>1.270000</td>\n",
       "      <td>1.670000</td>\n",
       "      <td>1.333000</td>\n",
       "      <td>1.730000</td>\n",
       "      <td>1.220000</td>\n",
       "      <td>1.750000</td>\n",
       "      <td>1.240000</td>\n",
       "    </tr>\n",
       "    <tr>\n",
       "      <th>50%</th>\n",
       "      <td>2.550000</td>\n",
       "      <td>1.500000</td>\n",
       "      <td>2.780000</td>\n",
       "      <td>1.570000</td>\n",
       "      <td>2.150000</td>\n",
       "      <td>1.500000</td>\n",
       "      <td>2.500000</td>\n",
       "      <td>1.500000</td>\n",
       "      <td>2.375000</td>\n",
       "      <td>1.550000</td>\n",
       "      <td>...</td>\n",
       "      <td>2.500000</td>\n",
       "      <td>1.500000</td>\n",
       "      <td>2.660000</td>\n",
       "      <td>1.550000</td>\n",
       "      <td>2.250000</td>\n",
       "      <td>1.571000</td>\n",
       "      <td>2.630000</td>\n",
       "      <td>1.500000</td>\n",
       "      <td>2.500000</td>\n",
       "      <td>1.500000</td>\n",
       "    </tr>\n",
       "    <tr>\n",
       "      <th>75%</th>\n",
       "      <td>3.990000</td>\n",
       "      <td>2.060000</td>\n",
       "      <td>4.540000</td>\n",
       "      <td>2.200000</td>\n",
       "      <td>3.100000</td>\n",
       "      <td>1.950000</td>\n",
       "      <td>4.000000</td>\n",
       "      <td>2.075000</td>\n",
       "      <td>3.400000</td>\n",
       "      <td>2.050000</td>\n",
       "      <td>...</td>\n",
       "      <td>4.000000</td>\n",
       "      <td>2.000000</td>\n",
       "      <td>4.240000</td>\n",
       "      <td>2.140000</td>\n",
       "      <td>3.000000</td>\n",
       "      <td>2.100000</td>\n",
       "      <td>4.000000</td>\n",
       "      <td>2.000000</td>\n",
       "      <td>3.850000</td>\n",
       "      <td>2.030000</td>\n",
       "    </tr>\n",
       "    <tr>\n",
       "      <th>max</th>\n",
       "      <td>36.440000</td>\n",
       "      <td>23.450000</td>\n",
       "      <td>42586.000000</td>\n",
       "      <td>76.000000</td>\n",
       "      <td>9.000000</td>\n",
       "      <td>7.500000</td>\n",
       "      <td>101.000000</td>\n",
       "      <td>29.000000</td>\n",
       "      <td>25.000000</td>\n",
       "      <td>14.000000</td>\n",
       "      <td>...</td>\n",
       "      <td>51.000000</td>\n",
       "      <td>26.000000</td>\n",
       "      <td>121.000000</td>\n",
       "      <td>46.000000</td>\n",
       "      <td>13.000000</td>\n",
       "      <td>9.000000</td>\n",
       "      <td>81.000000</td>\n",
       "      <td>19.000000</td>\n",
       "      <td>60.000000</td>\n",
       "      <td>18.000000</td>\n",
       "    </tr>\n",
       "  </tbody>\n",
       "</table>\n",
       "<p>8 rows × 25 columns</p>\n",
       "</div>"
      ],
      "text/plain": [
       "               AvgL          AvgW          MaxL          MaxW         B&WL  \\\n",
       "count  22745.000000  22745.000000  22745.000000  22745.000000  1097.000000   \n",
       "mean       3.594448      1.834821      8.326076      1.998610     2.547347   \n",
       "std        3.282610      1.107884    397.235666      1.628982     1.330386   \n",
       "min        1.010000      1.010000      1.010000      1.010000     1.020000   \n",
       "25%        1.740000      1.240000      1.850000      1.290000     1.600000   \n",
       "50%        2.550000      1.500000      2.780000      1.570000     2.150000   \n",
       "75%        3.990000      2.060000      4.540000      2.200000     3.100000   \n",
       "max       36.440000     23.450000  42586.000000     76.000000     9.000000   \n",
       "\n",
       "              B&WW         B365L         B365W           CBL           CBW  \\\n",
       "count  1097.000000  43666.000000  43643.000000  17506.000000  17506.000000   \n",
       "mean      1.728633      3.551805      1.823768      3.000658      1.812080   \n",
       "std       0.730434      3.527564      1.100806      2.032791      0.868254   \n",
       "min       1.010000      1.002000      1.000000      1.020000      1.000000   \n",
       "25%       1.250000      1.720000      1.222000      1.720000      1.280000   \n",
       "50%       1.500000      2.500000      1.500000      2.375000      1.550000   \n",
       "75%       1.950000      4.000000      2.075000      3.400000      2.050000   \n",
       "max       7.500000    101.000000     29.000000     25.000000     14.000000   \n",
       "\n",
       "       ...           LBL           LBW           PSL           PSW  \\\n",
       "count  ...  28142.000000  28131.000000  37339.000000  37339.000000   \n",
       "mean   ...      3.451461      1.810226      4.186818      1.926742   \n",
       "std    ...      3.075889      1.031691      5.581127      1.334797   \n",
       "min    ...      1.000000      1.000000      1.010000      1.000000   \n",
       "25%    ...      1.730000      1.250000      1.794000      1.270000   \n",
       "50%    ...      2.500000      1.500000      2.660000      1.550000   \n",
       "75%    ...      4.000000      2.000000      4.240000      2.140000   \n",
       "max    ...     51.000000     26.000000    121.000000     46.000000   \n",
       "\n",
       "               SBL          SBW           SJL           SJW           UBL  \\\n",
       "count  5424.000000  5424.000000  15579.000000  15572.000000  10671.000000   \n",
       "mean      2.672064     1.793035      3.557943      1.796538      3.542479   \n",
       "std       1.424672     0.751026      3.272510      1.004273      3.646316   \n",
       "min       0.000000     0.000000      1.010000      1.000000      1.020000   \n",
       "25%       1.670000     1.333000      1.730000      1.220000      1.750000   \n",
       "50%       2.250000     1.571000      2.630000      1.500000      2.500000   \n",
       "75%       3.000000     2.100000      4.000000      2.000000      3.850000   \n",
       "max      13.000000     9.000000     81.000000     19.000000     60.000000   \n",
       "\n",
       "                UBW  \n",
       "count  10671.000000  \n",
       "mean       1.815867  \n",
       "std        0.996238  \n",
       "min        1.010000  \n",
       "25%        1.240000  \n",
       "50%        1.500000  \n",
       "75%        2.030000  \n",
       "max       18.000000  \n",
       "\n",
       "[8 rows x 25 columns]"
      ]
     },
     "execution_count": 23,
     "metadata": {},
     "output_type": "execute_result"
    }
   ],
   "source": [
    "df_atp[odds].describe()"
   ]
  },
  {
   "cell_type": "markdown",
   "metadata": {},
   "source": [
    "### 1.2. Splittting the dataset"
   ]
  },
  {
   "cell_type": "markdown",
   "metadata": {},
   "source": [
    "We will test on the year 2017"
   ]
  },
  {
   "cell_type": "code",
   "execution_count": 24,
   "metadata": {},
   "outputs": [],
   "source": [
    "test = df_atp.loc[df_atp['year'] == 2017]"
   ]
  },
  {
   "cell_type": "code",
   "execution_count": 25,
   "metadata": {
    "scrolled": true
   },
   "outputs": [],
   "source": [
    "df_atp = df_atp.loc[df_atp['year'] != 2017]"
   ]
  },
  {
   "cell_type": "markdown",
   "metadata": {},
   "source": [
    "### 1.3. Dealing with missing Data"
   ]
  },
  {
   "cell_type": "markdown",
   "metadata": {},
   "source": [
    "##### LRank and WRank"
   ]
  },
  {
   "cell_type": "markdown",
   "metadata": {},
   "source": [
    "The features 'LRank' and 'WRank' are objects when they should be integers. We are going to identify the reason and fix it"
   ]
  },
  {
   "cell_type": "code",
   "execution_count": 26,
   "metadata": {
    "scrolled": true
   },
   "outputs": [
    {
     "name": "stdout",
     "output_type": "stream",
     "text": [
      "['NR']\n",
      "['NR', 'NR', 'NR', 'NR', 'NR', 'NR', 'NR', 'NR', 'NR', 'NR', 'NR', 'NR', 'NR', 'NR', 'NR', 'NR', 'NR', 'NR', 'NR', 'NR', 'NR', 'NR', 'NR', 'NR', 'NR', 'NR', 'NR']\n"
     ]
    }
   ],
   "source": [
    "numeric_types = [int, float, complex]\n",
    "print([x for x in df_atp['WRank'] if type(x) not in numeric_types])\n",
    "print([x for x in df_atp['LRank'] if type(x) not in numeric_types])"
   ]
  },
  {
   "cell_type": "markdown",
   "metadata": {},
   "source": [
    "The rank of non ranked players ('NR') will be replaced by 2000 since the actual maximum rank is less than 2000."
   ]
  },
  {
   "cell_type": "code",
   "execution_count": 27,
   "metadata": {},
   "outputs": [],
   "source": [
    "df_atp.loc[:,'LRank'] = df_atp.loc[:,'LRank'].replace('NR', 2000)\n",
    "df_atp.loc[:,'WRank'] = df_atp.loc[:,'WRank'].replace('NR', 2000)\n",
    "\n",
    "test.loc[:,'LRank'] = test.loc[:,'LRank'].replace('NR', 2000)\n",
    "test.loc[:,'WRank'] = test.loc[:,'WRank'].replace('NR', 2000)"
   ]
  },
  {
   "cell_type": "markdown",
   "metadata": {},
   "source": [
    "The proportion of missing values in the training set for the columns LRank and WRank compared to the number of entries in our data is very small, so we can delete. For the test set, we are going to replace them with the mean."
   ]
  },
  {
   "cell_type": "code",
   "execution_count": 28,
   "metadata": {
    "scrolled": true
   },
   "outputs": [],
   "source": [
    "df_atp = df_atp.dropna(subset=['LRank', 'WRank'])"
   ]
  },
  {
   "cell_type": "code",
   "execution_count": 29,
   "metadata": {
    "scrolled": true
   },
   "outputs": [],
   "source": [
    "imp = SimpleImputer(strategy='mean')\n",
    "test[['LRank', 'WRank']] =  imp.fit_transform(test[['LRank', 'WRank']])"
   ]
  },
  {
   "cell_type": "code",
   "execution_count": 30,
   "metadata": {},
   "outputs": [
    {
     "data": {
      "image/png": "[encoded data removed]",
      "text/plain": [
       "<Figure size 432x288 with 1 Axes>"
      ]
     },
     "metadata": {
      "needs_background": "light"
     },
     "output_type": "display_data"
    }
   ],
   "source": [
    "density_plot(pd.concat([df_atp['LRank'],df_atp['WRank']]), \"Density Plot of Players' ranks\", 'Rank')\n",
    "density_plot(pd.concat([test['LRank'],test['WRank']]), \"Density Plot of Players' ranks\", 'Rank')"
   ]
  },
  {
   "cell_type": "markdown",
   "metadata": {},
   "source": [
    "##### Date"
   ]
  },
  {
   "cell_type": "code",
   "execution_count": 31,
   "metadata": {},
   "outputs": [],
   "source": [
    "df_atp.loc[:,'Date']= pd.to_datetime(df_atp['Date'],format='%Y-%m-%d')\n",
    "test.loc[:,'Date']= pd.to_datetime(test['Date'],format='%Y-%m-%d')"
   ]
  },
  {
   "cell_type": "markdown",
   "metadata": {},
   "source": [
    "##### WPts and LPts"
   ]
  },
  {
   "cell_type": "markdown",
   "metadata": {},
   "source": [
    "We will visualize the variation of WPts and LPts for a certain player over the time. We will choose 'Federer R.' since we have an important number of matches played by him"
   ]
  },
  {
   "cell_type": "code",
   "execution_count": 32,
   "metadata": {},
   "outputs": [
    {
     "data": {
      "text/plain": [
       "Text(0.5, 1.0, 'WPts and LPts for Federer R.')"
      ]
     },
     "execution_count": 32,
     "metadata": {},
     "output_type": "execute_result"
    },
    {
     "data": {
      "image/png": "[encoded data removed]",
      "text/plain": [
       "<Figure size 432x288 with 1 Axes>"
      ]
     },
     "metadata": {
      "needs_background": "light"
     },
     "output_type": "display_data"
    }
   ],
   "source": [
    "fig, ax = plt.subplots()\n",
    "ax.plot(df_atp.loc[(df_atp['Winner']=='Federer R.')]['Date'],df_atp.loc[df_atp['Winner']=='Federer R.']['WPts'], label='WPts')\n",
    "ax.plot(df_atp.loc[(df_atp['Loser']=='Federer R.')]['Date'],df_atp.loc[df_atp['Loser']=='Federer R.']['LPts'], label='LPts')\n",
    "ax.legend()\n",
    "plt.ylabel('Number of points')\n",
    "plt.title('WPts and LPts for Federer R.')"
   ]
  },
  {
   "cell_type": "markdown",
   "metadata": {},
   "source": [
    "We can fill the missing values of the LPtw and WPts by linearly interpolating them. To do that, we will start by constructing a new dataframe with the player, the date and the points of that player at that specefic date.  We will sort the new dataset by date and fill the missing values by interpolation. If the interpolation doesn't fill all the missing values, the remaining ones will be filled by the mean. We will then fill our initial dataset by the new values. "
   ]
  },
  {
   "cell_type": "code",
   "execution_count": 33,
   "metadata": {},
   "outputs": [],
   "source": [
    "playerPoints = pd.DataFrame()\n",
    "playerPoints['player'] = pd.concat([df_atp['Winner'],df_atp['Loser']])                                    \n",
    "playerPoints['points'] = pd.concat([df_atp['WPts'],df_atp['LPts']])                                    \n",
    "playerPoints['Date'] = pd.concat([df_atp['Date'],df_atp['Date']])"
   ]
  },
  {
   "cell_type": "code",
   "execution_count": 34,
   "metadata": {},
   "outputs": [],
   "source": [
    "playerPoints.drop_duplicates(['player','Date'], keep='first', inplace = True)"
   ]
  },
  {
   "cell_type": "code",
   "execution_count": 35,
   "metadata": {},
   "outputs": [
    {
     "data": {
      "text/plain": [
       "(89541, 3)"
      ]
     },
     "execution_count": 35,
     "metadata": {},
     "output_type": "execute_result"
    }
   ],
   "source": [
    "playerPoints.shape"
   ]
  },
  {
   "cell_type": "markdown",
   "metadata": {},
   "source": [
    "We are going to sort the playerPoints dataset by Date to make the imputing of the missing values easier"
   ]
  },
  {
   "cell_type": "code",
   "execution_count": 36,
   "metadata": {},
   "outputs": [],
   "source": [
    "playerPoints = playerPoints.sort_values(by='Date')\n",
    "playerPoints = playerPoints.reset_index(drop=True)"
   ]
  },
  {
   "cell_type": "markdown",
   "metadata": {},
   "source": [
    "Let's visualize the variation of the number of points of a certain player (Federer R.) over the time"
   ]
  },
  {
   "cell_type": "code",
   "execution_count": 37,
   "metadata": {
    "scrolled": true
   },
   "outputs": [
    {
     "data": {
      "text/plain": [
       "Text(0.5, 1.0, 'Number of points for Federer R.')"
      ]
     },
     "execution_count": 37,
     "metadata": {},
     "output_type": "execute_result"
    },
    {
     "data": {
      "image/png": "[encoded data removed]",
      "text/plain": [
       "<Figure size 432x288 with 1 Axes>"
      ]
     },
     "metadata": {
      "needs_background": "light"
     },
     "output_type": "display_data"
    }
   ],
   "source": [
    "plt.plot(playerPoints.loc[playerPoints['player']=='Federer R.']['Date'],playerPoints.loc[playerPoints['player']=='Federer R.']['points'])\n",
    "plt.ylabel('Number of points')\n",
    "plt.title('Number of points for Federer R.')"
   ]
  },
  {
   "cell_type": "code",
   "execution_count": 38,
   "metadata": {},
   "outputs": [],
   "source": [
    "players = playerPoints.player.unique()\n",
    "for p in players:\n",
    "    playerPoints.loc[playerPoints['player'] == p] = playerPoints.loc[playerPoints['player'] == p].interpolate(method ='linear', limit_direction ='both') "
   ]
  },
  {
   "cell_type": "code",
   "execution_count": 39,
   "metadata": {},
   "outputs": [
    {
     "data": {
      "text/plain": [
       "Text(0.5, 1.0, 'Number of points for Federer R.')"
      ]
     },
     "execution_count": 39,
     "metadata": {},
     "output_type": "execute_result"
    },
    {
     "data": {
      "image/png": "[encoded data removed]",
      "text/plain": [
       "<Figure size 432x288 with 1 Axes>"
      ]
     },
     "metadata": {
      "needs_background": "light"
     },
     "output_type": "display_data"
    }
   ],
   "source": [
    "plt.plot(playerPoints.loc[playerPoints['player']=='Federer R.']['Date'],playerPoints.loc[playerPoints['player']=='Federer R.']['points'])\n",
    "plt.ylabel('Number of points')\n",
    "plt.title('Number of points for Federer R.')"
   ]
  },
  {
   "cell_type": "code",
   "execution_count": 40,
   "metadata": {},
   "outputs": [],
   "source": [
    "imp_mean = SimpleImputer(strategy='mean')\n",
    "playerPoints[['points']] =  imp_mean.fit_transform(playerPoints[['points']])"
   ]
  },
  {
   "cell_type": "code",
   "execution_count": 41,
   "metadata": {},
   "outputs": [],
   "source": [
    "dictPlayerPoints = playerPoints.set_index(['player', 'Date']).to_dict('index')"
   ]
  },
  {
   "cell_type": "code",
   "execution_count": 42,
   "metadata": {},
   "outputs": [
    {
     "data": {
      "text/plain": [
       "{('Dosedel S.',\n",
       "  Timestamp('2000-01-03 00:00:00')): {'points': 1316.1072646056189},\n",
       " ('Huet S.', Timestamp('2000-01-03 00:00:00')): {'points': 1316.1072646056189},\n",
       " ('Pozzi G.',\n",
       "  Timestamp('2000-01-03 00:00:00')): {'points': 1316.1072646056189},\n",
       " ('Hrbaty D.', Timestamp('2000-01-03 00:00:00')): {'points': 1206.0},\n",
       " ('Goldstein P.', Timestamp('2000-01-03 00:00:00')): {'points': 435.0},\n",
       " ('Ishii Y.',\n",
       "  Timestamp('2000-01-03 00:00:00')): {'points': 1316.1072646056189},\n",
       " ('Sanchez J.',\n",
       "  Timestamp('2000-01-03 00:00:00')): {'points': 1316.1072646056189},\n",
       " ('Siemerink J.',\n",
       "  Timestamp('2000-01-03 00:00:00')): {'points': 1316.1072646056189},\n",
       " ('Ivanisevic G.',\n",
       "  Timestamp('2000-01-03 00:00:00')): {'points': 1316.1072646056189},\n",
       " ('Vicente F.', Timestamp('2000-01-03 00:00:00')): {'points': 353.0},\n",
       " ('Draper S.',\n",
       "  Timestamp('2000-01-03 00:00:00')): {'points': 1316.1072646056189},\n",
       " ('Blanco G.', Timestamp('2000-01-03 00:00:00')): {'points': 122.0},\n",
       " ('Burgsmuller L.', Timestamp('2000-01-03 00:00:00')): {'points': 464.0},\n",
       " ('Puerta M.', Timestamp('2000-01-03 00:00:00')): {'points': 1611.0},\n",
       " ('Mantilla F.', Timestamp('2000-01-03 00:00:00')): {'points': 454.0},\n",
       " ('Novak J.', Timestamp('2000-01-03 00:00:00')): {'points': 1215.0},\n",
       " ('Al-Alawi S.K.',\n",
       "  Timestamp('2000-01-03 00:00:00')): {'points': 1316.1072646056189},\n",
       " ('Heuberger I.', Timestamp('2000-01-03 00:00:00')): {'points': 221.0},\n",
       " ('Arazi H.',\n",
       "  Timestamp('2000-01-03 00:00:00')): {'points': 1316.1072646056189},\n",
       " ('Dupuis A.', Timestamp('2000-01-03 00:00:00')): {'points': 385.0},\n",
       " ('Luxa P.', Timestamp('2000-01-03 00:00:00')): {'points': 1316.1072646056189},\n",
       " ('Diaz J.', Timestamp('2000-01-03 00:00:00')): {'points': 1316.1072646056189},\n",
       " ('Tebbutt M.',\n",
       "  Timestamp('2000-01-03 00:00:00')): {'points': 1316.1072646056189},\n",
       " ('Ljubicic I.', Timestamp('2000-01-03 00:00:00')): {'points': 1435.0},\n",
       " ('Lopez-Moron A.',\n",
       "  Timestamp('2000-01-03 00:00:00')): {'points': 1316.1072646056189},\n",
       " ('Popp A.', Timestamp('2000-01-03 00:00:00')): {'points': 246.0},\n",
       " ('Rochus C.', Timestamp('2000-01-03 00:00:00')): {'points': 739.0},\n",
       " ('Boutter J.',\n",
       "  Timestamp('2000-01-03 00:00:00')): {'points': 1316.1072646056189},\n",
       " ('Spottl M.',\n",
       "  Timestamp('2000-01-03 00:00:00')): {'points': 1316.1072646056189},\n",
       " ('Tieleman L.',\n",
       "  Timestamp('2000-01-03 00:00:00')): {'points': 1316.1072646056189},\n",
       " ('Kroslak J.',\n",
       "  Timestamp('2000-01-03 00:00:00')): {'points': 1316.1072646056189},\n",
       " ('Ogorodov O.',\n",
       "  Timestamp('2000-01-03 00:00:00')): {'points': 1316.1072646056189},\n",
       " ('Zib T.', Timestamp('2000-01-03 00:00:00')): {'points': 647.0},\n",
       " ('Ram A.', Timestamp('2000-01-03 00:00:00')): {'points': 57.0},\n",
       " ('Voinea A.',\n",
       "  Timestamp('2000-01-03 00:00:00')): {'points': 1316.1072646056189},\n",
       " ('Kilderry P.',\n",
       "  Timestamp('2000-01-03 00:00:00')): {'points': 1316.1072646056189},\n",
       " ('Kafelnikov Y.',\n",
       "  Timestamp('2000-01-03 00:00:00')): {'points': 1316.1072646056189},\n",
       " ('Woodforde M.',\n",
       "  Timestamp('2000-01-03 00:00:00')): {'points': 1316.1072646056189},\n",
       " ('Spadea V.', Timestamp('2000-01-03 00:00:00')): {'points': 730.0},\n",
       " ('Clement A.', Timestamp('2000-01-03 00:00:00')): {'points': 376.0},\n",
       " ('Baccanello P.',\n",
       "  Timestamp('2000-01-03 00:00:00')): {'points': 1316.1072646056189},\n",
       " ('Knippschild J.',\n",
       "  Timestamp('2000-01-03 00:00:00')): {'points': 1316.1072646056189},\n",
       " ('Woodbridge T.',\n",
       "  Timestamp('2000-01-03 00:00:00')): {'points': 1316.1072646056189},\n",
       " ('Arthurs W.', Timestamp('2000-01-03 00:00:00')): {'points': 513.0},\n",
       " ('Ilie A.', Timestamp('2000-01-03 00:00:00')): {'points': 1316.1072646056189},\n",
       " ('Balcells J.',\n",
       "  Timestamp('2000-01-03 00:00:00')): {'points': 1316.1072646056189},\n",
       " ('Tarango J.',\n",
       "  Timestamp('2000-01-03 00:00:00')): {'points': 1316.1072646056189},\n",
       " ('Black B.',\n",
       "  Timestamp('2000-01-03 00:00:00')): {'points': 1316.1072646056189},\n",
       " ('Kumar S.',\n",
       "  Timestamp('2000-01-03 00:00:00')): {'points': 1316.1072646056189},\n",
       " ('van Lottum J.', Timestamp('2000-01-03 00:00:00')): {'points': 48.0},\n",
       " ('Vanek J.', Timestamp('2000-01-03 00:00:00')): {'points': 402.0},\n",
       " ('Squillari F.',\n",
       "  Timestamp('2000-01-03 00:00:00')): {'points': 1316.1072646056189},\n",
       " ('Vacek D.',\n",
       "  Timestamp('2000-01-03 00:00:00')): {'points': 1316.1072646056189},\n",
       " ('Delgado J.', Timestamp('2000-01-03 00:00:00')): {'points': 153.0},\n",
       " ('Tillstrom M.',\n",
       "  Timestamp('2000-01-03 00:00:00')): {'points': 1316.1072646056189},\n",
       " ('Schuettler R.', Timestamp('2000-01-03 00:00:00')): {'points': 485.0},\n",
       " ('Schalken S.', Timestamp('2000-01-03 00:00:00')): {'points': 195.0},\n",
       " ('Hewitt L.', Timestamp('2000-01-03 00:00:00')): {'points': 3455.0},\n",
       " ('Santoro F.', Timestamp('2000-01-03 00:00:00')): {'points': 501.0},\n",
       " ('Marin J.A.', Timestamp('2000-01-03 00:00:00')): {'points': 228.0},\n",
       " ('Ketola T.',\n",
       "  Timestamp('2000-01-03 00:00:00')): {'points': 1316.1072646056189},\n",
       " ('Manta L.',\n",
       "  Timestamp('2000-01-03 00:00:00')): {'points': 1316.1072646056189},\n",
       " ('Sanguinetti D.', Timestamp('2000-01-03 00:00:00')): {'points': 646.0},\n",
       " ('Damm M.', Timestamp('2000-01-03 00:00:00')): {'points': 1316.1072646056189},\n",
       " ('Pioline C.',\n",
       "  Timestamp('2000-01-03 00:00:00')): {'points': 1316.1072646056189},\n",
       " ('Golmard J.',\n",
       "  Timestamp('2000-01-03 00:00:00')): {'points': 1316.1072646056189},\n",
       " ('Mirnyi M.', Timestamp('2000-01-03 00:00:00')): {'points': 1095.0},\n",
       " ('Hantschk M.',\n",
       "  Timestamp('2000-01-03 00:00:00')): {'points': 1316.1072646056189},\n",
       " ('Henman T.', Timestamp('2000-01-03 00:00:00')): {'points': 1580.0},\n",
       " ('Escude N.',\n",
       "  Timestamp('2000-01-03 00:00:00')): {'points': 1316.1072646056189},\n",
       " ('Paes L.', Timestamp('2000-01-03 00:00:00')): {'points': 1316.1072646056189},\n",
       " ('Jonsson F.',\n",
       "  Timestamp('2000-01-03 00:00:00')): {'points': 1316.1072646056189},\n",
       " ('Stanoytchev O.',\n",
       "  Timestamp('2000-01-03 00:00:00')): {'points': 1316.1072646056189},\n",
       " ('Tabara M.', Timestamp('2000-01-03 00:00:00')): {'points': 381.0},\n",
       " ('Federer R.', Timestamp('2000-01-03 00:00:00')): {'points': 6500.0},\n",
       " ('Fromberg R.',\n",
       "  Timestamp('2000-01-03 00:00:00')): {'points': 1316.1072646056189},\n",
       " ('Gambill J.M.', Timestamp('2000-01-03 00:00:00')): {'points': 276.0},\n",
       " ('Grosjean S.', Timestamp('2000-01-03 00:00:00')): {'points': 970.0},\n",
       " ('Vinciguerra A.', Timestamp('2000-01-03 00:00:00')): {'points': 9.0},\n",
       " ('Norman M.',\n",
       "  Timestamp('2000-01-03 00:00:00')): {'points': 1316.1072646056189},\n",
       " ('Martin A.', Timestamp('2000-01-03 00:00:00')): {'points': 712.0},\n",
       " ('Petrovic D.',\n",
       "  Timestamp('2000-01-03 00:00:00')): {'points': 1316.1072646056189},\n",
       " ('Sekulov J.',\n",
       "  Timestamp('2000-01-03 00:00:00')): {'points': 1316.1072646056189},\n",
       " ('Stoltenberg J.',\n",
       "  Timestamp('2000-01-03 00:00:00')): {'points': 1316.1072646056189},\n",
       " ('Vinck C.',\n",
       "  Timestamp('2000-01-03 00:00:00')): {'points': 1316.1072646056189},\n",
       " ('Enqvist T.', Timestamp('2000-01-03 00:00:00')): {'points': 257.0},\n",
       " ('Lisnard J.', Timestamp('2000-01-03 00:00:00')): {'points': 393.0},\n",
       " ('Behrend T.', Timestamp('2000-01-03 00:00:00')): {'points': 481.0},\n",
       " ('Bastl G.', Timestamp('2000-01-03 00:00:00')): {'points': 330.0},\n",
       " ('Caratti C.',\n",
       "  Timestamp('2000-01-03 00:00:00')): {'points': 1316.1072646056189},\n",
       " ('Berasategui A.',\n",
       "  Timestamp('2000-01-03 00:00:00')): {'points': 1316.1072646056189},\n",
       " ('Kiefer N.', Timestamp('2000-01-03 00:00:00')): {'points': 1185.0},\n",
       " ('Agenor R.',\n",
       "  Timestamp('2000-01-03 00:00:00')): {'points': 1316.1072646056189},\n",
       " ('El Aynaoui Y.', Timestamp('2000-01-03 00:00:00')): {'points': 64.0},\n",
       " ('Cherkasov A.',\n",
       "  Timestamp('2000-01-03 00:00:00')): {'points': 1316.1072646056189},\n",
       " ('Gaudio G.', Timestamp('2000-01-03 00:00:00')): {'points': 1590.0},\n",
       " ('Safin M.', Timestamp('2000-01-10 00:00:00')): {'points': 3160.0},\n",
       " ('El Aynaoui Y.', Timestamp('2000-01-10 00:00:00')): {'points': 64.0},\n",
       " ('Damm M.', Timestamp('2000-01-10 00:00:00')): {'points': 1316.1072646056189},\n",
       " ('Meligeni F.',\n",
       "  Timestamp('2000-01-10 00:00:00')): {'points': 1316.1072646056189},\n",
       " ('Woodforde M.',\n",
       "  Timestamp('2000-01-10 00:00:00')): {'points': 1316.1072646056189},\n",
       " ('Kuerten G.', Timestamp('2000-01-10 00:00:00')): {'points': 185.0},\n",
       " ('Grosjean S.', Timestamp('2000-01-10 00:00:00')): {'points': 970.0},\n",
       " ('Pioline C.',\n",
       "  Timestamp('2000-01-10 00:00:00')): {'points': 1316.1072646056189},\n",
       " ('Lisnard J.', Timestamp('2000-01-10 00:00:00')): {'points': 393.0},\n",
       " ('Zabaleta M.', Timestamp('2000-01-10 00:00:00')): {'points': 595.0},\n",
       " ('Costa A.', Timestamp('2000-01-10 00:00:00')): {'points': 410.0},\n",
       " ('Spadea V.', Timestamp('2000-01-10 00:00:00')): {'points': 730.0},\n",
       " ('Diaz J.', Timestamp('2000-01-10 00:00:00')): {'points': 1316.1072646056189},\n",
       " ('Medvedev A.',\n",
       "  Timestamp('2000-01-10 00:00:00')): {'points': 1316.1072646056189},\n",
       " ('Ullyett K.',\n",
       "  Timestamp('2000-01-10 00:00:00')): {'points': 1316.1072646056189},\n",
       " ('Woodruff C.',\n",
       "  Timestamp('2000-01-10 00:00:00')): {'points': 1316.1072646056189},\n",
       " ('Hantschk M.',\n",
       "  Timestamp('2000-01-10 00:00:00')): {'points': 1316.1072646056189},\n",
       " ('Escude N.',\n",
       "  Timestamp('2000-01-10 00:00:00')): {'points': 1316.1072646056189},\n",
       " ('Squillari F.',\n",
       "  Timestamp('2000-01-10 00:00:00')): {'points': 1316.1072646056189},\n",
       " ('Ivanisevic G.',\n",
       "  Timestamp('2000-01-10 00:00:00')): {'points': 1316.1072646056189},\n",
       " ('Vicente F.', Timestamp('2000-01-10 00:00:00')): {'points': 353.0},\n",
       " ('Bjorkman J.', Timestamp('2000-01-10 00:00:00')): {'points': 403.0},\n",
       " ('Costa F.',\n",
       "  Timestamp('2000-01-10 00:00:00')): {'points': 1316.1072646056189},\n",
       " ('Mantilla F.', Timestamp('2000-01-10 00:00:00')): {'points': 454.0},\n",
       " ('Berasategui A.',\n",
       "  Timestamp('2000-01-10 00:00:00')): {'points': 1316.1072646056189},\n",
       " ('Tarango J.',\n",
       "  Timestamp('2000-01-10 00:00:00')): {'points': 1316.1072646056189},\n",
       " ('Stoltenberg J.',\n",
       "  Timestamp('2000-01-10 00:00:00')): {'points': 1316.1072646056189},\n",
       " ('Nielsen M.', Timestamp('2000-01-10 00:00:00')): {'points': 105.0},\n",
       " ('Sargsian S.', Timestamp('2000-01-10 00:00:00')): {'points': 394.0},\n",
       " ('Fromberg R.',\n",
       "  Timestamp('2000-01-10 00:00:00')): {'points': 1316.1072646056189},\n",
       " ('Federer R.', Timestamp('2000-01-10 00:00:00')): {'points': 6500.0},\n",
       " ('Weiner G.', Timestamp('2000-01-10 00:00:00')): {'points': 192.0},\n",
       " ('Black B.',\n",
       "  Timestamp('2000-01-10 00:00:00')): {'points': 1316.1072646056189},\n",
       " ('Martin T.',\n",
       "  Timestamp('2000-01-10 00:00:00')): {'points': 1316.1072646056189},\n",
       " ('Novak J.', Timestamp('2000-01-10 00:00:00')): {'points': 1215.0},\n",
       " ('Sell M.', Timestamp('2000-01-10 00:00:00')): {'points': 1316.1072646056189},\n",
       " ('Balcells J.',\n",
       "  Timestamp('2000-01-10 00:00:00')): {'points': 1316.1072646056189},\n",
       " ('Schalken S.', Timestamp('2000-01-10 00:00:00')): {'points': 195.0},\n",
       " ('Rosset M.',\n",
       "  Timestamp('2000-01-10 00:00:00')): {'points': 1316.1072646056189},\n",
       " ('Martin A.', Timestamp('2000-01-10 00:00:00')): {'points': 712.0},\n",
       " ('Johansson T.', Timestamp('2000-01-10 00:00:00')): {'points': 1470.0},\n",
       " ('Haas T.', Timestamp('2000-01-10 00:00:00')): {'points': 1180.0},\n",
       " ('Gustafsson M.',\n",
       "  Timestamp('2000-01-10 00:00:00')): {'points': 1316.1072646056189},\n",
       " ('Gaudio G.', Timestamp('2000-01-10 00:00:00')): {'points': 1590.0},\n",
       " ('Gambill J.M.', Timestamp('2000-01-10 00:00:00')): {'points': 276.0},\n",
       " ('Chang M.',\n",
       "  Timestamp('2000-01-10 00:00:00')): {'points': 1316.1072646056189},\n",
       " ('Behrend T.', Timestamp('2000-01-10 00:00:00')): {'points': 481.0},\n",
       " ('Norman M.',\n",
       "  Timestamp('2000-01-10 00:00:00')): {'points': 1316.1072646056189},\n",
       " ('van Lottum J.', Timestamp('2000-01-10 00:00:00')): {'points': 48.0},\n",
       " ('Ferrero J.C.', Timestamp('2000-01-10 00:00:00')): {'points': 1150.0},\n",
       " ('Clavet F.',\n",
       "  Timestamp('2000-01-10 00:00:00')): {'points': 1316.1072646056189},\n",
       " ('Ljubicic I.', Timestamp('2000-01-10 00:00:00')): {'points': 1435.0},\n",
       " ('Lapentti N.', Timestamp('2000-01-10 00:00:00')): {'points': 410.0},\n",
       " ('Kucera K.', Timestamp('2000-01-10 00:00:00')): {'points': 279.0},\n",
       " ('Arazi H.',\n",
       "  Timestamp('2000-01-10 00:00:00')): {'points': 1316.1072646056189},\n",
       " ('Dosedel S.',\n",
       "  Timestamp('2000-01-10 00:00:00')): {'points': 1316.1072646056189},\n",
       " ('Hrbaty D.', Timestamp('2000-01-10 00:00:00')): {'points': 1206.0},\n",
       " ('Koubek S.', Timestamp('2000-01-10 00:00:00')): {'points': 488.0},\n",
       " ('Corretja A.',\n",
       "  Timestamp('2000-01-10 00:00:00')): {'points': 1316.1072646056189},\n",
       " ('Vacek D.',\n",
       "  Timestamp('2000-01-10 00:00:00')): {'points': 1316.1072646056189},\n",
       " ('Clement A.', Timestamp('2000-01-10 00:00:00')): {'points': 376.0},\n",
       " ('Ilie A.', Timestamp('2000-01-10 00:00:00')): {'points': 1316.1072646056189},\n",
       " ('Voinea A.',\n",
       "  Timestamp('2000-01-10 00:00:00')): {'points': 1316.1072646056189},\n",
       " ('Hewitt L.', Timestamp('2000-01-10 00:00:00')): {'points': 3455.0},\n",
       " ('Hrbaty D.', Timestamp('2000-01-17 00:00:00')): {'points': 1206.0},\n",
       " ('Santoro F.', Timestamp('2000-01-17 00:00:00')): {'points': 501.0},\n",
       " ('Gambill J.M.', Timestamp('2000-01-17 00:00:00')): {'points': 276.0},\n",
       " ('Stoltenberg J.',\n",
       "  Timestamp('2000-01-17 00:00:00')): {'points': 1316.1072646056189},\n",
       " ('Meligeni F.',\n",
       "  Timestamp('2000-01-17 00:00:00')): {'points': 1316.1072646056189},\n",
       " ('Alonso J.',\n",
       "  Timestamp('2000-01-17 00:00:00')): {'points': 1316.1072646056189},\n",
       " ('Manta L.',\n",
       "  Timestamp('2000-01-17 00:00:00')): {'points': 1316.1072646056189},\n",
       " ('Puerta M.', Timestamp('2000-01-17 00:00:00')): {'points': 1611.0},\n",
       " ('Mantilla F.', Timestamp('2000-01-17 00:00:00')): {'points': 454.0},\n",
       " ('Lopez-Moron A.',\n",
       "  Timestamp('2000-01-17 00:00:00')): {'points': 1316.1072646056189},\n",
       " ('Tieleman L.',\n",
       "  Timestamp('2000-01-17 00:00:00')): {'points': 1316.1072646056189},\n",
       " ('Gaudio G.', Timestamp('2000-01-17 00:00:00')): {'points': 1590.0},\n",
       " ('Sanguinetti D.', Timestamp('2000-01-17 00:00:00')): {'points': 646.0},\n",
       " ('Medvedev A.',\n",
       "  Timestamp('2000-01-17 00:00:00')): {'points': 1316.1072646056189},\n",
       " ('Siemerink J.',\n",
       "  Timestamp('2000-01-17 00:00:00')): {'points': 1316.1072646056189},\n",
       " ('Spadea V.', Timestamp('2000-01-17 00:00:00')): {'points': 730.0},\n",
       " ('Gumy H.', Timestamp('2000-01-17 00:00:00')): {'points': 1316.1072646056189},\n",
       " ('Berasategui A.',\n",
       "  Timestamp('2000-01-17 00:00:00')): {'points': 1316.1072646056189},\n",
       " ('Stanoytchev O.',\n",
       "  Timestamp('2000-01-17 00:00:00')): {'points': 1316.1072646056189},\n",
       " ('Tabara M.', Timestamp('2000-01-17 00:00:00')): {'points': 381.0},\n",
       " ('van Lottum J.', Timestamp('2000-01-17 00:00:00')): {'points': 48.0},\n",
       " ('Sargsian S.', Timestamp('2000-01-17 00:00:00')): {'points': 394.0},\n",
       " ('Boutter J.',\n",
       "  Timestamp('2000-01-17 00:00:00')): {'points': 1316.1072646056189},\n",
       " ('Diaz J.', Timestamp('2000-01-17 00:00:00')): {'points': 1316.1072646056189},\n",
       " ('Parmar A.', Timestamp('2000-01-17 00:00:00')): {'points': 152.0},\n",
       " ('Mirnyi M.', Timestamp('2000-01-17 00:00:00')): {'points': 1095.0},\n",
       " ('Arazi H.',\n",
       "  Timestamp('2000-01-17 00:00:00')): {'points': 1316.1072646056189},\n",
       " ('Safin M.', Timestamp('2000-01-17 00:00:00')): {'points': 3160.0},\n",
       " ('Damm M.', Timestamp('2000-01-17 00:00:00')): {'points': 1316.1072646056189},\n",
       " ('Cadart R.',\n",
       "  Timestamp('2000-01-17 00:00:00')): {'points': 1316.1072646056189},\n",
       " ('Canas G.', Timestamp('2000-01-17 00:00:00')): {'points': 404.0},\n",
       " ('Knippschild J.',\n",
       "  Timestamp('2000-01-17 00:00:00')): {'points': 1316.1072646056189},\n",
       " ('Lareau S.',\n",
       "  Timestamp('2000-01-17 00:00:00')): {'points': 1316.1072646056189},\n",
       " ('Kulti N.',\n",
       "  Timestamp('2000-01-17 00:00:00')): {'points': 1316.1072646056189},\n",
       " ('Pioline C.',\n",
       "  Timestamp('2000-01-17 00:00:00')): {'points': 1316.1072646056189},\n",
       " ('Tarango J.',\n",
       "  Timestamp('2000-01-17 00:00:00')): {'points': 1316.1072646056189},\n",
       " ('Karbacher B.',\n",
       "  Timestamp('2000-01-17 00:00:00')): {'points': 1316.1072646056189},\n",
       " ('Goldstein P.', Timestamp('2000-01-17 00:00:00')): {'points': 435.0},\n",
       " ('Golmard J.',\n",
       "  Timestamp('2000-01-17 00:00:00')): {'points': 1316.1072646056189},\n",
       " ('Saulnier C.', Timestamp('2000-01-17 00:00:00')): {'points': 733.0},\n",
       " ('Motomura G.', Timestamp('2000-01-17 00:00:00')): {'points': 129.0},\n",
       " ('Enqvist T.', Timestamp('2000-01-17 00:00:00')): {'points': 257.0},\n",
       " ('Draper S.',\n",
       "  Timestamp('2000-01-17 00:00:00')): {'points': 1316.1072646056189},\n",
       " ('Bastl G.', Timestamp('2000-01-17 00:00:00')): {'points': 330.0},\n",
       " ('Chang M.',\n",
       "  Timestamp('2000-01-17 00:00:00')): {'points': 1316.1072646056189},\n",
       " ('Courier J.',\n",
       "  Timestamp('2000-01-17 00:00:00')): {'points': 1316.1072646056189},\n",
       " ('Rodriguez M.',\n",
       "  Timestamp('2000-01-17 00:00:00')): {'points': 1316.1072646056189},\n",
       " ('Martin A.', Timestamp('2000-01-17 00:00:00')): {'points': 712.0},\n",
       " ('Kucera K.', Timestamp('2000-01-17 00:00:00')): {'points': 279.0},\n",
       " ('Sirianni J.', Timestamp('2000-01-17 00:00:00')): {'points': 43.0},\n",
       " ('Krajicek R.',\n",
       "  Timestamp('2000-01-17 00:00:00')): {'points': 1316.1072646056189},\n",
       " ('Behrend T.', Timestamp('2000-01-17 00:00:00')): {'points': 481.0},\n",
       " ('Dupuis A.', Timestamp('2000-01-17 00:00:00')): {'points': 385.0},\n",
       " ('Haas T.', Timestamp('2000-01-17 00:00:00')): {'points': 1180.0},\n",
       " ('Hill M.', Timestamp('2000-01-17 00:00:00')): {'points': 1316.1072646056189},\n",
       " ('Ivanisevic G.',\n",
       "  Timestamp('2000-01-17 00:00:00')): {'points': 1316.1072646056189},\n",
       " ('Johansson T.', Timestamp('2000-01-17 00:00:00')): {'points': 1470.0},\n",
       " ('Kroslak J.',\n",
       "  Timestamp('2000-01-17 00:00:00')): {'points': 1316.1072646056189},\n",
       " ('Jonsson F.',\n",
       "  Timestamp('2000-01-17 00:00:00')): {'points': 1316.1072646056189},\n",
       " ('Agassi A.', Timestamp('2000-01-17 00:00:00')): {'points': 2275.0},\n",
       " ('Alami K.',\n",
       "  Timestamp('2000-01-17 00:00:00')): {'points': 1316.1072646056189},\n",
       " ('Zabaleta M.', Timestamp('2000-01-17 00:00:00')): {'points': 595.0},\n",
       " ('Hewitt L.', Timestamp('2000-01-17 00:00:00')): {'points': 3455.0},\n",
       " ('Woodruff C.',\n",
       "  Timestamp('2000-01-17 00:00:00')): {'points': 1316.1072646056189},\n",
       " ('Bjorkman J.', Timestamp('2000-01-17 00:00:00')): {'points': 403.0},\n",
       " ('Black W.',\n",
       "  Timestamp('2000-01-17 00:00:00')): {'points': 1316.1072646056189},\n",
       " ('Stafford G.',\n",
       "  Timestamp('2000-01-17 00:00:00')): {'points': 1316.1072646056189},\n",
       " ('Clavet F.',\n",
       "  Timestamp('2000-01-17 00:00:00')): {'points': 1316.1072646056189},\n",
       " ('Corretja A.',\n",
       "  Timestamp('2000-01-17 00:00:00')): {'points': 1316.1072646056189},\n",
       " ('Woodforde M.',\n",
       "  Timestamp('2000-01-17 00:00:00')): {'points': 1316.1072646056189},\n",
       " ('Srichaphan P.', Timestamp('2000-01-17 00:00:00')): {'points': 800.0},\n",
       " ('Sluiter R.', Timestamp('2000-01-17 00:00:00')): {'points': 364.0},\n",
       " ('Sekulov J.',\n",
       "  Timestamp('2000-01-17 00:00:00')): {'points': 1316.1072646056189},\n",
       " ('Vanek J.', Timestamp('2000-01-17 00:00:00')): {'points': 402.0},\n",
       " ('Schalken S.', Timestamp('2000-01-17 00:00:00')): {'points': 195.0},\n",
       " ('Schuettler R.', Timestamp('2000-01-17 00:00:00')): {'points': 485.0},\n",
       " ('Novak J.', Timestamp('2000-01-17 00:00:00')): {'points': 1215.0},\n",
       " ('Llodra M.', Timestamp('2000-01-17 00:00:00')): {'points': 525.0},\n",
       " ('Portas A.', Timestamp('2000-01-17 00:00:00')): {'points': 315.0},\n",
       " ('Pretzsch A.',\n",
       "  Timestamp('2000-01-17 00:00:00')): {'points': 1316.1072646056189},\n",
       " ('Rosset M.',\n",
       "  Timestamp('2000-01-17 00:00:00')): {'points': 1316.1072646056189},\n",
       " ('Pozzi G.',\n",
       "  Timestamp('2000-01-17 00:00:00')): {'points': 1316.1072646056189},\n",
       " ('Ullyett K.',\n",
       "  Timestamp('2000-01-17 00:00:00')): {'points': 1316.1072646056189},\n",
       " ('Vacek D.',\n",
       "  Timestamp('2000-01-17 00:00:00')): {'points': 1316.1072646056189},\n",
       " ('Woodbridge T.',\n",
       "  Timestamp('2000-01-17 00:00:00')): {'points': 1316.1072646056189},\n",
       " ('Lapentti N.', Timestamp('2000-01-17 00:00:00')): {'points': 410.0},\n",
       " ('Paes L.', Timestamp('2000-01-17 00:00:00')): {'points': 1316.1072646056189},\n",
       " ('Tillstrom M.',\n",
       "  Timestamp('2000-01-17 00:00:00')): {'points': 1316.1072646056189},\n",
       " ('Clement A.', Timestamp('2000-01-17 00:00:00')): {'points': 376.0},\n",
       " ('El Aynaoui Y.', Timestamp('2000-01-17 00:00:00')): {'points': 64.0},\n",
       " ('Zib T.', Timestamp('2000-01-17 00:00:00')): {'points': 647.0},\n",
       " ('Arthurs W.', Timestamp('2000-01-17 00:00:00')): {'points': 513.0},\n",
       " ('Delgado J.', Timestamp('2000-01-17 00:00:00')): {'points': 153.0},\n",
       " ('Costa A.', Timestamp('2000-01-17 00:00:00')): {'points': 410.0},\n",
       " (\"O'Brien A.\",\n",
       "  Timestamp('2000-01-17 00:00:00')): {'points': 1316.1072646056189},\n",
       " ('Petrovic D.',\n",
       "  Timestamp('2000-01-17 00:00:00')): {'points': 1316.1072646056189},\n",
       " ('Kuerten G.', Timestamp('2000-01-17 00:00:00')): {'points': 185.0},\n",
       " ('Black B.',\n",
       "  Timestamp('2000-01-17 00:00:00')): {'points': 1316.1072646056189},\n",
       " ('Okun N.', Timestamp('2000-01-17 00:00:00')): {'points': 294.0},\n",
       " ('Hipfl M.',\n",
       "  Timestamp('2000-01-17 00:00:00')): {'points': 1316.1072646056189},\n",
       " ('Mamiit C.', Timestamp('2000-01-17 00:00:00')): {'points': 154.0},\n",
       " ('Marin J.A.', Timestamp('2000-01-17 00:00:00')): {'points': 228.0},\n",
       " ('Blanco G.', Timestamp('2000-01-17 00:00:00')): {'points': 122.0},\n",
       " ('Wessels P.', Timestamp('2000-01-17 00:00:00')): {'points': 413.0},\n",
       " ('Ljubicic I.', Timestamp('2000-01-17 00:00:00')): {'points': 1435.0},\n",
       " ('Gaudenzi A.',\n",
       "  Timestamp('2000-01-17 00:00:00')): {'points': 1316.1072646056189},\n",
       " ('Agenor R.',\n",
       "  Timestamp('2000-01-17 00:00:00')): {'points': 1316.1072646056189},\n",
       " ('Dosedel S.',\n",
       "  Timestamp('2000-01-17 00:00:00')): {'points': 1316.1072646056189},\n",
       " ('Kiefer N.', Timestamp('2000-01-17 00:00:00')): {'points': 1185.0},\n",
       " ('Norman M.',\n",
       "  Timestamp('2000-01-17 00:00:00')): {'points': 1316.1072646056189},\n",
       " ('Escude N.',\n",
       "  Timestamp('2000-01-17 00:00:00')): {'points': 1316.1072646056189},\n",
       " ('Ferreira W.',\n",
       "  Timestamp('2000-01-17 00:00:00')): {'points': 1316.1072646056189},\n",
       " ('Ferrero J.C.', Timestamp('2000-01-17 00:00:00')): {'points': 1150.0},\n",
       " ('Fromberg R.',\n",
       "  Timestamp('2000-01-17 00:00:00')): {'points': 1316.1072646056189},\n",
       " ('Grosjean S.', Timestamp('2000-01-17 00:00:00')): {'points': 970.0},\n",
       " ('Henman T.', Timestamp('2000-01-17 00:00:00')): {'points': 1580.0},\n",
       " ('Federer R.', Timestamp('2000-01-17 00:00:00')): {'points': 6500.0},\n",
       " ('Koubek S.', Timestamp('2000-01-17 00:00:00')): {'points': 488.0},\n",
       " ('Ilie A.', Timestamp('2000-01-17 00:00:00')): {'points': 1316.1072646056189},\n",
       " ('Kafelnikov Y.',\n",
       "  Timestamp('2000-01-17 00:00:00')): {'points': 1316.1072646056189},\n",
       " ('Vinciguerra A.', Timestamp('2000-01-17 00:00:00')): {'points': 9.0},\n",
       " ('Vicente F.', Timestamp('2000-01-17 00:00:00')): {'points': 353.0},\n",
       " ('Squillari F.',\n",
       "  Timestamp('2000-01-17 00:00:00')): {'points': 1316.1072646056189},\n",
       " ('Sampras P.',\n",
       "  Timestamp('2000-01-17 00:00:00')): {'points': 1316.1072646056189},\n",
       " ('Rochus C.', Timestamp('2000-01-17 00:00:00')): {'points': 739.0},\n",
       " ('Voinea A.',\n",
       "  Timestamp('2000-01-17 00:00:00')): {'points': 1316.1072646056189},\n",
       " ('Philippoussis M.', Timestamp('2000-01-17 00:00:00')): {'points': 188.0},\n",
       " ('Martin T.',\n",
       "  Timestamp('2000-01-17 00:00:00')): {'points': 1316.1072646056189},\n",
       " ('Damm M.', Timestamp('2000-02-07 00:00:00')): {'points': 1316.1072646056189},\n",
       " ('Pretzsch A.',\n",
       "  Timestamp('2000-02-07 00:00:00')): {'points': 1316.1072646056189},\n",
       " ('Tarango J.',\n",
       "  Timestamp('2000-02-07 00:00:00')): {'points': 1316.1072646056189},\n",
       " ('Alvarez E.',\n",
       "  Timestamp('2000-02-07 00:00:00')): {'points': 1316.1072646056189},\n",
       " ('Prinosil D.',\n",
       "  Timestamp('2000-02-07 00:00:00')): {'points': 1316.1072646056189},\n",
       " ('Paes L.', Timestamp('2000-02-07 00:00:00')): {'points': 1316.1072646056189},\n",
       " ('Raoux G.',\n",
       "  Timestamp('2000-02-07 00:00:00')): {'points': 1316.1072646056189},\n",
       " ('Dupuis A.', Timestamp('2000-02-07 00:00:00')): {'points': 385.0},\n",
       " ('Tieleman L.',\n",
       "  Timestamp('2000-02-07 00:00:00')): {'points': 1316.1072646056189},\n",
       " ('Alonso J.',\n",
       "  Timestamp('2000-02-07 00:00:00')): {'points': 1316.1072646056189},\n",
       " ('Canas G.', Timestamp('2000-02-07 00:00:00')): {'points': 404.0},\n",
       " ('van Lottum J.', Timestamp('2000-02-07 00:00:00')): {'points': 48.0},\n",
       " ('Squillari F.',\n",
       "  Timestamp('2000-02-07 00:00:00')): {'points': 1316.1072646056189},\n",
       " ('Humphries S.',\n",
       "  Timestamp('2000-02-07 00:00:00')): {'points': 1316.1072646056189},\n",
       " ('Massu N.', Timestamp('2000-02-07 00:00:00')): {'points': 1165.0},\n",
       " ('Fromberg R.',\n",
       "  Timestamp('2000-02-07 00:00:00')): {'points': 1316.1072646056189},\n",
       " ('Rodriguez M.',\n",
       "  Timestamp('2000-02-07 00:00:00')): {'points': 1316.1072646056189},\n",
       " ('Woodbridge T.',\n",
       "  Timestamp('2000-02-07 00:00:00')): {'points': 1316.1072646056189},\n",
       " ('King P.', Timestamp('2000-02-07 00:00:00')): {'points': 82.0},\n",
       " ('Srichaphan P.', Timestamp('2000-02-07 00:00:00')): {'points': 800.0},\n",
       " ('Taino E.', Timestamp('2000-02-07 00:00:00')): {'points': 141.0},\n",
       " ('Black B.',\n",
       "  Timestamp('2000-02-07 00:00:00')): {'points': 1316.1072646056189},\n",
       " ('Gross O.',\n",
       "  Timestamp('2000-02-07 00:00:00')): {'points': 1316.1072646056189},\n",
       " ('Burgsmuller L.', Timestamp('2000-02-07 00:00:00')): {'points': 464.0},\n",
       " ('Clavet F.',\n",
       "  Timestamp('2000-02-07 00:00:00')): {'points': 1316.1072646056189},\n",
       " ('Portas A.', Timestamp('2000-02-07 00:00:00')): {'points': 315.0},\n",
       " ('Bjorkman J.', Timestamp('2000-02-07 00:00:00')): {'points': 403.0},\n",
       " ('Knippschild J.',\n",
       "  Timestamp('2000-02-07 00:00:00')): {'points': 1316.1072646056189},\n",
       " ('di Pasquale A.',\n",
       "  Timestamp('2000-02-07 00:00:00')): {'points': 1316.1072646056189},\n",
       " ('Stanoytchev O.',\n",
       "  Timestamp('2000-02-07 00:00:00')): {'points': 1316.1072646056189},\n",
       " ('Saulnier C.', Timestamp('2000-02-07 00:00:00')): {'points': 733.0},\n",
       " ('Bastl G.', Timestamp('2000-02-07 00:00:00')): {'points': 330.0},\n",
       " ('Pozzi G.',\n",
       "  Timestamp('2000-02-07 00:00:00')): {'points': 1316.1072646056189},\n",
       " ('Hrbaty D.', Timestamp('2000-02-07 00:00:00')): {'points': 1206.0},\n",
       " ('Salzenstein J.', Timestamp('2000-02-07 00:00:00')): {'points': 61.0},\n",
       " ('Voinea A.',\n",
       "  Timestamp('2000-02-07 00:00:00')): {'points': 1316.1072646056189},\n",
       " ('Wessels P.', Timestamp('2000-02-07 00:00:00')): {'points': 413.0},\n",
       " ('Vacek D.',\n",
       "  Timestamp('2000-02-07 00:00:00')): {'points': 1316.1072646056189},\n",
       " ('Marin J.A.', Timestamp('2000-02-07 00:00:00')): {'points': 228.0},\n",
       " ('Norman M.',\n",
       "  Timestamp('2000-02-07 00:00:00')): {'points': 1316.1072646056189},\n",
       " ('Schuettler R.', Timestamp('2000-02-07 00:00:00')): {'points': 485.0},\n",
       " ('Safin M.', Timestamp('2000-02-07 00:00:00')): {'points': 3160.0},\n",
       " ('Schalken S.', Timestamp('2000-02-07 00:00:00')): {'points': 195.0},\n",
       " ('Berasategui A.',\n",
       "  Timestamp('2000-02-07 00:00:00')): {'points': 1316.1072646056189},\n",
       " ('Ilie A.', Timestamp('2000-02-07 00:00:00')): {'points': 1316.1072646056189},\n",
       " ('Arthurs W.', Timestamp('2000-02-07 00:00:00')): {'points': 513.0},\n",
       " ('Blake J.', Timestamp('2000-02-07 00:00:00')): {'points': 400.0},\n",
       " ('Gambill J.M.', Timestamp('2000-02-07 00:00:00')): {'points': 276.0},\n",
       " ('Kafelnikov Y.',\n",
       "  Timestamp('2000-02-07 00:00:00')): {'points': 1316.1072646056189},\n",
       " ('Ferrero J.C.', Timestamp('2000-02-07 00:00:00')): {'points': 1150.0},\n",
       " ('El Aynaoui Y.', Timestamp('2000-02-07 00:00:00')): {'points': 64.0},\n",
       " ('Costa A.', Timestamp('2000-02-07 00:00:00')): {'points': 410.0},\n",
       " ('Alami K.',\n",
       "  Timestamp('2000-02-07 00:00:00')): {'points': 1316.1072646056189},\n",
       " ('Vicente F.', Timestamp('2000-02-07 00:00:00')): {'points': 353.0},\n",
       " ('Pavel A.', Timestamp('2000-02-07 00:00:00')): {'points': 825.0},\n",
       " ('Diaz J.', Timestamp('2000-02-07 00:00:00')): {'points': 1316.1072646056189},\n",
       " ('Martin A.', Timestamp('2000-02-07 00:00:00')): {'points': 712.0},\n",
       " ('Mantilla F.', Timestamp('2000-02-07 00:00:00')): {'points': 454.0},\n",
       " ('Golmard J.',\n",
       "  Timestamp('2000-02-07 00:00:00')): {'points': 1316.1072646056189},\n",
       " ('Lapentti N.', Timestamp('2000-02-07 00:00:00')): {'points': 410.0},\n",
       " ('Kiefer N.', Timestamp('2000-02-07 00:00:00')): {'points': 1185.0},\n",
       " ('Blanco G.', Timestamp('2000-02-07 00:00:00')): {'points': 122.0},\n",
       " ('Arazi H.',\n",
       "  Timestamp('2000-02-07 00:00:00')): {'points': 1316.1072646056189},\n",
       " ('Koubek S.', Timestamp('2000-02-07 00:00:00')): {'points': 488.0},\n",
       " ('Black W.',\n",
       "  Timestamp('2000-02-07 00:00:00')): {'points': 1316.1072646056189},\n",
       " ('Kroslak J.',\n",
       "  Timestamp('2000-02-07 00:00:00')): {'points': 1316.1072646056189},\n",
       " ('Johansson T.', Timestamp('2000-02-07 00:00:00')): {'points': 1470.0},\n",
       " ('Roux L.', Timestamp('2000-02-07 00:00:00')): {'points': 1316.1072646056189},\n",
       " ('Clement A.', Timestamp('2000-02-07 00:00:00')): {'points': 376.0},\n",
       " ('Enqvist T.', Timestamp('2000-02-07 00:00:00')): {'points': 257.0},\n",
       " ('Siemerink J.',\n",
       "  Timestamp('2000-02-07 00:00:00')): {'points': 1316.1072646056189},\n",
       " ('Liukko V.',\n",
       "  Timestamp('2000-02-07 00:00:00')): {'points': 1316.1072646056189},\n",
       " ('Novak J.', Timestamp('2000-02-07 00:00:00')): {'points': 1215.0},\n",
       " ('Sargsian S.', Timestamp('2000-02-07 00:00:00')): {'points': 394.0},\n",
       " ('Ferreira W.',\n",
       "  Timestamp('2000-02-07 00:00:00')): {'points': 1316.1072646056189},\n",
       " ('Gimelstob J.', Timestamp('2000-02-07 00:00:00')): {'points': 428.0},\n",
       " ('Goldstein P.', Timestamp('2000-02-07 00:00:00')): {'points': 435.0},\n",
       " ('Mamiit C.', Timestamp('2000-02-07 00:00:00')): {'points': 154.0},\n",
       " ('Chang M.',\n",
       "  Timestamp('2000-02-07 00:00:00')): {'points': 1316.1072646056189},\n",
       " ('Agenor R.',\n",
       "  Timestamp('2000-02-07 00:00:00')): {'points': 1316.1072646056189},\n",
       " ('Rosset M.',\n",
       "  Timestamp('2000-02-07 00:00:00')): {'points': 1316.1072646056189},\n",
       " ('Federer R.', Timestamp('2000-02-07 00:00:00')): {'points': 6500.0},\n",
       " ('Vinciguerra A.', Timestamp('2000-02-07 00:00:00')): {'points': 9.0},\n",
       " ('Grosjean S.', Timestamp('2000-02-07 00:00:00')): {'points': 970.0},\n",
       " ('Courier J.',\n",
       "  Timestamp('2000-02-07 00:00:00')): {'points': 1316.1072646056189},\n",
       " ('Ljubicic I.', Timestamp('2000-02-07 00:00:00')): {'points': 1435.0},\n",
       " ('Santoro F.', Timestamp('2000-02-07 00:00:00')): {'points': 501.0},\n",
       " ('Zib T.', Timestamp('2000-02-07 00:00:00')): {'points': 647.0},\n",
       " ('Malisse X.', Timestamp('2000-02-07 00:00:00')): {'points': 603.0},\n",
       " ('Woodforde M.',\n",
       "  Timestamp('2000-02-07 00:00:00')): {'points': 1316.1072646056189},\n",
       " ('Tillstrom M.',\n",
       "  Timestamp('2000-02-07 00:00:00')): {'points': 1316.1072646056189},\n",
       " ('Larsson M.',\n",
       "  Timestamp('2000-02-07 00:00:00')): {'points': 1316.1072646056189},\n",
       " ('Guardiola T.',\n",
       "  Timestamp('2000-02-07 00:00:00')): {'points': 1316.1072646056189},\n",
       " ('Ivanisevic G.',\n",
       "  Timestamp('2000-02-07 00:00:00')): {'points': 1316.1072646056189},\n",
       " ('Gumy H.', Timestamp('2000-02-07 00:00:00')): {'points': 1316.1072646056189},\n",
       " ('Philippoussis M.', Timestamp('2000-02-07 00:00:00')): {'points': 188.0},\n",
       " ('Hrbaty D.', Timestamp('2000-02-14 00:00:00')): {'points': 1206.0},\n",
       " ('Norman M.',\n",
       "  Timestamp('2000-02-14 00:00:00')): {'points': 1316.1072646056189},\n",
       " ('Golmard J.',\n",
       "  Timestamp('2000-02-14 00:00:00')): {'points': 1316.1072646056189},\n",
       " ('Kiefer N.', Timestamp('2000-02-14 00:00:00')): {'points': 1185.0},\n",
       " ('Kafelnikov Y.',\n",
       "  Timestamp('2000-02-14 00:00:00')): {'points': 1316.1072646056189},\n",
       " ('Henman T.', Timestamp('2000-02-14 00:00:00')): {'points': 1580.0},\n",
       " ('Black B.',\n",
       "  Timestamp('2000-02-14 00:00:00')): {'points': 1316.1072646056189},\n",
       " ('Larsson M.',\n",
       "  Timestamp('2000-02-14 00:00:00')): {'points': 1316.1072646056189},\n",
       " ('Dewulf F.',\n",
       "  Timestamp('2000-02-14 00:00:00')): {'points': 1316.1072646056189},\n",
       " ('Bjorkman J.', Timestamp('2000-02-14 00:00:00')): {'points': 403.0},\n",
       " ('Sa A.', Timestamp('2000-02-14 00:00:00')): {'points': 143.0},\n",
       " ('Haas T.', Timestamp('2000-02-14 00:00:00')): {'points': 1180.0},\n",
       " ('Novak J.', Timestamp('2000-02-14 00:00:00')): {'points': 1215.0},\n",
       " ('Escude N.',\n",
       "  Timestamp('2000-02-14 00:00:00')): {'points': 1316.1072646056189},\n",
       " ('Pioline C.',\n",
       "  Timestamp('2000-02-14 00:00:00')): {'points': 1316.1072646056189},\n",
       " ('Grosjean S.', Timestamp('2000-02-14 00:00:00')): {'points': 970.0},\n",
       " ('Srichaphan P.', Timestamp('2000-02-14 00:00:00')): {'points': 800.0},\n",
       " ('Stanoytchev O.',\n",
       "  Timestamp('2000-02-14 00:00:00')): {'points': 1316.1072646056189},\n",
       " ('Tieleman L.',\n",
       "  Timestamp('2000-02-14 00:00:00')): {'points': 1316.1072646056189},\n",
       " ('Santoro F.', Timestamp('2000-02-14 00:00:00')): {'points': 501.0},\n",
       " ('Gumy H.', Timestamp('2000-02-14 00:00:00')): {'points': 1316.1072646056189},\n",
       " ('Philippoussis M.', Timestamp('2000-02-14 00:00:00')): {'points': 188.0},\n",
       " ('Tillstrom M.',\n",
       "  Timestamp('2000-02-14 00:00:00')): {'points': 1316.1072646056189},\n",
       " ('Woodruff C.',\n",
       "  Timestamp('2000-02-14 00:00:00')): {'points': 1316.1072646056189},\n",
       " ('Fromberg R.',\n",
       "  Timestamp('2000-02-14 00:00:00')): {'points': 1316.1072646056189},\n",
       " ('Gambill J.M.', Timestamp('2000-02-14 00:00:00')): {'points': 276.0},\n",
       " ('Popp A.', Timestamp('2000-02-14 00:00:00')): {'points': 246.0},\n",
       " ('Sanguinetti D.', Timestamp('2000-02-14 00:00:00')): {'points': 646.0},\n",
       " ('Ferreira W.',\n",
       "  Timestamp('2000-02-14 00:00:00')): {'points': 1316.1072646056189},\n",
       " ('MacPhie B.',\n",
       "  Timestamp('2000-02-14 00:00:00')): {'points': 1316.1072646056189},\n",
       " ('Mamiit C.', Timestamp('2000-02-14 00:00:00')): {'points': 154.0},\n",
       " ('Massu N.', Timestamp('2000-02-14 00:00:00')): {'points': 1165.0},\n",
       " ('Pretzsch A.',\n",
       "  Timestamp('2000-02-14 00:00:00')): {'points': 1316.1072646056189},\n",
       " ('Reneberg R.',\n",
       "  Timestamp('2000-02-14 00:00:00')): {'points': 1316.1072646056189},\n",
       " ('Rodriguez M.',\n",
       "  Timestamp('2000-02-14 00:00:00')): {'points': 1316.1072646056189},\n",
       " ('Salzenstein J.', Timestamp('2000-02-14 00:00:00')): {'points': 61.0},\n",
       " ('Chang M.',\n",
       "  Timestamp('2000-02-14 00:00:00')): {'points': 1316.1072646056189},\n",
       " ('Levy H.', Timestamp('2000-02-14 00:00:00')): {'points': 165.0},\n",
       " ('Rusedski G.', Timestamp('2000-02-14 00:00:00')): {'points': 863.0},\n",
       " ('Manta L.',\n",
       "  Timestamp('2000-02-14 00:00:00')): {'points': 1316.1072646056189},\n",
       " ('Siemerink J.',\n",
       "  Timestamp('2000-02-14 00:00:00')): {'points': 1316.1072646056189},\n",
       " ('Alonso J.',\n",
       "  Timestamp('2000-02-14 00:00:00')): {'points': 1316.1072646056189},\n",
       " ('Kucera K.', Timestamp('2000-02-14 00:00:00')): {'points': 279.0},\n",
       " ('Enqvist T.', Timestamp('2000-02-14 00:00:00')): {'points': 257.0},\n",
       " ('Pavel A.', Timestamp('2000-02-14 00:00:00')): {'points': 825.0},\n",
       " ('Alami K.',\n",
       "  Timestamp('2000-02-14 00:00:00')): {'points': 1316.1072646056189},\n",
       " ('Voinea A.',\n",
       "  Timestamp('2000-02-14 00:00:00')): {'points': 1316.1072646056189},\n",
       " ('Prinosil D.',\n",
       "  Timestamp('2000-02-14 00:00:00')): {'points': 1316.1072646056189},\n",
       " ('Wessels P.', Timestamp('2000-02-14 00:00:00')): {'points': 413.0},\n",
       " ('Lapentti N.', Timestamp('2000-02-14 00:00:00')): {'points': 410.0},\n",
       " ('Ivanisevic G.',\n",
       "  Timestamp('2000-02-14 00:00:00')): {'points': 1316.1072646056189},\n",
       " ('Medvedev A.',\n",
       "  Timestamp('2000-02-14 00:00:00')): {'points': 1316.1072646056189},\n",
       " ('Martin A.', Timestamp('2000-02-14 00:00:00')): {'points': 712.0},\n",
       " ('Safin M.', Timestamp('2000-02-14 00:00:00')): {'points': 3160.0},\n",
       " ('Kulti N.',\n",
       "  Timestamp('2000-02-14 00:00:00')): {'points': 1316.1072646056189},\n",
       " ('Vacek D.',\n",
       "  Timestamp('2000-02-14 00:00:00')): {'points': 1316.1072646056189},\n",
       " ('Zabaleta M.', Timestamp('2000-02-14 00:00:00')): {'points': 595.0},\n",
       " ('Schalken S.', Timestamp('2000-02-14 00:00:00')): {'points': 195.0},\n",
       " ('Hantschk M.',\n",
       "  Timestamp('2000-02-14 00:00:00')): {'points': 1316.1072646056189},\n",
       " ('Bryan B.',\n",
       "  Timestamp('2000-02-14 00:00:00')): {'points': 1316.1072646056189},\n",
       " ('Johansson T.', Timestamp('2000-02-14 00:00:00')): {'points': 1470.0},\n",
       " ('Caratti C.',\n",
       "  Timestamp('2000-02-14 00:00:00')): {'points': 1316.1072646056189},\n",
       " ('Lareau S.',\n",
       "  Timestamp('2000-02-14 00:00:00')): {'points': 1316.1072646056189},\n",
       " ('Schuettler R.', Timestamp('2000-02-14 00:00:00')): {'points': 485.0},\n",
       " ('Woodforde M.',\n",
       "  Timestamp('2000-02-14 00:00:00')): {'points': 1316.1072646056189},\n",
       " ('Zib T.', Timestamp('2000-02-14 00:00:00')): {'points': 647.0},\n",
       " ('Sargsian S.', Timestamp('2000-02-14 00:00:00')): {'points': 394.0},\n",
       " ('Spadea V.', Timestamp('2000-02-14 00:00:00')): {'points': 730.0},\n",
       " ('Courier J.',\n",
       "  Timestamp('2000-02-14 00:00:00')): {'points': 1316.1072646056189},\n",
       " ('Behrend T.', Timestamp('2000-02-14 00:00:00')): {'points': 481.0},\n",
       " ('Agenor R.',\n",
       "  Timestamp('2000-02-14 00:00:00')): {'points': 1316.1072646056189},\n",
       " ('Mirnyi M.', Timestamp('2000-02-14 00:00:00')): {'points': 1095.0},\n",
       " ('Jensen L.',\n",
       "  Timestamp('2000-02-14 00:00:00')): {'points': 1316.1072646056189},\n",
       " ('Etlis G.',\n",
       "  Timestamp('2000-02-14 00:00:00')): {'points': 1316.1072646056189},\n",
       " ('Knowles M.',\n",
       "  Timestamp('2000-02-14 00:00:00')): {'points': 1316.1072646056189},\n",
       " ('Goldstein P.', Timestamp('2000-02-14 00:00:00')): {'points': 435.0},\n",
       " ('Gimelstob J.', Timestamp('2000-02-14 00:00:00')): {'points': 428.0},\n",
       " ('Jonsson F.',\n",
       "  Timestamp('2000-02-14 00:00:00')): {'points': 1316.1072646056189},\n",
       " ('Sekulov J.',\n",
       "  Timestamp('2000-02-14 00:00:00')): {'points': 1316.1072646056189},\n",
       " ('Dupuis A.', Timestamp('2000-02-14 00:00:00')): {'points': 385.0},\n",
       " ('Golmard J.',\n",
       "  Timestamp('2000-02-21 00:00:00')): {'points': 1316.1072646056189},\n",
       " ('Canas G.', Timestamp('2000-02-21 00:00:00')): {'points': 404.0},\n",
       " ('Agenor R.',\n",
       "  Timestamp('2000-02-21 00:00:00')): {'points': 1316.1072646056189},\n",
       " ('Fromberg R.',\n",
       "  Timestamp('2000-02-21 00:00:00')): {'points': 1316.1072646056189},\n",
       " ('Federer R.', Timestamp('2000-02-21 00:00:00')): {'points': 6500.0},\n",
       " ('Arazi H.',\n",
       "  Timestamp('2000-02-21 00:00:00')): {'points': 1316.1072646056189},\n",
       " ('Enqvist T.', Timestamp('2000-02-21 00:00:00')): {'points': 257.0},\n",
       " ('Koubek S.', Timestamp('2000-02-21 00:00:00')): {'points': 488.0},\n",
       " ('Rosset M.',\n",
       "  Timestamp('2000-02-21 00:00:00')): {'points': 1316.1072646056189},\n",
       " ('Chela J.I.', Timestamp('2000-02-21 00:00:00')): {'points': 730.0},\n",
       " ('Puerta M.', Timestamp('2000-02-21 00:00:00')): {'points': 1611.0},\n",
       " ('Gaudio G.', Timestamp('2000-02-21 00:00:00')): {'points': 1590.0},\n",
       " ('Gumy H.', Timestamp('2000-02-21 00:00:00')): {'points': 1316.1072646056189},\n",
       " ('Hernandez A.',\n",
       "  Timestamp('2000-02-21 00:00:00')): {'points': 1316.1072646056189},\n",
       " ('Hantschk M.',\n",
       "  Timestamp('2000-02-21 00:00:00')): {'points': 1316.1072646056189},\n",
       " ('Kuerten G.', Timestamp('2000-02-21 00:00:00')): {'points': 185.0},\n",
       " ('Lapentti N.', Timestamp('2000-02-21 00:00:00')): {'points': 410.0},\n",
       " ('Meligeni F.',\n",
       "  Timestamp('2000-02-21 00:00:00')): {'points': 1316.1072646056189},\n",
       " ('Squillari F.',\n",
       "  Timestamp('2000-02-21 00:00:00')): {'points': 1316.1072646056189},\n",
       " ('Ivanisevic G.',\n",
       "  Timestamp('2000-02-21 00:00:00')): {'points': 1316.1072646056189},\n",
       " ('Stanoytchev O.',\n",
       "  Timestamp('2000-02-21 00:00:00')): {'points': 1316.1072646056189},\n",
       " ('Kafelnikov Y.',\n",
       "  Timestamp('2000-02-21 00:00:00')): {'points': 1316.1072646056189},\n",
       " ('Sargsian S.', Timestamp('2000-02-21 00:00:00')): {'points': 394.0},\n",
       " ('Pioline C.',\n",
       "  Timestamp('2000-02-21 00:00:00')): {'points': 1316.1072646056189},\n",
       " ('Pavel A.', Timestamp('2000-02-21 00:00:00')): {'points': 825.0},\n",
       " ('Bjorkman J.', Timestamp('2000-02-21 00:00:00')): {'points': 403.0},\n",
       " ('Schuettler R.', Timestamp('2000-02-21 00:00:00')): {'points': 485.0},\n",
       " ('Safin M.', Timestamp('2000-02-21 00:00:00')): {'points': 3160.0},\n",
       " ('Clement A.', Timestamp('2000-02-21 00:00:00')): {'points': 376.0},\n",
       " ('Ljubicic I.', Timestamp('2000-02-21 00:00:00')): {'points': 1435.0},\n",
       " ('Martin A.', Timestamp('2000-02-21 00:00:00')): {'points': 712.0},\n",
       " ('Novak J.', Timestamp('2000-02-21 00:00:00')): {'points': 1215.0},\n",
       " ('Medvedev A.',\n",
       "  Timestamp('2000-02-21 00:00:00')): {'points': 1316.1072646056189},\n",
       " ('Black W.',\n",
       "  Timestamp('2000-02-21 00:00:00')): {'points': 1316.1072646056189},\n",
       " ('Ferrero J.C.', Timestamp('2000-02-21 00:00:00')): {'points': 1150.0},\n",
       " ('Kiefer N.', Timestamp('2000-02-21 00:00:00')): {'points': 1185.0},\n",
       " ('Voinea A.',\n",
       "  Timestamp('2000-02-21 00:00:00')): {'points': 1316.1072646056189},\n",
       " ('Gambill J.M.', Timestamp('2000-02-21 00:00:00')): {'points': 276.0},\n",
       " ('Henman T.', Timestamp('2000-02-21 00:00:00')): {'points': 1580.0},\n",
       " ('Sa A.', Timestamp('2000-02-21 00:00:00')): {'points': 143.0},\n",
       " ('Massu N.', Timestamp('2000-02-21 00:00:00')): {'points': 1165.0},\n",
       " ('Portas A.', Timestamp('2000-02-21 00:00:00')): {'points': 315.0},\n",
       " ('Black B.',\n",
       "  Timestamp('2000-02-21 00:00:00')): {'points': 1316.1072646056189},\n",
       " ('di Pasquale A.',\n",
       "  Timestamp('2000-02-21 00:00:00')): {'points': 1316.1072646056189},\n",
       " ('Clavet F.',\n",
       "  Timestamp('2000-02-21 00:00:00')): {'points': 1316.1072646056189},\n",
       " ('Dupuis A.', Timestamp('2000-02-21 00:00:00')): {'points': 385.0},\n",
       " ('Tieleman L.',\n",
       "  Timestamp('2000-02-21 00:00:00')): {'points': 1316.1072646056189},\n",
       " ('Marin J.A.', Timestamp('2000-02-21 00:00:00')): {'points': 228.0},\n",
       " ('Etlis G.',\n",
       "  Timestamp('2000-02-21 00:00:00')): {'points': 1316.1072646056189},\n",
       " ('Ulihrach B.', Timestamp('2000-02-21 00:00:00')): {'points': 353.0},\n",
       " ('Bruguera S.',\n",
       "  Timestamp('2000-02-21 00:00:00')): {'points': 1316.1072646056189},\n",
       " ('Vicente F.', Timestamp('2000-02-21 00:00:00')): {'points': 353.0},\n",
       " ('Viloca J.A.',\n",
       "  Timestamp('2000-02-21 00:00:00')): {'points': 1316.1072646056189},\n",
       " ('Blanco G.', Timestamp('2000-02-21 00:00:00')): {'points': 122.0},\n",
       " ('Diaz J.', Timestamp('2000-02-21 00:00:00')): {'points': 1316.1072646056189},\n",
       " ('Kucera K.', Timestamp('2000-02-21 00:00:00')): {'points': 279.0},\n",
       " ('Johansson T.', Timestamp('2000-02-21 00:00:00')): {'points': 1470.0},\n",
       " ('Rusedski G.', Timestamp('2000-02-21 00:00:00')): {'points': 863.0},\n",
       " ('Santoro F.', Timestamp('2000-02-21 00:00:00')): {'points': 501.0},\n",
       " ('Saulnier C.', Timestamp('2000-02-21 00:00:00')): {'points': 733.0},\n",
       " ('Tarango J.',\n",
       "  Timestamp('2000-02-21 00:00:00')): {'points': 1316.1072646056189},\n",
       " ('Vacek D.',\n",
       "  Timestamp('2000-02-21 00:00:00')): {'points': 1316.1072646056189},\n",
       " ('Hrbaty D.', Timestamp('2000-02-21 00:00:00')): {'points': 1206.0},\n",
       " ('Zabaleta M.', Timestamp('2000-02-21 00:00:00')): {'points': 595.0},\n",
       " ('Federer R.', Timestamp('2000-02-28 00:00:00')): {'points': 6500.0},\n",
       " ('Koubek S.', Timestamp('2000-02-28 00:00:00')): {'points': 488.0},\n",
       " ('Agenor R.',\n",
       "  Timestamp('2000-02-28 00:00:00')): {'points': 1316.1072646056189},\n",
       " ('Alvarez E.',\n",
       "  Timestamp('2000-02-28 00:00:00')): {'points': 1316.1072646056189},\n",
       " ('Calleri A.', Timestamp('2000-02-28 00:00:00')): {'points': 415.0},\n",
       " ('Garcia A.', Timestamp('2000-02-28 00:00:00')): {'points': 214.0},\n",
       " ('Chela J.I.', Timestamp('2000-02-28 00:00:00')): {'points': 730.0},\n",
       " ('Calatrava A.', Timestamp('2000-02-28 00:00:00')): {'points': 330.0},\n",
       " ('Rafter P.',\n",
       "  Timestamp('2000-02-28 00:00:00')): {'points': 1316.1072646056189},\n",
       " ('Canas G.', Timestamp('2000-02-28 00:00:00')): {'points': 404.0},\n",
       " ('Larsson M.',\n",
       "  Timestamp('2000-02-28 00:00:00')): {'points': 1316.1072646056189},\n",
       " ('Fromberg R.',\n",
       "  Timestamp('2000-02-28 00:00:00')): {'points': 1316.1072646056189},\n",
       " ('Sa A.', Timestamp('2000-02-28 00:00:00')): {'points': 143.0},\n",
       " ('Stanoytchev O.',\n",
       "  Timestamp('2000-02-28 00:00:00')): {'points': 1316.1072646056189},\n",
       " ('Bjorkman J.', Timestamp('2000-02-28 00:00:00')): {'points': 403.0},\n",
       " ('Vinciguerra A.', Timestamp('2000-02-28 00:00:00')): {'points': 9.0},\n",
       " ('Zib T.', Timestamp('2000-02-28 00:00:00')): {'points': 647.0},\n",
       " ('Vicente F.', Timestamp('2000-02-28 00:00:00')): {'points': 353.0},\n",
       " ('Portas A.', Timestamp('2000-02-28 00:00:00')): {'points': 315.0},\n",
       " ('Kuerten G.', Timestamp('2000-02-28 00:00:00')): {'points': 185.0},\n",
       " ('Puerta M.', Timestamp('2000-02-28 00:00:00')): {'points': 1611.0},\n",
       " ('Massu N.', Timestamp('2000-02-28 00:00:00')): {'points': 1165.0},\n",
       " ('Ulihrach B.', Timestamp('2000-02-28 00:00:00')): {'points': 353.0},\n",
       " ('Hood M.', Timestamp('2000-02-28 00:00:00')): {'points': 1316.1072646056189},\n",
       " ('Gaudio G.', Timestamp('2000-02-28 00:00:00')): {'points': 1590.0},\n",
       " ('Gimelstob J.', Timestamp('2000-02-28 00:00:00')): {'points': 428.0},\n",
       " ('Pozzi G.',\n",
       "  Timestamp('2000-02-28 00:00:00')): {'points': 1316.1072646056189},\n",
       " ('Goldstein P.', Timestamp('2000-02-28 00:00:00')): {'points': 435.0},\n",
       " ('Woodruff C.',\n",
       "  Timestamp('2000-02-28 00:00:00')): {'points': 1316.1072646056189},\n",
       " ('Damm M.', Timestamp('2000-02-28 00:00:00')): {'points': 1316.1072646056189},\n",
       " ('Black B.',\n",
       "  Timestamp('2000-02-28 00:00:00')): {'points': 1316.1072646056189},\n",
       " ('Liukko V.',\n",
       "  Timestamp('2000-02-28 00:00:00')): {'points': 1316.1072646056189},\n",
       " ('Siemerink J.',\n",
       "  Timestamp('2000-02-28 00:00:00')): {'points': 1316.1072646056189},\n",
       " ('Luxa P.', Timestamp('2000-02-28 00:00:00')): {'points': 1316.1072646056189},\n",
       " ('Johansson T.', Timestamp('2000-02-28 00:00:00')): {'points': 1470.0},\n",
       " ('Voinea A.',\n",
       "  Timestamp('2000-02-28 00:00:00')): {'points': 1316.1072646056189},\n",
       " ('Pretzsch A.',\n",
       "  Timestamp('2000-02-28 00:00:00')): {'points': 1316.1072646056189},\n",
       " ('Delgado J.', Timestamp('2000-02-28 00:00:00')): {'points': 153.0},\n",
       " ('Dewulf F.',\n",
       "  Timestamp('2000-02-28 00:00:00')): {'points': 1316.1072646056189},\n",
       " ('Lareau S.',\n",
       "  Timestamp('2000-02-28 00:00:00')): {'points': 1316.1072646056189},\n",
       " ('Pless K.', Timestamp('2000-02-28 00:00:00')): {'points': 226.0},\n",
       " ('Rosset M.',\n",
       "  Timestamp('2000-02-28 00:00:00')): {'points': 1316.1072646056189},\n",
       " ('Tillstrom M.',\n",
       "  Timestamp('2000-02-28 00:00:00')): {'points': 1316.1072646056189},\n",
       " ('Roddick A.', Timestamp('2000-02-28 00:00:00')): {'points': 3590.0},\n",
       " ('Arthurs W.', Timestamp('2000-02-28 00:00:00')): {'points': 513.0},\n",
       " ('Prinosil D.',\n",
       "  Timestamp('2000-02-28 00:00:00')): {'points': 1316.1072646056189},\n",
       " ('Gumy H.', Timestamp('2000-02-28 00:00:00')): {'points': 1316.1072646056189},\n",
       " ('Mirnyi M.', Timestamp('2000-02-28 00:00:00')): {'points': 1095.0},\n",
       " ('Dupuis A.', Timestamp('2000-02-28 00:00:00')): {'points': 385.0},\n",
       " ('Manta L.',\n",
       "  Timestamp('2000-02-28 00:00:00')): {'points': 1316.1072646056189},\n",
       " ('Rochus C.', Timestamp('2000-02-28 00:00:00')): {'points': 739.0},\n",
       " ('Szymanski J.',\n",
       "  Timestamp('2000-02-28 00:00:00')): {'points': 1316.1072646056189},\n",
       " ('Blanco G.', Timestamp('2000-02-28 00:00:00')): {'points': 122.0},\n",
       " ('Marin J.A.', Timestamp('2000-02-28 00:00:00')): {'points': 228.0},\n",
       " ('di Pasquale A.',\n",
       "  Timestamp('2000-02-28 00:00:00')): {'points': 1316.1072646056189},\n",
       " ('Sargsian S.', Timestamp('2000-02-28 00:00:00')): {'points': 394.0},\n",
       " ('Diaz J.', Timestamp('2000-02-28 00:00:00')): {'points': 1316.1072646056189},\n",
       " ('Gonzalez F.', Timestamp('2000-02-28 00:00:00')): {'points': 1295.0},\n",
       " ('Spottl M.',\n",
       "  Timestamp('2000-02-28 00:00:00')): {'points': 1316.1072646056189},\n",
       " ('Bruguera S.',\n",
       "  Timestamp('2000-02-28 00:00:00')): {'points': 1316.1072646056189},\n",
       " ('Meligeni F.',\n",
       "  Timestamp('2000-02-28 00:00:00')): {'points': 1316.1072646056189},\n",
       " ('Lisnard J.', Timestamp('2000-02-28 00:00:00')): {'points': 393.0},\n",
       " ('Lopez-Moron A.',\n",
       "  Timestamp('2000-02-28 00:00:00')): {'points': 1316.1072646056189},\n",
       " ('Rodriguez M.',\n",
       "  Timestamp('2000-02-28 00:00:00')): {'points': 1316.1072646056189},\n",
       " ('Rios M.', Timestamp('2000-02-28 00:00:00')): {'points': 1316.1072646056189},\n",
       " ('Hantschk M.',\n",
       "  Timestamp('2000-02-28 00:00:00')): {'points': 1316.1072646056189},\n",
       " ('Squillari F.',\n",
       "  Timestamp('2000-02-28 00:00:00')): {'points': 1316.1072646056189},\n",
       " ('Sanguinetti D.', Timestamp('2000-02-28 00:00:00')): {'points': 646.0},\n",
       " ('Kratochvil M.', Timestamp('2000-02-28 00:00:00')): {'points': 1.0},\n",
       " ('van Lottum J.', Timestamp('2000-02-28 00:00:00')): {'points': 48.0},\n",
       " ('Ljubicic I.', Timestamp('2000-02-28 00:00:00')): {'points': 1435.0},\n",
       " ('Schuettler R.', Timestamp('2000-02-28 00:00:00')): {'points': 485.0},\n",
       " ('Pavel A.', Timestamp('2000-02-28 00:00:00')): {'points': 825.0},\n",
       " ('Kroslak J.',\n",
       "  Timestamp('2000-02-28 00:00:00')): {'points': 1316.1072646056189},\n",
       " ('Jonsson F.',\n",
       "  Timestamp('2000-02-28 00:00:00')): {'points': 1316.1072646056189},\n",
       " ('Heuberger I.', Timestamp('2000-02-28 00:00:00')): {'points': 221.0},\n",
       " ('Behrend T.', Timestamp('2000-02-28 00:00:00')): {'points': 481.0},\n",
       " ('Bastl G.', Timestamp('2000-02-28 00:00:00')): {'points': 330.0},\n",
       " ('Tieleman L.',\n",
       "  Timestamp('2000-02-28 00:00:00')): {'points': 1316.1072646056189},\n",
       " ('Ivanisevic G.',\n",
       "  Timestamp('2000-02-28 00:00:00')): {'points': 1316.1072646056189},\n",
       " ('Mamiit C.', Timestamp('2000-02-28 00:00:00')): {'points': 154.0},\n",
       " ('Malisse X.', Timestamp('2000-02-28 00:00:00')): {'points': 603.0},\n",
       " ('Hipfl M.',\n",
       "  Timestamp('2000-02-28 00:00:00')): {'points': 1316.1072646056189},\n",
       " ('Gambill J.M.', Timestamp('2000-02-28 00:00:00')): {'points': 276.0},\n",
       " ('Ilie A.', Timestamp('2000-02-28 00:00:00')): {'points': 1316.1072646056189},\n",
       " ('Bryan M.',\n",
       "  Timestamp('2000-02-28 00:00:00')): {'points': 1316.1072646056189},\n",
       " ('Clavet F.',\n",
       "  Timestamp('2000-02-28 00:00:00')): {'points': 1316.1072646056189},\n",
       " ('Srichaphan P.', Timestamp('2000-02-28 00:00:00')): {'points': 800.0},\n",
       " ('Safin M.', Timestamp('2000-02-28 00:00:00')): {'points': 3160.0},\n",
       " ('Alami K.',\n",
       "  Timestamp('2000-02-28 00:00:00')): {'points': 1316.1072646056189},\n",
       " ('Alonso J.',\n",
       "  Timestamp('2000-02-28 00:00:00')): {'points': 1316.1072646056189},\n",
       " ('Stark J.',\n",
       "  Timestamp('2000-02-28 00:00:00')): {'points': 1316.1072646056189},\n",
       " ('Chang M.',\n",
       "  Timestamp('2000-02-28 00:00:00')): {'points': 1316.1072646056189},\n",
       " ('Zabaleta M.', Timestamp('2000-02-28 00:00:00')): {'points': 595.0},\n",
       " ('Gaudenzi A.',\n",
       "  Timestamp('2000-02-28 00:00:00')): {'points': 1316.1072646056189},\n",
       " ('Woodforde M.',\n",
       "  Timestamp('2000-02-28 00:00:00')): {'points': 1316.1072646056189},\n",
       " ('Costa A.', Timestamp('2000-03-06 00:00:00')): {'points': 410.0},\n",
       " ('Agassi A.', Timestamp('2000-03-06 00:00:00')): {'points': 2275.0},\n",
       " ('Black B.',\n",
       "  Timestamp('2000-03-06 00:00:00')): {'points': 1316.1072646056189},\n",
       " ('Ferrero J.C.', Timestamp('2000-03-06 00:00:00')): {'points': 1150.0},\n",
       " ('Woodruff C.',\n",
       "  Timestamp('2000-03-06 00:00:00')): {'points': 1316.1072646056189},\n",
       " ('Clavet F.',\n",
       "  Timestamp('2000-03-06 00:00:00')): {'points': 1316.1072646056189},\n",
       " ('Sampras P.',\n",
       "  Timestamp('2000-03-06 00:00:00')): {'points': 1316.1072646056189},\n",
       " ('Corretja A.',\n",
       "  Timestamp('2000-03-06 00:00:00')): {'points': 1316.1072646056189},\n",
       " ('Rios M.', Timestamp('2000-03-06 00:00:00')): {'points': 1316.1072646056189},\n",
       " ('Pavel A.', Timestamp('2000-03-06 00:00:00')): {'points': 825.0},\n",
       " ('Moya C.', Timestamp('2000-03-06 00:00:00')): {'points': 1180.0},\n",
       " ('Martin A.', Timestamp('2000-03-06 00:00:00')): {'points': 712.0},\n",
       " ('Ferreira W.',\n",
       "  Timestamp('2000-03-06 00:00:00')): {'points': 1316.1072646056189},\n",
       " ('Hewitt L.', Timestamp('2000-03-06 00:00:00')): {'points': 3455.0},\n",
       " ('Henman T.', Timestamp('2000-03-06 00:00:00')): {'points': 1580.0},\n",
       " ('Lapentti N.', Timestamp('2000-03-06 00:00:00')): {'points': 410.0},\n",
       " ('Schalken S.', Timestamp('2000-03-06 00:00:00')): {'points': 195.0},\n",
       " ('Tieleman L.',\n",
       "  Timestamp('2000-03-06 00:00:00')): {'points': 1316.1072646056189},\n",
       " ('Spadea V.', Timestamp('2000-03-06 00:00:00')): {'points': 730.0},\n",
       " ('Calatrava A.', Timestamp('2000-03-06 00:00:00')): {'points': 330.0},\n",
       " ('Zabaleta M.', Timestamp('2000-03-06 00:00:00')): {'points': 595.0},\n",
       " ('Grosjean S.', Timestamp('2000-03-06 00:00:00')): {'points': 970.0},\n",
       " ('Ilie A.', Timestamp('2000-03-06 00:00:00')): {'points': 1316.1072646056189},\n",
       " ('Vacek D.',\n",
       "  Timestamp('2000-03-06 00:00:00')): {'points': 1316.1072646056189},\n",
       " ('Goldstein P.', Timestamp('2000-03-06 00:00:00')): {'points': 435.0},\n",
       " ('Rafter P.',\n",
       "  Timestamp('2000-03-06 00:00:00')): {'points': 1316.1072646056189},\n",
       " ('Vicente F.', Timestamp('2000-03-06 00:00:00')): {'points': 353.0},\n",
       " ('Blake J.', Timestamp('2000-03-06 00:00:00')): {'points': 400.0},\n",
       " ('Rusedski G.', Timestamp('2000-03-06 00:00:00')): {'points': 863.0},\n",
       " ('Meligeni F.',\n",
       "  Timestamp('2000-03-06 00:00:00')): {'points': 1316.1072646056189},\n",
       " ('Koubek S.', Timestamp('2000-03-06 00:00:00')): {'points': 488.0},\n",
       " ('Dosedel S.',\n",
       "  Timestamp('2000-03-06 00:00:00')): {'points': 1316.1072646056189},\n",
       " ('Alami K.',\n",
       "  Timestamp('2000-03-06 00:00:00')): {'points': 1316.1072646056189},\n",
       " ('Ondruska M.',\n",
       "  Timestamp('2000-03-06 00:00:00')): {'points': 1316.1072646056189},\n",
       " ('Lopez-Moron A.',\n",
       "  Timestamp('2000-03-06 00:00:00')): {'points': 1316.1072646056189},\n",
       " ('Ulihrach B.', Timestamp('2000-03-06 00:00:00')): {'points': 353.0},\n",
       " ('Canas G.', Timestamp('2000-03-06 00:00:00')): {'points': 404.0},\n",
       " ('Agenor R.',\n",
       "  Timestamp('2000-03-06 00:00:00')): {'points': 1316.1072646056189},\n",
       " ('Gaudio G.', Timestamp('2000-03-06 00:00:00')): {'points': 1590.0},\n",
       " ('Marin J.A.', Timestamp('2000-03-06 00:00:00')): {'points': 228.0},\n",
       " ('Cortes J.',\n",
       "  Timestamp('2000-03-06 00:00:00')): {'points': 1316.1072646056189},\n",
       " ('Chela J.I.', Timestamp('2000-03-06 00:00:00')): {'points': 730.0},\n",
       " ('Balcells J.',\n",
       "  Timestamp('2000-03-06 00:00:00')): {'points': 1316.1072646056189},\n",
       " ('Bruguera S.',\n",
       "  Timestamp('2000-03-06 00:00:00')): {'points': 1316.1072646056189},\n",
       " ('Hadad M.',\n",
       "  Timestamp('2000-03-06 00:00:00')): {'points': 1316.1072646056189},\n",
       " ('Massu N.', Timestamp('2000-03-06 00:00:00')): {'points': 1165.0},\n",
       " ('Gonzalez P.',\n",
       "  Timestamp('2000-03-06 00:00:00')): {'points': 1316.1072646056189},\n",
       " ('Lisnard J.', Timestamp('2000-03-06 00:00:00')): {'points': 393.0},\n",
       " ('Diaz J.', Timestamp('2000-03-06 00:00:00')): {'points': 1316.1072646056189},\n",
       " ('Blanco G.', Timestamp('2000-03-06 00:00:00')): {'points': 122.0},\n",
       " ('Puerta M.', Timestamp('2000-03-06 00:00:00')): {'points': 1611.0},\n",
       " ('di Pasquale A.',\n",
       "  Timestamp('2000-03-06 00:00:00')): {'points': 1316.1072646056189},\n",
       " ('El Aynaoui Y.', Timestamp('2000-03-06 00:00:00')): {'points': 64.0},\n",
       " ('Zib T.', Timestamp('2000-03-06 00:00:00')): {'points': 647.0},\n",
       " ('Portas A.', Timestamp('2000-03-06 00:00:00')): {'points': 315.0},\n",
       " ('Stanoytchev O.',\n",
       "  Timestamp('2000-03-06 00:00:00')): {'points': 1316.1072646056189},\n",
       " ('Sanguinetti D.', Timestamp('2000-03-06 00:00:00')): {'points': 646.0},\n",
       " ('Rodriguez M.',\n",
       "  Timestamp('2000-03-06 00:00:00')): {'points': 1316.1072646056189},\n",
       " ('Etlis G.',\n",
       "  Timestamp('2000-03-06 00:00:00')): {'points': 1316.1072646056189},\n",
       " ('Mantilla F.', Timestamp('2000-03-06 00:00:00')): {'points': 454.0},\n",
       " ('Kuerten G.', Timestamp('2000-03-06 00:00:00')): {'points': 185.0},\n",
       " ('Hantschk M.',\n",
       "  Timestamp('2000-03-06 00:00:00')): {'points': 1316.1072646056189},\n",
       " ('Gumy H.', Timestamp('2000-03-06 00:00:00')): {'points': 1316.1072646056189},\n",
       " ('Prieto S.',\n",
       "  Timestamp('2000-03-06 00:00:00')): {'points': 1316.1072646056189},\n",
       " ('El Aynaoui Y.', Timestamp('2000-03-13 00:00:00')): {'points': 64.0},\n",
       " ('Medvedev A.',\n",
       "  Timestamp('2000-03-13 00:00:00')): {'points': 1316.1072646056189},\n",
       " ('Blake J.', Timestamp('2000-03-13 00:00:00')): {'points': 400.0},\n",
       " ('Vacek D.',\n",
       "  Timestamp('2000-03-13 00:00:00')): {'points': 1316.1072646056189},\n",
       " ('Ondruska M.',\n",
       "  Timestamp('2000-03-13 00:00:00')): {'points': 1316.1072646056189},\n",
       " ('Meligeni F.',\n",
       "  Timestamp('2000-03-13 00:00:00')): {'points': 1316.1072646056189},\n",
       " ('Dent T.', Timestamp('2000-03-13 00:00:00')): {'points': 1170.0},\n",
       " ('Clement A.', Timestamp('2000-03-13 00:00:00')): {'points': 376.0},\n",
       " ('Bjorkman J.', Timestamp('2000-03-13 00:00:00')): {'points': 403.0},\n",
       " ('Gimelstob J.', Timestamp('2000-03-13 00:00:00')): {'points': 428.0},\n",
       " ('Woodruff C.',\n",
       "  Timestamp('2000-03-13 00:00:00')): {'points': 1316.1072646056189},\n",
       " ('Spadea V.', Timestamp('2000-03-13 00:00:00')): {'points': 730.0},\n",
       " ('Squillari F.',\n",
       "  Timestamp('2000-03-13 00:00:00')): {'points': 1316.1072646056189},\n",
       " ('Kiefer N.', Timestamp('2000-03-13 00:00:00')): {'points': 1185.0},\n",
       " ('Kucera K.', Timestamp('2000-03-13 00:00:00')): {'points': 279.0},\n",
       " ('Moya C.', Timestamp('2000-03-13 00:00:00')): {'points': 1180.0},\n",
       " ('Alami K.',\n",
       "  Timestamp('2000-03-13 00:00:00')): {'points': 1316.1072646056189},\n",
       " ('Saulnier C.', Timestamp('2000-03-13 00:00:00')): {'points': 733.0},\n",
       " ('Agassi A.', Timestamp('2000-03-13 00:00:00')): {'points': 2275.0},\n",
       " ('Gambill J.M.', Timestamp('2000-03-13 00:00:00')): {'points': 276.0},\n",
       " ('Pioline C.',\n",
       "  Timestamp('2000-03-13 00:00:00')): {'points': 1316.1072646056189},\n",
       " ('Golmard J.',\n",
       "  Timestamp('2000-03-13 00:00:00')): {'points': 1316.1072646056189},\n",
       " ('Mantilla F.', Timestamp('2000-03-13 00:00:00')): {'points': 454.0},\n",
       " ('Courier J.',\n",
       "  Timestamp('2000-03-13 00:00:00')): {'points': 1316.1072646056189},\n",
       " ('Koubek S.', Timestamp('2000-03-13 00:00:00')): {'points': 488.0},\n",
       " ('Ilie A.', Timestamp('2000-03-13 00:00:00')): {'points': 1316.1072646056189},\n",
       " ('Ferrero J.C.', Timestamp('2000-03-13 00:00:00')): {'points': 1150.0},\n",
       " ('Martin A.', Timestamp('2000-03-13 00:00:00')): {'points': 712.0},\n",
       " ('Goldstein P.', Timestamp('2000-03-13 00:00:00')): {'points': 435.0},\n",
       " ('Novak J.', Timestamp('2000-03-13 00:00:00')): {'points': 1215.0},\n",
       " ('Johansson T.', Timestamp('2000-03-13 00:00:00')): {'points': 1470.0},\n",
       " ('Clavet F.',\n",
       "  Timestamp('2000-03-13 00:00:00')): {'points': 1316.1072646056189},\n",
       " ('Black B.',\n",
       "  Timestamp('2000-03-13 00:00:00')): {'points': 1316.1072646056189},\n",
       " ('Zabaleta M.', Timestamp('2000-03-13 00:00:00')): {'points': 595.0},\n",
       " ('Haas T.', Timestamp('2000-03-13 00:00:00')): {'points': 1180.0},\n",
       " ('Corretja A.',\n",
       "  Timestamp('2000-03-13 00:00:00')): {'points': 1316.1072646056189},\n",
       " ('Schalken S.', Timestamp('2000-03-13 00:00:00')): {'points': 195.0},\n",
       " ('Costa A.', Timestamp('2000-03-13 00:00:00')): {'points': 410.0},\n",
       " ('Enqvist T.', Timestamp('2000-03-13 00:00:00')): {'points': 257.0},\n",
       " ('Grosjean S.', Timestamp('2000-03-13 00:00:00')): {'points': 970.0},\n",
       " ('Escude N.',\n",
       "  Timestamp('2000-03-13 00:00:00')): {'points': 1316.1072646056189},\n",
       " ('Lapentti N.', Timestamp('2000-03-13 00:00:00')): {'points': 410.0},\n",
       " ('Mirnyi M.', Timestamp('2000-03-13 00:00:00')): {'points': 1095.0},\n",
       " ('Norman M.',\n",
       "  Timestamp('2000-03-13 00:00:00')): {'points': 1316.1072646056189},\n",
       " ('Philippoussis M.', Timestamp('2000-03-13 00:00:00')): {'points': 188.0},\n",
       " ('Sampras P.',\n",
       "  Timestamp('2000-03-13 00:00:00')): {'points': 1316.1072646056189},\n",
       " ('Santoro F.', Timestamp('2000-03-13 00:00:00')): {'points': 501.0},\n",
       " ('Arazi H.',\n",
       "  Timestamp('2000-03-13 00:00:00')): {'points': 1316.1072646056189},\n",
       " ('Chang M.',\n",
       "  Timestamp('2000-03-13 00:00:00')): {'points': 1316.1072646056189},\n",
       " ('Kroslak J.',\n",
       "  Timestamp('2000-03-13 00:00:00')): {'points': 1316.1072646056189},\n",
       " ('di Pasquale A.',\n",
       "  Timestamp('2000-03-13 00:00:00')): {'points': 1316.1072646056189},\n",
       " ('Kuerten G.', Timestamp('2000-03-13 00:00:00')): {'points': 185.0},\n",
       " ('Vicente F.', Timestamp('2000-03-13 00:00:00')): {'points': 353.0},\n",
       " ('Safin M.', Timestamp('2000-03-13 00:00:00')): {'points': 3160.0},\n",
       " ('Kafelnikov Y.',\n",
       "  Timestamp('2000-03-13 00:00:00')): {'points': 1316.1072646056189},\n",
       " ('Rios M.', Timestamp('2000-03-13 00:00:00')): {'points': 1316.1072646056189},\n",
       " ('Rusedski G.', Timestamp('2000-03-13 00:00:00')): {'points': 863.0},\n",
       " ('Rafter P.',\n",
       "  Timestamp('2000-03-13 00:00:00')): {'points': 1316.1072646056189},\n",
       " ('Ivanisevic G.',\n",
       "  Timestamp('2000-03-13 00:00:00')): {'points': 1316.1072646056189},\n",
       " ('Hewitt L.', Timestamp('2000-03-13 00:00:00')): {'points': 3455.0},\n",
       " ('Henman T.', Timestamp('2000-03-13 00:00:00')): {'points': 1580.0},\n",
       " ('Ferreira W.',\n",
       "  Timestamp('2000-03-13 00:00:00')): {'points': 1316.1072646056189},\n",
       " ('Dosedel S.',\n",
       "  Timestamp('2000-03-13 00:00:00')): {'points': 1316.1072646056189},\n",
       " ('Hrbaty D.', Timestamp('2000-03-13 00:00:00')): {'points': 1206.0},\n",
       " ('Ketola T.',\n",
       "  Timestamp('2000-03-23 00:00:00')): {'points': 1316.1072646056189},\n",
       " ('Roddick A.', Timestamp('2000-03-23 00:00:00')): {'points': 3590.0},\n",
       " ('Schalken S.', Timestamp('2000-03-23 00:00:00')): {'points': 195.0},\n",
       " ('Saulnier C.', Timestamp('2000-03-23 00:00:00')): {'points': 733.0},\n",
       " ('Rochus C.', Timestamp('2000-03-23 00:00:00')): {'points': 739.0},\n",
       " ('Spadea V.', Timestamp('2000-03-23 00:00:00')): {'points': 730.0},\n",
       " ('Corretja A.',\n",
       "  Timestamp('2000-03-23 00:00:00')): {'points': 1316.1072646056189},\n",
       " ('Koubek S.', Timestamp('2000-03-23 00:00:00')): {'points': 488.0},\n",
       " ('Santoro F.', Timestamp('2000-03-23 00:00:00')): {'points': 501.0},\n",
       " ('Costa A.', Timestamp('2000-03-23 00:00:00')): {'points': 410.0},\n",
       " ('Escude N.',\n",
       "  Timestamp('2000-03-23 00:00:00')): {'points': 1316.1072646056189},\n",
       " ('Larsson M.',\n",
       "  Timestamp('2000-03-23 00:00:00')): {'points': 1316.1072646056189},\n",
       " ('Safin M.', Timestamp('2000-03-23 00:00:00')): {'points': 3160.0},\n",
       " ('Mirnyi M.', Timestamp('2000-03-23 00:00:00')): {'points': 1095.0},\n",
       " ('Malisse X.', Timestamp('2000-03-23 00:00:00')): {'points': 603.0},\n",
       " ('Haas T.', Timestamp('2000-03-23 00:00:00')): {'points': 1180.0},\n",
       " ('Hewitt L.', Timestamp('2000-03-23 00:00:00')): {'points': 3455.0},\n",
       " ('Lapentti N.', Timestamp('2000-03-23 00:00:00')): {'points': 410.0},\n",
       " ('Mantilla F.', Timestamp('2000-03-23 00:00:00')): {'points': 454.0},\n",
       " ('Meligeni F.',\n",
       "  Timestamp('2000-03-23 00:00:00')): {'points': 1316.1072646056189},\n",
       " ('Norman M.',\n",
       "  Timestamp('2000-03-23 00:00:00')): {'points': 1316.1072646056189},\n",
       " ('Pavel A.', Timestamp('2000-03-23 00:00:00')): {'points': 825.0},\n",
       " ('Philippoussis M.', Timestamp('2000-03-23 00:00:00')): {'points': 188.0},\n",
       " ('Pioline C.',\n",
       "  Timestamp('2000-03-23 00:00:00')): {'points': 1316.1072646056189},\n",
       " ('Pozzi G.',\n",
       "  Timestamp('2000-03-23 00:00:00')): {'points': 1316.1072646056189},\n",
       " ('Rafter P.',\n",
       "  Timestamp('2000-03-23 00:00:00')): {'points': 1316.1072646056189},\n",
       " ('Novak J.', Timestamp('2000-03-23 00:00:00')): {'points': 1215.0},\n",
       " ('Agassi A.', Timestamp('2000-03-23 00:00:00')): {'points': 2275.0},\n",
       " ('Henman T.', Timestamp('2000-03-23 00:00:00')): {'points': 1580.0},\n",
       " ('Rusedski G.', Timestamp('2000-03-23 00:00:00')): {'points': 863.0},\n",
       " ('Gambill J.M.', Timestamp('2000-03-23 00:00:00')): {'points': 276.0},\n",
       " ('Ferreira W.',\n",
       "  Timestamp('2000-03-23 00:00:00')): {'points': 1316.1072646056189},\n",
       " ('Enqvist T.', Timestamp('2000-03-23 00:00:00')): {'points': 257.0},\n",
       " ('Zabaleta M.', Timestamp('2000-03-23 00:00:00')): {'points': 595.0},\n",
       " ('Vinciguerra A.', Timestamp('2000-03-23 00:00:00')): {'points': 9.0},\n",
       " ('Sampras P.',\n",
       "  Timestamp('2000-03-23 00:00:00')): {'points': 1316.1072646056189},\n",
       " ('Rios M.', Timestamp('2000-03-23 00:00:00')): {'points': 1316.1072646056189},\n",
       " ('Hrbaty D.', Timestamp('2000-03-23 00:00:00')): {'points': 1206.0},\n",
       " ('Kuerten G.', Timestamp('2000-03-23 00:00:00')): {'points': 185.0},\n",
       " ('Kafelnikov Y.',\n",
       "  Timestamp('2000-03-23 00:00:00')): {'points': 1316.1072646056189},\n",
       " ('Moya C.', Timestamp('2000-03-23 00:00:00')): {'points': 1180.0},\n",
       " ('Arthurs W.', Timestamp('2000-03-23 00:00:00')): {'points': 513.0},\n",
       " ('Medvedev A.',\n",
       "  Timestamp('2000-03-23 00:00:00')): {'points': 1316.1072646056189},\n",
       " ('Bastl G.', Timestamp('2000-03-23 00:00:00')): {'points': 330.0},\n",
       " ('Black B.',\n",
       "  Timestamp('2000-03-23 00:00:00')): {'points': 1316.1072646056189},\n",
       " ('Black W.',\n",
       "  Timestamp('2000-03-23 00:00:00')): {'points': 1316.1072646056189},\n",
       " ('Calleri A.', Timestamp('2000-03-23 00:00:00')): {'points': 415.0},\n",
       " ('Canas G.', Timestamp('2000-03-23 00:00:00')): {'points': 404.0},\n",
       " ('Chang M.',\n",
       "  Timestamp('2000-03-23 00:00:00')): {'points': 1316.1072646056189},\n",
       " ('Clement A.', Timestamp('2000-03-23 00:00:00')): {'points': 376.0},\n",
       " ('Courier J.',\n",
       "  Timestamp('2000-03-23 00:00:00')): {'points': 1316.1072646056189},\n",
       " ('Federer R.', Timestamp('2000-03-23 00:00:00')): {'points': 6500.0},\n",
       " ('Fish M.', Timestamp('2000-03-23 00:00:00')): {'points': 555.0},\n",
       " ('Massu N.', Timestamp('2000-03-23 00:00:00')): {'points': 1165.0},\n",
       " ('Fromberg R.',\n",
       "  Timestamp('2000-03-23 00:00:00')): {'points': 1316.1072646056189},\n",
       " ('Gaudio G.', Timestamp('2000-03-23 00:00:00')): {'points': 1590.0},\n",
       " ('Goldstein P.', Timestamp('2000-03-23 00:00:00')): {'points': 435.0},\n",
       " ('Golmard J.',\n",
       "  Timestamp('2000-03-23 00:00:00')): {'points': 1316.1072646056189},\n",
       " ('van Lottum J.', Timestamp('2000-03-23 00:00:00')): {'points': 48.0},\n",
       " ('Ivanisevic G.',\n",
       "  Timestamp('2000-03-23 00:00:00')): {'points': 1316.1072646056189},\n",
       " ('Kratochvil M.', Timestamp('2000-03-23 00:00:00')): {'points': 1.0},\n",
       " ('Grosjean S.', Timestamp('2000-03-23 00:00:00')): {'points': 970.0},\n",
       " ('Prinosil D.',\n",
       "  Timestamp('2000-03-23 00:00:00')): {'points': 1316.1072646056189},\n",
       " ('Schuettler R.', Timestamp('2000-03-23 00:00:00')): {'points': 485.0},\n",
       " ('Ruud C.', Timestamp('2000-03-23 00:00:00')): {'points': 195.0},\n",
       " ('Vacek D.',\n",
       "  Timestamp('2000-03-23 00:00:00')): {'points': 1316.1072646056189},\n",
       " ('Kucera K.', Timestamp('2000-03-23 00:00:00')): {'points': 279.0},\n",
       " ('Hipfl M.',\n",
       "  Timestamp('2000-03-23 00:00:00')): {'points': 1316.1072646056189},\n",
       " ('Johansson T.', Timestamp('2000-03-23 00:00:00')): {'points': 1470.0},\n",
       " ('Martin A.', Timestamp('2000-03-23 00:00:00')): {'points': 712.0},\n",
       " ('Squillari F.',\n",
       "  Timestamp('2000-03-23 00:00:00')): {'points': 1316.1072646056189},\n",
       " ('Bjorkman J.', Timestamp('2000-03-23 00:00:00')): {'points': 403.0},\n",
       " ('Sargsian S.', Timestamp('2000-03-23 00:00:00')): {'points': 394.0},\n",
       " ('El Aynaoui Y.', Timestamp('2000-03-23 00:00:00')): {'points': 64.0},\n",
       " ('Ferrero J.C.', Timestamp('2000-03-23 00:00:00')): {'points': 1150.0},\n",
       " ('Kiefer N.', Timestamp('2000-03-23 00:00:00')): {'points': 1185.0},\n",
       " ('Arazi H.',\n",
       "  Timestamp('2000-03-23 00:00:00')): {'points': 1316.1072646056189},\n",
       " ('Tillstrom M.',\n",
       "  Timestamp('2000-03-23 00:00:00')): {'points': 1316.1072646056189},\n",
       " ('Alami K.',\n",
       "  Timestamp('2000-03-23 00:00:00')): {'points': 1316.1072646056189},\n",
       " ('Viloca J.A.',\n",
       "  Timestamp('2000-03-23 00:00:00')): {'points': 1316.1072646056189},\n",
       " ('Vicente F.', Timestamp('2000-03-23 00:00:00')): {'points': 353.0},\n",
       " ('Ilie A.', Timestamp('2000-03-23 00:00:00')): {'points': 1316.1072646056189},\n",
       " ('Gumy H.', Timestamp('2000-03-23 00:00:00')): {'points': 1316.1072646056189},\n",
       " ('Clavet F.',\n",
       "  Timestamp('2000-03-23 00:00:00')): {'points': 1316.1072646056189},\n",
       " ('Dosedel S.',\n",
       "  Timestamp('2000-03-23 00:00:00')): {'points': 1316.1072646056189},\n",
       " ('Tarango J.',\n",
       "  Timestamp('2000-03-23 00:00:00')): {'points': 1316.1072646056189},\n",
       " ('di Pasquale A.',\n",
       "  Timestamp('2000-03-23 00:00:00')): {'points': 1316.1072646056189},\n",
       " ('Gimelstob J.', Timestamp('2000-03-23 00:00:00')): {'points': 428.0},\n",
       " ('Blanco G.', Timestamp('2000-03-23 00:00:00')): {'points': 122.0},\n",
       " ('Woodruff C.',\n",
       "  Timestamp('2000-03-23 00:00:00')): {'points': 1316.1072646056189},\n",
       " ('Marin J.A.', Timestamp('2000-03-23 00:00:00')): {'points': 228.0},\n",
       " ('Ljubicic I.', Timestamp('2000-03-23 00:00:00')): {'points': 1435.0},\n",
       " ('Rosset M.',\n",
       "  Timestamp('2000-03-23 00:00:00')): {'points': 1316.1072646056189},\n",
       " ('Berasategui A.',\n",
       "  Timestamp('2000-03-23 00:00:00')): {'points': 1316.1072646056189},\n",
       " ('Damm M.', Timestamp('2000-03-23 00:00:00')): {'points': 1316.1072646056189},\n",
       " ('Nalbandian D.', Timestamp('2000-03-23 00:00:00')): {'points': 1650.0},\n",
       " ('Malisse X.', Timestamp('2000-04-10 00:00:00')): {'points': 603.0},\n",
       " ('Harper-Griffith L.',\n",
       "  Timestamp('2000-04-10 00:00:00')): {'points': 1316.1072646056189},\n",
       " ('Sanguinetti D.', Timestamp('2000-04-10 00:00:00')): {'points': 646.0},\n",
       " ('Kim K.', Timestamp('2000-04-10 00:00:00')): {'points': 541.0},\n",
       " ('Popp A.', Timestamp('2000-04-10 00:00:00')): {'points': 246.0},\n",
       " ('Norman M.',\n",
       "  Timestamp('2000-04-10 00:00:00')): {'points': 1316.1072646056189},\n",
       " ('Ruud C.', Timestamp('2000-04-10 00:00:00')): {'points': 195.0},\n",
       " ('Massu N.', Timestamp('2000-04-10 00:00:00')): {'points': 1165.0},\n",
       " ('Gaudio G.', Timestamp('2000-04-10 00:00:00')): {'points': 1590.0},\n",
       " ('Wiltschnig H.',\n",
       "  Timestamp('2000-04-10 00:00:00')): {'points': 1316.1072646056189},\n",
       " ('Russell M.', Timestamp('2000-04-10 00:00:00')): {'points': 194.0},\n",
       " ('Taino E.', Timestamp('2000-04-10 00:00:00')): {'points': 141.0},\n",
       " ('Zib T.', Timestamp('2000-04-10 00:00:00')): {'points': 647.0},\n",
       " ('Woodruff C.',\n",
       "  Timestamp('2000-04-10 00:00:00')): {'points': 1316.1072646056189},\n",
       " ('Sekulov J.',\n",
       "  Timestamp('2000-04-10 00:00:00')): {'points': 1316.1072646056189},\n",
       " ('Jonsson F.',\n",
       "  Timestamp('2000-04-10 00:00:00')): {'points': 1316.1072646056189},\n",
       " ('Koubek S.', Timestamp('2000-04-10 00:00:00')): {'points': 488.0},\n",
       " ('Ilie A.', Timestamp('2000-04-10 00:00:00')): {'points': 1316.1072646056189},\n",
       " ('Chang M.',\n",
       "  Timestamp('2000-04-10 00:00:00')): {'points': 1316.1072646056189},\n",
       " ('Woodbridge T.',\n",
       "  Timestamp('2000-04-10 00:00:00')): {'points': 1316.1072646056189},\n",
       " ('Vanek J.', Timestamp('2000-04-10 00:00:00')): {'points': 402.0},\n",
       " ('Tarango J.',\n",
       "  Timestamp('2000-04-10 00:00:00')): {'points': 1316.1072646056189},\n",
       " ('Tabara M.', Timestamp('2000-04-10 00:00:00')): {'points': 381.0},\n",
       " ('Stoltenberg J.',\n",
       "  Timestamp('2000-04-10 00:00:00')): {'points': 1316.1072646056189},\n",
       " ('Huet S.', Timestamp('2000-04-10 00:00:00')): {'points': 1316.1072646056189},\n",
       " ('Goldstein P.', Timestamp('2000-04-10 00:00:00')): {'points': 435.0},\n",
       " ('Alonso J.',\n",
       "  Timestamp('2000-04-10 00:00:00')): {'points': 1316.1072646056189},\n",
       " ('Squillari F.',\n",
       "  Timestamp('2000-04-10 00:00:00')): {'points': 1316.1072646056189},\n",
       " ('Browne F.',\n",
       "  Timestamp('2000-04-10 00:00:00')): {'points': 1316.1072646056189},\n",
       " ('Mantilla F.', Timestamp('2000-04-10 00:00:00')): {'points': 454.0},\n",
       " ('Chela J.I.', Timestamp('2000-04-10 00:00:00')): {'points': 730.0},\n",
       " ('Medvedev A.',\n",
       "  Timestamp('2000-04-10 00:00:00')): {'points': 1316.1072646056189},\n",
       " ('Tahiri M.', Timestamp('2000-04-10 00:00:00')): {'points': 37.0},\n",
       " ('Hantschk M.',\n",
       "  Timestamp('2000-04-10 00:00:00')): {'points': 1316.1072646056189},\n",
       " ('Manta L.',\n",
       "  Timestamp('2000-04-10 00:00:00')): {'points': 1316.1072646056189},\n",
       " ('Pozzi G.',\n",
       "  Timestamp('2000-04-10 00:00:00')): {'points': 1316.1072646056189},\n",
       " ('Portas A.', Timestamp('2000-04-10 00:00:00')): {'points': 315.0},\n",
       " ('El Aarej M.', Timestamp('2000-04-10 00:00:00')): {'points': 34.0},\n",
       " ('Diaz J.', Timestamp('2000-04-10 00:00:00')): {'points': 1316.1072646056189},\n",
       " ('Martin A.', Timestamp('2000-04-10 00:00:00')): {'points': 712.0},\n",
       " ('Dupuis A.', Timestamp('2000-04-10 00:00:00')): {'points': 385.0},\n",
       " ('Behrend T.', Timestamp('2000-04-10 00:00:00')): {'points': 481.0},\n",
       " ('Rosset M.',\n",
       "  Timestamp('2000-04-10 00:00:00')): {'points': 1316.1072646056189},\n",
       " ('Henman T.', Timestamp('2000-04-10 00:00:00')): {'points': 1580.0},\n",
       " ('Fromberg R.',\n",
       "  Timestamp('2000-04-10 00:00:00')): {'points': 1316.1072646056189},\n",
       " ('Ferrero J.C.', Timestamp('2000-04-10 00:00:00')): {'points': 1150.0},\n",
       " ('Escude N.',\n",
       "  Timestamp('2000-04-10 00:00:00')): {'points': 1316.1072646056189},\n",
       " ('Clavet F.',\n",
       "  Timestamp('2000-04-10 00:00:00')): {'points': 1316.1072646056189},\n",
       " ('Agassi A.', Timestamp('2000-04-10 00:00:00')): {'points': 2275.0},\n",
       " ('Vicente F.', Timestamp('2000-04-10 00:00:00')): {'points': 353.0},\n",
       " ('Grosjean S.', Timestamp('2000-04-10 00:00:00')): {'points': 970.0},\n",
       " ('Bruguera S.',\n",
       "  Timestamp('2000-04-10 00:00:00')): {'points': 1316.1072646056189},\n",
       " ('Puerta M.', Timestamp('2000-04-10 00:00:00')): {'points': 1611.0},\n",
       " ('di Pasquale A.',\n",
       "  Timestamp('2000-04-10 00:00:00')): {'points': 1316.1072646056189},\n",
       " ('Vinciguerra A.', Timestamp('2000-04-10 00:00:00')): {'points': 9.0},\n",
       " ('El Aynaoui Y.', Timestamp('2000-04-10 00:00:00')): {'points': 64.0},\n",
       " ('Hipfl M.',\n",
       "  Timestamp('2000-04-10 00:00:00')): {'points': 1316.1072646056189},\n",
       " ('Lapentti N.', Timestamp('2000-04-10 00:00:00')): {'points': 410.0},\n",
       " ('Marin J.A.', Timestamp('2000-04-10 00:00:00')): {'points': 228.0},\n",
       " ('Arazi H.',\n",
       "  Timestamp('2000-04-10 00:00:00')): {'points': 1316.1072646056189},\n",
       " ('Moya C.', Timestamp('2000-04-10 00:00:00')): {'points': 1180.0},\n",
       " ('Ulihrach B.', Timestamp('2000-04-10 00:00:00')): {'points': 353.0},\n",
       " ('Willems R.',\n",
       "  Timestamp('2000-04-10 00:00:00')): {'points': 1316.1072646056189},\n",
       " ('Sargsian S.', Timestamp('2000-04-10 00:00:00')): {'points': 394.0},\n",
       " ('Larsson M.',\n",
       "  Timestamp('2000-04-10 00:00:00')): {'points': 1316.1072646056189},\n",
       " ('Gimelstob J.', Timestamp('2000-04-10 00:00:00')): {'points': 428.0},\n",
       " ('Agenor R.',\n",
       "  Timestamp('2000-04-10 00:00:00')): {'points': 1316.1072646056189},\n",
       " ('Stoliarov A.',\n",
       "  Timestamp('2000-04-10 00:00:00')): {'points': 1316.1072646056189},\n",
       " ('Clement A.', Timestamp('2000-04-10 00:00:00')): {'points': 376.0},\n",
       " ('Stanoytchev O.',\n",
       "  Timestamp('2000-04-10 00:00:00')): {'points': 1316.1072646056189},\n",
       " ('Guardiola T.',\n",
       "  Timestamp('2000-04-10 00:00:00')): {'points': 1316.1072646056189},\n",
       " ('Costa A.', Timestamp('2000-04-10 00:00:00')): {'points': 410.0},\n",
       " ('Voinea A.',\n",
       "  Timestamp('2000-04-10 00:00:00')): {'points': 1316.1072646056189},\n",
       " ('Golmard J.',\n",
       "  Timestamp('2000-04-10 00:00:00')): {'points': 1316.1072646056189},\n",
       " ('Nalbandian D.', Timestamp('2000-04-10 00:00:00')): {'points': 1650.0},\n",
       " ('Schuettler R.', Timestamp('2000-04-10 00:00:00')): {'points': 485.0},\n",
       " ('Blanco G.', Timestamp('2000-04-10 00:00:00')): {'points': 122.0},\n",
       " ('Lopez F.', Timestamp('2000-04-10 00:00:00')): {'points': 1230.0},\n",
       " ('Ljubicic I.', Timestamp('2000-04-10 00:00:00')): {'points': 1435.0},\n",
       " ('Berasategui A.',\n",
       "  Timestamp('2000-04-10 00:00:00')): {'points': 1316.1072646056189},\n",
       " ('Mota B.', Timestamp('2000-04-10 00:00:00')): {'points': 1316.1072646056189},\n",
       " ('Kafelnikov Y.',\n",
       "  Timestamp('2000-04-10 00:00:00')): {'points': 1316.1072646056189},\n",
       " ('Marques N.',\n",
       "  Timestamp('2000-04-10 00:00:00')): {'points': 1316.1072646056189},\n",
       " ('Zabaleta M.', Timestamp('2000-04-10 00:00:00')): {'points': 595.0},\n",
       " ('Pavel A.', Timestamp('2000-04-10 00:00:00')): {'points': 825.0},\n",
       " ('Burrieza O.',\n",
       "  Timestamp('2000-04-10 00:00:00')): {'points': 1316.1072646056189},\n",
       " ('Sa A.', Timestamp('2000-04-10 00:00:00')): {'points': 143.0},\n",
       " ('Gustafsson M.',\n",
       "  Timestamp('2000-04-10 00:00:00')): {'points': 1316.1072646056189},\n",
       " ('Canas G.', Timestamp('2000-04-10 00:00:00')): {'points': 404.0},\n",
       " ('Youzhny M.', Timestamp('2000-04-10 00:00:00')): {'points': 1200.0},\n",
       " ('Tieleman L.',\n",
       "  Timestamp('2000-04-10 00:00:00')): {'points': 1316.1072646056189},\n",
       " ('Rochus C.', Timestamp('2000-04-10 00:00:00')): {'points': 739.0},\n",
       " ('Lopez-Moron A.',\n",
       "  Timestamp('2000-04-10 00:00:00')): {'points': 1316.1072646056189},\n",
       " ('Coutelot N.',\n",
       "  Timestamp('2000-04-10 00:00:00')): {'points': 1316.1072646056189},\n",
       " ('Gumy H.', Timestamp('2000-04-10 00:00:00')): {'points': 1316.1072646056189},\n",
       " ('Alami K.',\n",
       "  Timestamp('2000-04-10 00:00:00')): {'points': 1316.1072646056189},\n",
       " ('Saulnier C.', Timestamp('2000-04-17 00:00:00')): {'points': 733.0},\n",
       " ('Huet S.', Timestamp('2000-04-17 00:00:00')): {'points': 1316.1072646056189},\n",
       " ('Philippoussis M.', Timestamp('2000-04-17 00:00:00')): {'points': 188.0},\n",
       " ('Clavet F.',\n",
       "  Timestamp('2000-04-17 00:00:00')): {'points': 1316.1072646056189},\n",
       " ('Safin M.', Timestamp('2000-04-17 00:00:00')): {'points': 3160.0},\n",
       " ('Rosset M.',\n",
       "  Timestamp('2000-04-17 00:00:00')): {'points': 1316.1072646056189},\n",
       " ('Haas T.', Timestamp('2000-04-17 00:00:00')): {'points': 1180.0},\n",
       " ('di Pasquale A.',\n",
       "  Timestamp('2000-04-17 00:00:00')): {'points': 1316.1072646056189},\n",
       " ('Rusedski G.', Timestamp('2000-04-17 00:00:00')): {'points': 863.0},\n",
       " ('El Aynaoui Y.', Timestamp('2000-04-17 00:00:00')): {'points': 64.0},\n",
       " ('Stanoytchev O.',\n",
       "  Timestamp('2000-04-17 00:00:00')): {'points': 1316.1072646056189},\n",
       " ('Woodruff C.',\n",
       "  Timestamp('2000-04-17 00:00:00')): {'points': 1316.1072646056189},\n",
       " ('Schuettler R.', Timestamp('2000-04-17 00:00:00')): {'points': 485.0},\n",
       " ('Lopez-Moron A.',\n",
       "  Timestamp('2000-04-17 00:00:00')): {'points': 1316.1072646056189},\n",
       " ('Ivanisevic G.',\n",
       "  Timestamp('2000-04-17 00:00:00')): {'points': 1316.1072646056189},\n",
       " ('Vinciguerra A.', Timestamp('2000-04-17 00:00:00')): {'points': 9.0},\n",
       " ('Chang M.',\n",
       "  Timestamp('2000-04-17 00:00:00')): {'points': 1316.1072646056189},\n",
       " ('Spadea V.', Timestamp('2000-04-17 00:00:00')): {'points': 730.0},\n",
       " ('Johansson T.', Timestamp('2000-04-17 00:00:00')): {'points': 1470.0},\n",
       " ('Lapentti N.', Timestamp('2000-04-17 00:00:00')): {'points': 410.0},\n",
       " ('Gaudenzi A.',\n",
       "  Timestamp('2000-04-17 00:00:00')): {'points': 1316.1072646056189},\n",
       " ('Krajicek R.',\n",
       "  Timestamp('2000-04-17 00:00:00')): {'points': 1316.1072646056189},\n",
       " ('Vacek D.',\n",
       "  Timestamp('2000-04-17 00:00:00')): {'points': 1316.1072646056189},\n",
       " ('Kucera K.', Timestamp('2000-04-17 00:00:00')): {'points': 279.0},\n",
       " ('Pioline C.',\n",
       "  Timestamp('2000-04-17 00:00:00')): {'points': 1316.1072646056189},\n",
       " ('Ruud C.', Timestamp('2000-04-17 00:00:00')): {'points': 195.0},\n",
       " ('Berasategui A.',\n",
       "  Timestamp('2000-04-17 00:00:00')): {'points': 1316.1072646056189},\n",
       " ('Meligeni F.',\n",
       "  Timestamp('2000-04-17 00:00:00')): {'points': 1316.1072646056189},\n",
       " ('Zabaleta M.', Timestamp('2000-04-17 00:00:00')): {'points': 595.0},\n",
       " ('Bjorkman J.', Timestamp('2000-04-17 00:00:00')): {'points': 403.0},\n",
       " ('Kafelnikov Y.',\n",
       "  Timestamp('2000-04-17 00:00:00')): {'points': 1316.1072646056189},\n",
       " ('Norman M.',\n",
       "  Timestamp('2000-04-17 00:00:00')): {'points': 1316.1072646056189},\n",
       " ('Mantilla F.', Timestamp('2000-04-17 00:00:00')): {'points': 454.0},\n",
       " ('Medvedev A.',\n",
       "  Timestamp('2000-04-17 00:00:00')): {'points': 1316.1072646056189},\n",
       " ('Moya C.', Timestamp('2000-04-17 00:00:00')): {'points': 1180.0},\n",
       " ('Novak J.', Timestamp('2000-04-17 00:00:00')): {'points': 1215.0},\n",
       " ('Boutter J.',\n",
       "  Timestamp('2000-04-17 00:00:00')): {'points': 1316.1072646056189},\n",
       " ('Santoro F.', Timestamp('2000-04-17 00:00:00')): {'points': 501.0},\n",
       " ('Henman T.', Timestamp('2000-04-17 00:00:00')): {'points': 1580.0},\n",
       " ('Arazi H.',\n",
       "  Timestamp('2000-04-17 00:00:00')): {'points': 1316.1072646056189},\n",
       " ('Golmard J.',\n",
       "  Timestamp('2000-04-17 00:00:00')): {'points': 1316.1072646056189},\n",
       " ('Ferreira W.',\n",
       "  Timestamp('2000-04-17 00:00:00')): {'points': 1316.1072646056189},\n",
       " ('Escude N.',\n",
       "  Timestamp('2000-04-17 00:00:00')): {'points': 1316.1072646056189},\n",
       " ('Enqvist T.', Timestamp('2000-04-17 00:00:00')): {'points': 257.0},\n",
       " ('Sargsian S.', Timestamp('2000-04-17 00:00:00')): {'points': 394.0},\n",
       " ('Federer R.', Timestamp('2000-04-17 00:00:00')): {'points': 6500.0},\n",
       " ('Alami K.',\n",
       "  Timestamp('2000-04-17 00:00:00')): {'points': 1316.1072646056189},\n",
       " ('Squillari F.',\n",
       "  Timestamp('2000-04-17 00:00:00')): {'points': 1316.1072646056189},\n",
       " ('Koubek S.', Timestamp('2000-04-17 00:00:00')): {'points': 488.0},\n",
       " ('Grosjean S.', Timestamp('2000-04-17 00:00:00')): {'points': 970.0},\n",
       " ('Rios M.', Timestamp('2000-04-17 00:00:00')): {'points': 1316.1072646056189},\n",
       " ('Kuerten G.', Timestamp('2000-04-17 00:00:00')): {'points': 185.0},\n",
       " ('Hrbaty D.', Timestamp('2000-04-17 00:00:00')): {'points': 1206.0},\n",
       " ('Costa A.', Timestamp('2000-04-17 00:00:00')): {'points': 410.0},\n",
       " ('Portas A.', Timestamp('2000-04-17 00:00:00')): {'points': 315.0},\n",
       " ('Chela J.I.', Timestamp('2000-04-17 00:00:00')): {'points': 730.0},\n",
       " ...}"
      ]
     },
     "execution_count": 42,
     "metadata": {},
     "output_type": "execute_result"
    }
   ],
   "source": [
    "dictPlayerPoints"
   ]
  },
  {
   "cell_type": "code",
   "execution_count": 43,
   "metadata": {},
   "outputs": [],
   "source": [
    "def getPoints(player,date):\n",
    "        return(dictPlayerPoints[player, date]['points'])"
   ]
  },
  {
   "cell_type": "code",
   "execution_count": 44,
   "metadata": {
    "scrolled": true
   },
   "outputs": [],
   "source": [
    "df_atp.loc[:,'WPts'] = df_atp.apply(lambda row: getPoints(row['Winner'], row['Date']), axis=1)\n",
    "df_atp.loc[:,'LPts'] = df_atp.apply(lambda row: getPoints(row['Loser'], row['Date']), axis=1)"
   ]
  },
  {
   "cell_type": "code",
   "execution_count": 45,
   "metadata": {},
   "outputs": [
    {
     "data": {
      "text/plain": [
       "LPts    0\n",
       "WPts    0\n",
       "dtype: int64"
      ]
     },
     "execution_count": 45,
     "metadata": {},
     "output_type": "execute_result"
    }
   ],
   "source": [
    "df_atp[['LPts','WPts']].isnull().sum()"
   ]
  },
  {
   "cell_type": "code",
   "execution_count": 46,
   "metadata": {},
   "outputs": [
    {
     "data": {
      "text/plain": [
       "Text(0.5, 1.0, 'WPts for Federer R.')"
      ]
     },
     "execution_count": 46,
     "metadata": {},
     "output_type": "execute_result"
    },
    {
     "data": {
      "image/png": "[encoded data removed]",
      "text/plain": [
       "<Figure size 432x288 with 1 Axes>"
      ]
     },
     "metadata": {
      "needs_background": "light"
     },
     "output_type": "display_data"
    }
   ],
   "source": [
    "plt.plot(df_atp.loc[(df_atp['Winner']=='Federer R.')]['Date'],df_atp.loc[df_atp['Winner']=='Federer R.']['WPts'])\n",
    "plt.ylabel('Number of points')\n",
    "plt.title('WPts for Federer R.')"
   ]
  },
  {
   "cell_type": "markdown",
   "metadata": {},
   "source": [
    "Now we are going to replace the missing values in the test set using the same steps"
   ]
  },
  {
   "cell_type": "code",
   "execution_count": 47,
   "metadata": {},
   "outputs": [],
   "source": [
    "playerPointstest = pd.DataFrame()\n",
    "playerPointstest['player'] = pd.concat([test['Winner'],test['Loser']])                                    \n",
    "playerPointstest['points'] = pd.concat([test['WPts'],test['LPts']])                                    \n",
    "playerPointstest['Date'] = pd.concat([test['Date'],test['Date']])"
   ]
  },
  {
   "cell_type": "code",
   "execution_count": 48,
   "metadata": {},
   "outputs": [],
   "source": [
    "playerPoints = pd.concat([playerPoints,playerPointstest])"
   ]
  },
  {
   "cell_type": "code",
   "execution_count": 49,
   "metadata": {},
   "outputs": [],
   "source": [
    "playerPoints.drop_duplicates(['player','Date'], keep='first', inplace = True)"
   ]
  },
  {
   "cell_type": "code",
   "execution_count": 50,
   "metadata": {},
   "outputs": [],
   "source": [
    "playerPoints = playerPoints.sort_values(by='Date')\n",
    "playerPoints = playerPoints.reset_index(drop=True)"
   ]
  },
  {
   "cell_type": "code",
   "execution_count": 51,
   "metadata": {},
   "outputs": [],
   "source": [
    "players = playerPoints.player.unique()\n",
    "for p in players:\n",
    "    playerPoints.loc[playerPoints['player'] == p] = playerPoints.loc[playerPoints['player'] == p].interpolate(method ='linear', limit_direction ='both') "
   ]
  },
  {
   "cell_type": "code",
   "execution_count": 52,
   "metadata": {},
   "outputs": [],
   "source": [
    "playerPoints[['points']] =  imp_mean.fit_transform(playerPoints[['points']])"
   ]
  },
  {
   "cell_type": "code",
   "execution_count": 53,
   "metadata": {},
   "outputs": [],
   "source": [
    "dictPlayerPoints = playerPoints.set_index(['player', 'Date']).to_dict('index')"
   ]
  },
  {
   "cell_type": "code",
   "execution_count": 54,
   "metadata": {},
   "outputs": [],
   "source": [
    "test.loc[:,'WPts'] = test.apply(lambda row: getPoints(row['Winner'], row['Date']), axis=1)\n",
    "test.loc[:,'LPts'] = test.apply(lambda row: getPoints(row['Loser'], row['Date']), axis=1)"
   ]
  },
  {
   "cell_type": "code",
   "execution_count": 55,
   "metadata": {},
   "outputs": [
    {
     "data": {
      "text/plain": [
       "LPts    0\n",
       "WPts    0\n",
       "dtype: int64"
      ]
     },
     "execution_count": 55,
     "metadata": {},
     "output_type": "execute_result"
    }
   ],
   "source": [
    "test[['LPts','WPts']].isnull().sum()"
   ]
  },
  {
   "cell_type": "markdown",
   "metadata": {},
   "source": [
    "##### odds"
   ]
  },
  {
   "cell_type": "markdown",
   "metadata": {},
   "source": [
    "Since we have an important number of sources for the odds, and since they contain a very important number of missing values, we will aggregate them in a small number of features.\n",
    "\n",
    "1. For the mean:\n",
    "    a. We will create two columns AvgOddsL and AvgOddsW representing the mean of the betting odds from different sources for every player on every match\n",
    "    b. We will make the mean of the average ods that we calculated and the ones provided by the dataset (AvgOddsW with AvgW and AvgOddsL with AvgL)\n",
    "    \n",
    "2. For the max:\n",
    "    a. We will create two columns MaxOddsL and MaxOddsW representing the max of the betting odds from different sources for every player on every match\n",
    "    b. We will impute the missing values of MaxL and MaxW with the values of MaxOddsL and MaxOddsW\n",
    "\n",
    "3. We will delete the initial values\n",
    "4. We will impute the remaining values with the median"
   ]
  },
  {
   "cell_type": "code",
   "execution_count": 56,
   "metadata": {},
   "outputs": [],
   "source": [
    "oddsW = [ 'B&WW', 'B365W', 'CBW', 'EXW', 'GBW', 'IWW', 'LBW', 'PSW', 'SBW', 'SJW', 'UBW']\n",
    "oddsL = [ 'B&WL', 'B365L', 'CBL', 'EXL', 'GBL', 'IWL', 'LBL', 'PSL', 'SBL', 'SJL', 'UBL']"
   ]
  },
  {
   "cell_type": "markdown",
   "metadata": {},
   "source": [
    "* The mean"
   ]
  },
  {
   "cell_type": "code",
   "execution_count": 57,
   "metadata": {},
   "outputs": [],
   "source": [
    "df_atp.loc[:,'EXW'] = pd.to_numeric(df_atp.loc[:,'EXW'],errors='coerce')\n",
    "test.loc[:,'EXW'] = pd.to_numeric(test.loc[:,'EXW'],errors='coerce')"
   ]
  },
  {
   "cell_type": "code",
   "execution_count": 58,
   "metadata": {},
   "outputs": [],
   "source": [
    "df_atp.loc[:,'AvgOddsL'] = df_atp.loc[:,oddsL].mean(axis=1)\n",
    "df_atp.loc[:,'AvgOddsW'] = df_atp.loc[:,oddsW].mean(axis=1)\n",
    "\n",
    "test.loc[:,'AvgOddsL'] = test.loc[:,oddsL].mean(axis=1)\n",
    "test.loc[:,'AvgOddsW'] = test.loc[:,oddsW].mean(axis=1)"
   ]
  },
  {
   "cell_type": "code",
   "execution_count": 59,
   "metadata": {
    "scrolled": true
   },
   "outputs": [
    {
     "name": "stdout",
     "output_type": "stream",
     "text": [
      "    * Train\n",
      "AvgOddsL    3905\n",
      "AvgOddsW    3905\n",
      "dtype: int64\n",
      "AvgL    29500\n",
      "AvgW    29500\n",
      "dtype: int64\n",
      "    * Test\n",
      "AvgOddsL    5\n",
      "AvgOddsW    5\n",
      "dtype: int64\n",
      "AvgL    3\n",
      "AvgW    3\n",
      "dtype: int64\n"
     ]
    }
   ],
   "source": [
    "print(\"    * Train\")\n",
    "print(df_atp[['AvgOddsL','AvgOddsW']].isnull().sum())\n",
    "print(df_atp[['AvgL','AvgW']].isnull().sum())\n",
    "print(\"    * Test\")\n",
    "print(test[['AvgOddsL','AvgOddsW']].isnull().sum())\n",
    "print(test[['AvgL','AvgW']].isnull().sum())"
   ]
  },
  {
   "cell_type": "code",
   "execution_count": 60,
   "metadata": {},
   "outputs": [],
   "source": [
    "df_atp.loc[:,'AvgL'] = df_atp.loc[:,['AvgL','AvgOddsL']].mean(axis=1)\n",
    "df_atp.loc[:,'AvgW'] = df_atp.loc[:,['AvgW','AvgOddsW']].mean(axis=1)\n",
    "\n",
    "test.loc[:,'AvgL'] = test.loc[:,['AvgL','AvgOddsL']].mean(axis=1)\n",
    "test.loc[:,'AvgW'] = test.loc[:,['AvgW','AvgOddsW']].mean(axis=1)"
   ]
  },
  {
   "cell_type": "code",
   "execution_count": 61,
   "metadata": {},
   "outputs": [
    {
     "name": "stdout",
     "output_type": "stream",
     "text": [
      "    * Train\n",
      "AvgL    3884\n",
      "AvgW    3884\n",
      "dtype: int64\n",
      "    * Test\n",
      "AvgL    3\n",
      "AvgW    3\n",
      "dtype: int64\n"
     ]
    }
   ],
   "source": [
    "print(\"    * Train\")\n",
    "print(df_atp[['AvgL','AvgW']].isnull().sum())\n",
    "print(\"    * Test\")\n",
    "print(test[['AvgL','AvgW']].isnull().sum())"
   ]
  },
  {
   "cell_type": "markdown",
   "metadata": {},
   "source": [
    "* The max"
   ]
  },
  {
   "cell_type": "code",
   "execution_count": 62,
   "metadata": {},
   "outputs": [],
   "source": [
    "df_atp.loc[:,'MaxOddsL'] = df_atp.loc[:,oddsL].max(axis=1)\n",
    "df_atp.loc[:,'MaxOddsW'] = df_atp.loc[:,oddsW].max(axis=1)\n",
    "\n",
    "test.loc[:,'MaxOddsL'] = test.loc[:,oddsL].max(axis=1)\n",
    "test.loc[:,'MaxOddsW'] = test.loc[:,oddsW].max(axis=1)"
   ]
  },
  {
   "cell_type": "code",
   "execution_count": 63,
   "metadata": {},
   "outputs": [],
   "source": [
    "df_atp.loc[:,'MaxL'].fillna(df_atp['MaxOddsL'], inplace=True)\n",
    "df_atp.loc[:,'MaxW'].fillna(df_atp['MaxOddsW'], inplace=True)\n",
    "\n",
    "test.loc[:,'MaxL'].fillna(test['MaxOddsL'], inplace=True)\n",
    "test.loc[:,'MaxW'].fillna(test['MaxOddsW'], inplace=True)"
   ]
  },
  {
   "cell_type": "code",
   "execution_count": 64,
   "metadata": {},
   "outputs": [
    {
     "name": "stdout",
     "output_type": "stream",
     "text": [
      "    * Train\n",
      "MaxL    3884\n",
      "MaxW    3884\n",
      "dtype: int64\n",
      "    * Test\n",
      "MaxL    3\n",
      "MaxW    3\n",
      "dtype: int64\n"
     ]
    }
   ],
   "source": [
    "print(\"    * Train\")\n",
    "print(df_atp[['MaxL','MaxW']].isnull().sum())\n",
    "print(\"    * Test\")\n",
    "print(test[['MaxL','MaxW']].isnull().sum())"
   ]
  },
  {
   "cell_type": "markdown",
   "metadata": {},
   "source": [
    "* Deleting the unused columns"
   ]
  },
  {
   "cell_type": "code",
   "execution_count": 65,
   "metadata": {
    "scrolled": true
   },
   "outputs": [],
   "source": [
    "df_atp.drop(oddsL+oddsW+['MaxOddsL','MaxOddsW','AvgOddsL','AvgOddsW'], inplace=True, axis=1)\n",
    "test.drop(oddsL+oddsW+['MaxOddsL','MaxOddsW','AvgOddsL','AvgOddsW'], inplace=True, axis=1)"
   ]
  },
  {
   "cell_type": "code",
   "execution_count": 66,
   "metadata": {},
   "outputs": [
    {
     "data": {
      "text/plain": [
       "Index(['ATP', 'Location', 'Tournament', 'Date', 'Series', 'Court', 'Surface',\n",
       "       'Round', 'Best of', 'Winner', 'Loser', 'WRank', 'LRank', 'Comment',\n",
       "       'WPts', 'LPts', 'MaxW', 'MaxL', 'AvgW', 'AvgL', 'year'],\n",
       "      dtype='object')"
      ]
     },
     "execution_count": 66,
     "metadata": {},
     "output_type": "execute_result"
    }
   ],
   "source": [
    "df_atp.columns"
   ]
  },
  {
   "cell_type": "code",
   "execution_count": 67,
   "metadata": {},
   "outputs": [
    {
     "data": {
      "text/html": [
       "<div>\n",
       "<style scoped>\n",
       "    .dataframe tbody tr th:only-of-type {\n",
       "        vertical-align: middle;\n",
       "    }\n",
       "\n",
       "    .dataframe tbody tr th {\n",
       "        vertical-align: top;\n",
       "    }\n",
       "\n",
       "    .dataframe thead th {\n",
       "        text-align: right;\n",
       "    }\n",
       "</style>\n",
       "<table border=\"1\" class=\"dataframe\">\n",
       "  <thead>\n",
       "    <tr style=\"text-align: right;\">\n",
       "      <th></th>\n",
       "      <th>MaxL</th>\n",
       "      <th>MaxW</th>\n",
       "      <th>AvgL</th>\n",
       "      <th>AvgW</th>\n",
       "    </tr>\n",
       "  </thead>\n",
       "  <tbody>\n",
       "    <tr>\n",
       "      <th>count</th>\n",
       "      <td>45692.000000</td>\n",
       "      <td>45692.000000</td>\n",
       "      <td>45692.000000</td>\n",
       "      <td>45692.000000</td>\n",
       "    </tr>\n",
       "    <tr>\n",
       "      <th>mean</th>\n",
       "      <td>5.966609</td>\n",
       "      <td>1.946517</td>\n",
       "      <td>3.364696</td>\n",
       "      <td>1.812361</td>\n",
       "    </tr>\n",
       "    <tr>\n",
       "      <th>std</th>\n",
       "      <td>280.290444</td>\n",
       "      <td>1.350180</td>\n",
       "      <td>3.063397</td>\n",
       "      <td>0.990003</td>\n",
       "    </tr>\n",
       "    <tr>\n",
       "      <th>min</th>\n",
       "      <td>1.010000</td>\n",
       "      <td>1.010000</td>\n",
       "      <td>1.008200</td>\n",
       "      <td>1.004400</td>\n",
       "    </tr>\n",
       "    <tr>\n",
       "      <th>25%</th>\n",
       "      <td>1.820000</td>\n",
       "      <td>1.300000</td>\n",
       "      <td>1.727950</td>\n",
       "      <td>1.260000</td>\n",
       "    </tr>\n",
       "    <tr>\n",
       "      <th>50%</th>\n",
       "      <td>2.630000</td>\n",
       "      <td>1.580000</td>\n",
       "      <td>2.446000</td>\n",
       "      <td>1.516667</td>\n",
       "    </tr>\n",
       "    <tr>\n",
       "      <th>75%</th>\n",
       "      <td>4.100000</td>\n",
       "      <td>2.180000</td>\n",
       "      <td>3.690000</td>\n",
       "      <td>2.036250</td>\n",
       "    </tr>\n",
       "    <tr>\n",
       "      <th>max</th>\n",
       "      <td>42586.000000</td>\n",
       "      <td>76.000000</td>\n",
       "      <td>47.240000</td>\n",
       "      <td>25.280000</td>\n",
       "    </tr>\n",
       "  </tbody>\n",
       "</table>\n",
       "</div>"
      ],
      "text/plain": [
       "               MaxL          MaxW          AvgL          AvgW\n",
       "count  45692.000000  45692.000000  45692.000000  45692.000000\n",
       "mean       5.966609      1.946517      3.364696      1.812361\n",
       "std      280.290444      1.350180      3.063397      0.990003\n",
       "min        1.010000      1.010000      1.008200      1.004400\n",
       "25%        1.820000      1.300000      1.727950      1.260000\n",
       "50%        2.630000      1.580000      2.446000      1.516667\n",
       "75%        4.100000      2.180000      3.690000      2.036250\n",
       "max    42586.000000     76.000000     47.240000     25.280000"
      ]
     },
     "execution_count": 67,
     "metadata": {},
     "output_type": "execute_result"
    }
   ],
   "source": [
    "df_atp[['MaxL','MaxW','AvgL','AvgW']].describe()"
   ]
  },
  {
   "cell_type": "markdown",
   "metadata": {},
   "source": [
    "* Imputing with the median"
   ]
  },
  {
   "cell_type": "code",
   "execution_count": 68,
   "metadata": {
    "scrolled": true
   },
   "outputs": [],
   "source": [
    "odds = ['MaxL','MaxW','AvgL','AvgW']\n",
    "imp_mean = SimpleImputer(strategy='median')\n",
    "df_atp.loc[:,odds] =  imp_mean.fit_transform(df_atp[odds])\n",
    "test.loc[:,odds] =  imp_mean.fit_transform(test[odds])"
   ]
  },
  {
   "cell_type": "code",
   "execution_count": 69,
   "metadata": {},
   "outputs": [
    {
     "name": "stdout",
     "output_type": "stream",
     "text": [
      "    * Train\n",
      "MaxL    0\n",
      "MaxW    0\n",
      "AvgL    0\n",
      "AvgW    0\n",
      "dtype: int64\n",
      "    * Test\n",
      "MaxL    0\n",
      "MaxW    0\n",
      "AvgL    0\n",
      "AvgW    0\n",
      "dtype: int64\n"
     ]
    }
   ],
   "source": [
    "print(\"    * Train\")\n",
    "print(df_atp[odds].isnull().sum())\n",
    "print(\"    * Test\")\n",
    "print(test[odds].isnull().sum())"
   ]
  },
  {
   "cell_type": "markdown",
   "metadata": {},
   "source": [
    "### 1.4. Preparing the features"
   ]
  },
  {
   "cell_type": "markdown",
   "metadata": {},
   "source": [
    "#### Transforming the date"
   ]
  },
  {
   "cell_type": "code",
   "execution_count": 70,
   "metadata": {},
   "outputs": [],
   "source": [
    "df_atp['Month'] = pd.DatetimeIndex(df_atp['Date']).month\n",
    "test['Month'] = pd.DatetimeIndex(test['Date']).month"
   ]
  },
  {
   "cell_type": "code",
   "execution_count": 71,
   "metadata": {},
   "outputs": [],
   "source": [
    "df_atp.drop(['Date'], inplace=True, axis=1)\n",
    "test.drop(['Date'], inplace=True, axis=1)"
   ]
  },
  {
   "cell_type": "markdown",
   "metadata": {},
   "source": [
    "#### Encoding categoorical features"
   ]
  },
  {
   "cell_type": "code",
   "execution_count": 72,
   "metadata": {
    "scrolled": true
   },
   "outputs": [
    {
     "data": {
      "text/plain": [
       "ATP             int64\n",
       "Location       object\n",
       "Tournament     object\n",
       "Series         object\n",
       "Court          object\n",
       "Surface        object\n",
       "Round          object\n",
       "Best of         int64\n",
       "Winner         object\n",
       "Loser          object\n",
       "WRank         float64\n",
       "LRank         float64\n",
       "Comment        object\n",
       "WPts          float64\n",
       "LPts          float64\n",
       "MaxW          float64\n",
       "MaxL          float64\n",
       "AvgW          float64\n",
       "AvgL          float64\n",
       "year            int64\n",
       "Month           int64\n",
       "dtype: object"
      ]
     },
     "execution_count": 72,
     "metadata": {},
     "output_type": "execute_result"
    }
   ],
   "source": [
    "df_atp.dtypes"
   ]
  },
  {
   "cell_type": "markdown",
   "metadata": {},
   "source": [
    "Since the rounds follow a certain order, we will map them to their logical values"
   ]
  },
  {
   "cell_type": "code",
   "execution_count": 73,
   "metadata": {},
   "outputs": [],
   "source": [
    "df_atp['Round']=df_atp['Round'].map({'Round Robin':0, '1st Round':1,'2nd Round':2,'3rd Round':3,'4th Round':4, 'Quarterfinals':5,\n",
    "                             'Semifinals':6,'The Final':7,'Sep':8,'Dec':9})\n",
    "\n",
    "test['Round']=test['Round'].map({'Round Robin':0, '1st Round':1,'2nd Round':2,'3rd Round':3,'4th Round':4, 'Quarterfinals':5,\n",
    "                             'Semifinals':6,'The Final':7,'Sep':8,'Dec':9})"
   ]
  },
  {
   "cell_type": "markdown",
   "metadata": {},
   "source": [
    "One hot encoding the features Comment, Court, Series and Surface since they are non ordinal categorical features with a relatively low number of unique values"
   ]
  },
  {
   "cell_type": "code",
   "execution_count": 74,
   "metadata": {
    "scrolled": true
   },
   "outputs": [
    {
     "data": {
      "text/plain": [
       "ATP           0\n",
       "Location      0\n",
       "Tournament    0\n",
       "Series        0\n",
       "Court         0\n",
       "Surface       0\n",
       "Round         0\n",
       "Best of       0\n",
       "Winner        0\n",
       "Loser         0\n",
       "WRank         0\n",
       "LRank         0\n",
       "Comment       0\n",
       "WPts          0\n",
       "LPts          0\n",
       "MaxW          0\n",
       "MaxL          0\n",
       "AvgW          0\n",
       "AvgL          0\n",
       "year          0\n",
       "Month         0\n",
       "dtype: int64"
      ]
     },
     "execution_count": 74,
     "metadata": {},
     "output_type": "execute_result"
    }
   ],
   "source": [
    "df_atp.isnull().sum()"
   ]
  },
  {
   "cell_type": "code",
   "execution_count": 75,
   "metadata": {},
   "outputs": [],
   "source": [
    "leComment = LabelEncoder()\n",
    "df_atp['Comment_encoded'] = leComment.fit_transform(df_atp['Comment'])\n",
    "test['Comment_encoded'] = leComment.transform(test['Comment'])\n",
    "\n",
    "leCourt = LabelEncoder()\n",
    "df_atp['Court_encoded'] = leCourt.fit_transform(df_atp['Court'])\n",
    "test['Court_encoded'] = leCourt.transform(test['Court'])\n",
    "\n",
    "leSeries = LabelEncoder()\n",
    "df_atp['Series_encoded'] = leSeries.fit_transform(df_atp['Series'])\n",
    "test['Series_encoded'] = leSeries.transform(test['Series'])\n",
    "\n",
    "leSurface = LabelEncoder()\n",
    "df_atp['Surface_encoded'] = leSurface.fit_transform(df_atp['Surface'])\n",
    "test['Surface_encoded'] = leSurface.transform(test['Surface'])"
   ]
  },
  {
   "cell_type": "code",
   "execution_count": 76,
   "metadata": {},
   "outputs": [],
   "source": [
    "oheComment = OneHotEncoder(categories='auto', drop='first')\n",
    "XComment = oheComment.fit_transform(df_atp[[\"Comment_encoded\"]]).toarray()\n",
    "XCommentTest = oheComment.transform(test[[\"Comment_encoded\"]]).toarray()\n",
    "\n",
    "oheCourt = OneHotEncoder(categories='auto', drop='first')\n",
    "XCourt = oheCourt.fit_transform(df_atp[[\"Court_encoded\"]]).toarray()\n",
    "XCourtTest = oheCourt.transform(test[[\"Court_encoded\"]]).toarray()\n",
    "\n",
    "oheSeries = OneHotEncoder(categories='auto', drop='first')\n",
    "XSeries = oheSeries.fit_transform(df_atp[[\"Series_encoded\"]]).toarray()\n",
    "XSeriesTest = oheSeries.transform(test[[\"Series_encoded\"]]).toarray()\n",
    "\n",
    "oheSurface = OneHotEncoder(categories='auto', drop='first')\n",
    "XSurface = oheSurface.fit_transform(df_atp[[\"Surface_encoded\"]]).toarray()\n",
    "XSurfaceTest = oheSurface.transform(test[[\"Surface_encoded\"]]).toarray()"
   ]
  },
  {
   "cell_type": "code",
   "execution_count": 77,
   "metadata": {},
   "outputs": [],
   "source": [
    "df_atp.reset_index(drop=True, inplace=True)\n",
    "test.reset_index(drop=True, inplace=True)"
   ]
  },
  {
   "cell_type": "code",
   "execution_count": 78,
   "metadata": {
    "scrolled": true
   },
   "outputs": [],
   "source": [
    "dfComment = pd.DataFrame(XComment, columns =  [\"Comment_\"+str(int(i)) for i in oheComment.categories_[0][1:] ])\n",
    "testComment = pd.DataFrame(XCommentTest, columns = [\"Comment_\"+str(int(i)) for i in oheComment.categories_[0][1:]])\n",
    "df_atp = pd.concat([df_atp, dfComment], axis=1)\n",
    "test = pd.concat([test, testComment], axis=1)\n",
    "\n",
    "\n",
    "dfCourt = pd.DataFrame(XCourt, columns =  [\"Court_\"+str(int(i)) for i in oheCourt.categories_[0][1:] ])\n",
    "testCourt = pd.DataFrame(XCourtTest, columns = [\"Court_\"+str(int(i)) for i in oheCourt.categories_[0][1:]])\n",
    "df_atp = pd.concat([df_atp, dfCourt], axis=1)\n",
    "test = pd.concat([test, testCourt], axis=1)\n",
    "\n",
    "\n",
    "dfSeries = pd.DataFrame(XSeries, columns = [\"Series_\"+str(int(i)) for i in oheSeries.categories_[0][1:]])\n",
    "testSeries = pd.DataFrame(XSeriesTest, columns = [\"Series_\"+str(int(i)) for i in oheSeries.categories_[0][1:]])\n",
    "df_atp = pd.concat([df_atp, dfSeries], axis=1)\n",
    "test = pd.concat([test, testSeries], axis=1)\n",
    "\n",
    "\n",
    "dfSurface = pd.DataFrame(XSurface, columns = [\"Surface_\"+str(int(i)) for i in oheSurface.categories_[0][1:]])\n",
    "testSurface = pd.DataFrame(XSurfaceTest, columns = [\"Surface_\"+str(int(i)) for i in oheSurface.categories_[0][1:]])\n",
    "df_atp = pd.concat([df_atp, dfSurface], axis=1)\n",
    "test = pd.concat([test, testSurface], axis=1)"
   ]
  },
  {
   "cell_type": "markdown",
   "metadata": {},
   "source": [
    "Hash the features Location and Tournament since they are non ordinal categorical features a very important number of unique values"
   ]
  },
  {
   "cell_type": "code",
   "execution_count": 79,
   "metadata": {
    "scrolled": true
   },
   "outputs": [],
   "source": [
    "fhLoc = FeatureHasher(n_features=4, input_type='string')\n",
    "hashed_locations = fhLoc.fit_transform(df_atp['Location'].astype(str))\n",
    "hashed_locations_test = fhLoc.transform(test['Location'].astype(str))\n",
    "hashed_locations = hashed_locations.toarray()\n",
    "hashed_locations_test = hashed_locations_test.toarray()\n",
    "df_atp = pd.concat([df_atp, pd.DataFrame(hashed_locations, columns=['Location_0', 'Location_1', 'Location_2', 'Location_3'])], \n",
    "          axis=1)\n",
    "test = pd.concat([test, pd.DataFrame(hashed_locations_test, columns=['Location_0', 'Location_1', 'Location_2', 'Location_3'])], \n",
    "          axis=1)"
   ]
  },
  {
   "cell_type": "code",
   "execution_count": 80,
   "metadata": {},
   "outputs": [],
   "source": [
    "fhTour = FeatureHasher(n_features=5, input_type='string')\n",
    "hashed_Tournament = fhTour.fit_transform(df_atp['Tournament'].astype(str))\n",
    "hashed_Tournament_test = fhTour.transform(test['Tournament'].astype(str))\n",
    "hashed_Tournament = hashed_Tournament.toarray()\n",
    "hashed_Tournament_test = hashed_Tournament_test.toarray()\n",
    "df_atp = pd.concat([df_atp, pd.DataFrame(hashed_Tournament, columns=['Tournament_0','Tournament_1','Tournament_2',\n",
    "                                                                   'Tournament_3','Tournament_4'])],axis=1)\n",
    "test = pd.concat([test, pd.DataFrame(hashed_Tournament_test, columns=['Tournament_0','Tournament_1','Tournament_2',\n",
    "                                                                   'Tournament_3','Tournament_4'])],axis=1)"
   ]
  },
  {
   "cell_type": "markdown",
   "metadata": {},
   "source": [
    "Label encoding the Winner and the Loser"
   ]
  },
  {
   "cell_type": "code",
   "execution_count": 81,
   "metadata": {},
   "outputs": [],
   "source": [
    "players = list(df_atp['Winner'])+ list(df_atp['Loser'])+list(test['Winner'])+list(test['Loser'])"
   ]
  },
  {
   "cell_type": "code",
   "execution_count": 82,
   "metadata": {},
   "outputs": [],
   "source": [
    "lePlayer = LabelEncoder()\n",
    "lePlayer.fit(players)\n",
    "df_atp['Winner'] = lePlayer.transform(df_atp['Winner'])\n",
    "df_atp['Loser'] = lePlayer.transform(df_atp['Loser'])\n",
    "\n",
    "test['Winner'] = lePlayer.transform(test['Winner'])\n",
    "test['Loser'] = lePlayer.transform(test['Loser'])"
   ]
  },
  {
   "cell_type": "code",
   "execution_count": 83,
   "metadata": {
    "scrolled": true
   },
   "outputs": [
    {
     "data": {
      "text/plain": [
       "ATP                  int64\n",
       "Location            object\n",
       "Tournament          object\n",
       "Series              object\n",
       "Court               object\n",
       "Surface             object\n",
       "Round                int64\n",
       "Best of              int64\n",
       "Winner               int32\n",
       "Loser                int32\n",
       "WRank              float64\n",
       "LRank              float64\n",
       "Comment             object\n",
       "WPts               float64\n",
       "LPts               float64\n",
       "MaxW               float64\n",
       "MaxL               float64\n",
       "AvgW               float64\n",
       "AvgL               float64\n",
       "year                 int64\n",
       "Month                int64\n",
       "Comment_encoded      int32\n",
       "Court_encoded        int32\n",
       "Series_encoded       int32\n",
       "Surface_encoded      int32\n",
       "Comment_1          float64\n",
       "Comment_2          float64\n",
       "Comment_3          float64\n",
       "Comment_4          float64\n",
       "Court_1            float64\n",
       "Series_1           float64\n",
       "Series_2           float64\n",
       "Series_3           float64\n",
       "Series_4           float64\n",
       "Series_5           float64\n",
       "Series_6           float64\n",
       "Series_7           float64\n",
       "Surface_1          float64\n",
       "Surface_2          float64\n",
       "Surface_3          float64\n",
       "Location_0         float64\n",
       "Location_1         float64\n",
       "Location_2         float64\n",
       "Location_3         float64\n",
       "Tournament_0       float64\n",
       "Tournament_1       float64\n",
       "Tournament_2       float64\n",
       "Tournament_3       float64\n",
       "Tournament_4       float64\n",
       "dtype: object"
      ]
     },
     "execution_count": 83,
     "metadata": {},
     "output_type": "execute_result"
    }
   ],
   "source": [
    "df_atp.dtypes"
   ]
  },
  {
   "cell_type": "markdown",
   "metadata": {},
   "source": [
    "All of our new features are numerical."
   ]
  },
  {
   "cell_type": "markdown",
   "metadata": {},
   "source": [
    "#### Preparing the label and encoding the names of the winners and the losers"
   ]
  },
  {
   "cell_type": "markdown",
   "metadata": {},
   "source": [
    "We will randomly assign the winner and the loser to player_1 and player_2"
   ]
  },
  {
   "cell_type": "code",
   "execution_count": 84,
   "metadata": {},
   "outputs": [],
   "source": [
    "def getPlayer0(winner, loser, number):\n",
    "    if (number == 0):\n",
    "        return winner\n",
    "    else:\n",
    "        return loser\n",
    "\n",
    "def getPlayer1(winner, loser, number):\n",
    "    if (number == 0):\n",
    "        return loser\n",
    "    else:\n",
    "        return winner"
   ]
  },
  {
   "cell_type": "code",
   "execution_count": 85,
   "metadata": {},
   "outputs": [],
   "source": [
    "def getPlayer0Rank(winnerRank, loserRank, number):\n",
    "    if (number == 0):\n",
    "        return winnerRank\n",
    "    else:\n",
    "        return loserRank\n",
    "\n",
    "def getPlayer1Rank(winnerRank, loserRank, number):\n",
    "    if (number == 0):\n",
    "        return loserRank\n",
    "    else:\n",
    "        return winnerRank"
   ]
  },
  {
   "cell_type": "code",
   "execution_count": 86,
   "metadata": {},
   "outputs": [],
   "source": [
    "def getPlayer0Points(winnerPoints, loserPoints, number):\n",
    "    if (number == 0):\n",
    "        return winnerPoints\n",
    "    else:\n",
    "        return loserPoints\n",
    "\n",
    "def getPlayer1Points(winnerPoints, loserPoints, number):\n",
    "    if (number == 0):\n",
    "        return loserPoints\n",
    "    else:\n",
    "        return winnerPoints"
   ]
  },
  {
   "cell_type": "code",
   "execution_count": 87,
   "metadata": {},
   "outputs": [],
   "source": [
    "def getPlayer0MaxOdds(winnerMaxOdds, loserMaxOdds, number):\n",
    "    if (number == 0):\n",
    "        return winnerMaxOdds\n",
    "    else:\n",
    "        return loserMaxOdds\n",
    "\n",
    "def getPlayer1MaxOdds(winnerMaxOdds, loserMaxOdds, number):\n",
    "    if (number == 0):\n",
    "        return loserMaxOdds\n",
    "    else:\n",
    "        return winnerMaxOdds"
   ]
  },
  {
   "cell_type": "code",
   "execution_count": 88,
   "metadata": {},
   "outputs": [],
   "source": [
    "def getPlayer0AvgOdds(winnerAvgOdds, loserAvgOddss, number):\n",
    "    if (number == 0):\n",
    "        return winnerAvgOdds\n",
    "    else:\n",
    "        return loserAvgOddss\n",
    "\n",
    "def getPlayer1AvgOdds(winnerAvgOdds, loserAvgOddss, number):\n",
    "    if (number == 0):\n",
    "        return winnerAvgOdds\n",
    "    else:\n",
    "        return loserAvgOddss"
   ]
  },
  {
   "cell_type": "code",
   "execution_count": 89,
   "metadata": {},
   "outputs": [],
   "source": [
    "randList = lambda n: [random.randint(0,1) for b in range(0,n)]\n",
    "df_atp['result'] = randList(len(df_atp))\n",
    "test['result'] = randList(len(test))"
   ]
  },
  {
   "cell_type": "code",
   "execution_count": 90,
   "metadata": {
    "scrolled": true
   },
   "outputs": [],
   "source": [
    "df_atp.loc[:,'player_0'] = df_atp.apply(lambda row: getPlayer0(row['Winner'], row['Loser'], row['result']), axis=1)\n",
    "df_atp.loc[:,'player_1'] = df_atp.apply(lambda row: getPlayer1(row['Winner'], row['Loser'], row['result']), axis=1)\n",
    "\n",
    "df_atp.loc[:,'player_0_rank'] = df_atp.apply(lambda row: getPlayer0Rank(row['WRank'], row['LRank'], row['result']), axis=1)\n",
    "df_atp.loc[:,'player_1_rank'] = df_atp.apply(lambda row: getPlayer1Rank(row['WRank'], row['LRank'], row['result']), axis=1)\n",
    "\n",
    "df_atp.loc[:,'player_0_points'] = df_atp.apply(lambda row: getPlayer0Points(row['WPts'], row['LPts'], row['result']), axis=1)\n",
    "df_atp.loc[:,'player_1_points'] = df_atp.apply(lambda row: getPlayer1Points(row['WPts'], row['LPts'], row['result']), axis=1)\n",
    "\n",
    "df_atp.loc[:,'player_0_max_odds'] = df_atp.apply(lambda row: getPlayer0MaxOdds(row['MaxW'], row['MaxL'], row['result']), axis=1)\n",
    "df_atp.loc[:,'player_1_max_odds'] = df_atp.apply(lambda row: getPlayer1MaxOdds(row['MaxW'], row['MaxL'], row['result']), axis=1)\n",
    "\n",
    "df_atp.loc[:,'player_0_avg_odds'] = df_atp.apply(lambda row: getPlayer0AvgOdds(row['AvgW'], row['AvgL'], row['result']), axis=1)\n",
    "df_atp.loc[:,'player_1_avg_odds'] = df_atp.apply(lambda row: getPlayer1AvgOdds(row['AvgW'], row['AvgL'], row['result']), axis=1)"
   ]
  },
  {
   "cell_type": "code",
   "execution_count": 91,
   "metadata": {},
   "outputs": [],
   "source": [
    "test.loc[:,'player_0'] = test.apply(lambda row: getPlayer0(row['Winner'], row['Loser'], row['result']), axis=1)\n",
    "test.loc[:,'player_1'] = test.apply(lambda row: getPlayer1(row['Winner'], row['Loser'], row['result']), axis=1)\n",
    "\n",
    "test.loc[:,'player_0_rank'] = test.apply(lambda row: getPlayer0Rank(row['WRank'], row['LRank'], row['result']), axis=1)\n",
    "test.loc[:,'player_1_rank'] = test.apply(lambda row: getPlayer1Rank(row['WRank'], row['LRank'], row['result']), axis=1)\n",
    "\n",
    "test.loc[:,'player_0_points'] = test.apply(lambda row: getPlayer0Points(row['WPts'], row['LPts'], row['result']), axis=1)\n",
    "test.loc[:,'player_1_points'] = test.apply(lambda row: getPlayer1Points(row['WPts'], row['LPts'], row['result']), axis=1)\n",
    "\n",
    "test.loc[:,'player_0_max_odds'] = test.apply(lambda row: getPlayer0MaxOdds(row['MaxW'], row['MaxL'], row['result']), axis=1)\n",
    "test.loc[:,'player_1_max_odds'] = test.apply(lambda row: getPlayer1MaxOdds(row['MaxW'], row['MaxL'], row['result']), axis=1)\n",
    "\n",
    "test.loc[:,'player_0_avg_odds'] = test.apply(lambda row: getPlayer0AvgOdds(row['AvgW'], row['AvgL'], row['result']), axis=1)\n",
    "test.loc[:,'player_1_avg_odds'] = test.apply(lambda row: getPlayer1AvgOdds(row['AvgW'], row['AvgL'], row['result']), axis=1)"
   ]
  },
  {
   "cell_type": "code",
   "execution_count": 92,
   "metadata": {},
   "outputs": [],
   "source": [
    "df_atp.drop(['Winner','Loser','WPts','LPts','WRank','LRank','AvgL','AvgW','MaxL','MaxW','Comment','Court','Location',\n",
    "             'Series','Surface','Tournament'],inplace=True,axis=1)"
   ]
  },
  {
   "cell_type": "code",
   "execution_count": 93,
   "metadata": {},
   "outputs": [],
   "source": [
    "test.drop(['Winner','Loser','WPts','LPts','WRank','LRank','AvgL','AvgW','MaxL','MaxW','Comment','Court','Location',\n",
    "             'Series','Surface','Tournament'],inplace=True,axis=1)"
   ]
  },
  {
   "cell_type": "code",
   "execution_count": 94,
   "metadata": {
    "scrolled": true
   },
   "outputs": [
    {
     "data": {
      "text/plain": [
       "ATP                    int64\n",
       "Round                  int64\n",
       "Best of                int64\n",
       "year                   int64\n",
       "Month                  int64\n",
       "Comment_encoded        int32\n",
       "Court_encoded          int32\n",
       "Series_encoded         int32\n",
       "Surface_encoded        int32\n",
       "Comment_1            float64\n",
       "Comment_2            float64\n",
       "Comment_3            float64\n",
       "Comment_4            float64\n",
       "Court_1              float64\n",
       "Series_1             float64\n",
       "Series_2             float64\n",
       "Series_3             float64\n",
       "Series_4             float64\n",
       "Series_5             float64\n",
       "Series_6             float64\n",
       "Series_7             float64\n",
       "Surface_1            float64\n",
       "Surface_2            float64\n",
       "Surface_3            float64\n",
       "Location_0           float64\n",
       "Location_1           float64\n",
       "Location_2           float64\n",
       "Location_3           float64\n",
       "Tournament_0         float64\n",
       "Tournament_1         float64\n",
       "Tournament_2         float64\n",
       "Tournament_3         float64\n",
       "Tournament_4         float64\n",
       "result                 int64\n",
       "player_0               int64\n",
       "player_1               int64\n",
       "player_0_rank        float64\n",
       "player_1_rank        float64\n",
       "player_0_points      float64\n",
       "player_1_points      float64\n",
       "player_0_max_odds    float64\n",
       "player_1_max_odds    float64\n",
       "player_0_avg_odds    float64\n",
       "player_1_avg_odds    float64\n",
       "dtype: object"
      ]
     },
     "execution_count": 94,
     "metadata": {},
     "output_type": "execute_result"
    }
   ],
   "source": [
    "df_atp.dtypes"
   ]
  },
  {
   "cell_type": "code",
   "execution_count": 95,
   "metadata": {
    "scrolled": true
   },
   "outputs": [
    {
     "data": {
      "text/plain": [
       "ATP                    int64\n",
       "Round                  int64\n",
       "Best of                int64\n",
       "year                   int64\n",
       "Month                  int64\n",
       "Comment_encoded        int32\n",
       "Court_encoded          int32\n",
       "Series_encoded         int32\n",
       "Surface_encoded        int32\n",
       "Comment_1            float64\n",
       "Comment_2            float64\n",
       "Comment_3            float64\n",
       "Comment_4            float64\n",
       "Court_1              float64\n",
       "Series_1             float64\n",
       "Series_2             float64\n",
       "Series_3             float64\n",
       "Series_4             float64\n",
       "Series_5             float64\n",
       "Series_6             float64\n",
       "Series_7             float64\n",
       "Surface_1            float64\n",
       "Surface_2            float64\n",
       "Surface_3            float64\n",
       "Location_0           float64\n",
       "Location_1           float64\n",
       "Location_2           float64\n",
       "Location_3           float64\n",
       "Tournament_0         float64\n",
       "Tournament_1         float64\n",
       "Tournament_2         float64\n",
       "Tournament_3         float64\n",
       "Tournament_4         float64\n",
       "result                 int64\n",
       "player_0               int64\n",
       "player_1               int64\n",
       "player_0_rank        float64\n",
       "player_1_rank        float64\n",
       "player_0_points      float64\n",
       "player_1_points      float64\n",
       "player_0_max_odds    float64\n",
       "player_1_max_odds    float64\n",
       "player_0_avg_odds    float64\n",
       "player_1_avg_odds    float64\n",
       "dtype: object"
      ]
     },
     "execution_count": 95,
     "metadata": {},
     "output_type": "execute_result"
    }
   ],
   "source": [
    "test.dtypes"
   ]
  },
  {
   "cell_type": "markdown",
   "metadata": {},
   "source": [
    "Now all our features are numerical."
   ]
  },
  {
   "cell_type": "markdown",
   "metadata": {},
   "source": [
    "### Feature extraction"
   ]
  },
  {
   "cell_type": "markdown",
   "metadata": {},
   "source": [
    "We will compare 3 approaches:\n",
    "    1. Working with all the features of th dataset\n",
    "    2. Working with the features that are highly corrolated with the label\n",
    "    3. Working with PCA componants"
   ]
  },
  {
   "cell_type": "markdown",
   "metadata": {},
   "source": [
    "* All the features"
   ]
  },
  {
   "cell_type": "code",
   "execution_count": 96,
   "metadata": {},
   "outputs": [],
   "source": [
    "allFeatures = list(df_atp.columns)\n",
    "allFeatures.remove('result') "
   ]
  },
  {
   "cell_type": "markdown",
   "metadata": {},
   "source": [
    "* Corrolation"
   ]
  },
  {
   "cell_type": "code",
   "execution_count": 97,
   "metadata": {},
   "outputs": [
    {
     "data": {
      "text/plain": [
       "<matplotlib.axes._subplots.AxesSubplot at 0x1ba3b17c808>"
      ]
     },
     "execution_count": 97,
     "metadata": {},
     "output_type": "execute_result"
    },
    {
     "data": {
      "image/png": "[encoded data removed]",
      "text/plain": [
       "<Figure size 1152x648 with 2 Axes>"
      ]
     },
     "metadata": {
      "needs_background": "light"
     },
     "output_type": "display_data"
    }
   ],
   "source": [
    "plt.figure(figsize=(16,9))\n",
    "sns.heatmap(df_atp.corr(),cmap=\"coolwarm\")"
   ]
  },
  {
   "cell_type": "code",
   "execution_count": 98,
   "metadata": {},
   "outputs": [],
   "source": [
    "correlationFeatures = list((df_atp.corr()\\\n",
    "    [\"result\"] # Only get the correlation with the \"Result\"\n",
    "    .apply(abs) # Apply the absolute value to extract the inverse correlation  \n",
    "    .sort_values(ascending=False) # Sort the values\n",
    "    [1:10]).index) # Eliminate the First (since it's the Revenue itself) and get the first 5 features"
   ]
  },
  {
   "cell_type": "code",
   "execution_count": 99,
   "metadata": {},
   "outputs": [
    {
     "data": {
      "text/plain": [
       "['player_1_avg_odds',\n",
       " 'player_0_avg_odds',\n",
       " 'player_0_points',\n",
       " 'player_1_points',\n",
       " 'player_0_rank',\n",
       " 'player_1_rank',\n",
       " 'player_0',\n",
       " 'player_1',\n",
       " 'player_0_max_odds']"
      ]
     },
     "execution_count": 99,
     "metadata": {},
     "output_type": "execute_result"
    }
   ],
   "source": [
    "correlationFeatures"
   ]
  },
  {
   "cell_type": "markdown",
   "metadata": {},
   "source": [
    "* PCA"
   ]
  },
  {
   "cell_type": "code",
   "execution_count": 103,
   "metadata": {},
   "outputs": [],
   "source": [
    "# Get the 2 components\n",
    "pca = PCA(n_components=2)\n",
    "pca_features = pca.fit_transform(df_atp.loc[:, df_atp.columns != 'result'])\n",
    "df_atp = pd.concat([df_atp, pd.DataFrame(pca_features,columns=[\"pca1\", \"pca2\"])], axis=1)\n",
    "pca_features_test = pca.transform(test.loc[:, test.columns != 'result'])\n",
    "test = pd.concat([test, pd.DataFrame(pca_features_test,columns=[\"pca1\", \"pca2\"])], axis=1)"
   ]
  },
  {
   "cell_type": "code",
   "execution_count": 105,
   "metadata": {},
   "outputs": [],
   "source": [
    "pcaFeatures= [\"pca1\", \"pca2\"]"
   ]
  },
  {
   "cell_type": "code",
   "execution_count": 106,
   "metadata": {
    "scrolled": true
   },
   "outputs": [
    {
     "data": {
      "text/plain": [
       "<matplotlib.axes._subplots.AxesSubplot at 0x1ba3ed1a3c8>"
      ]
     },
     "execution_count": 106,
     "metadata": {},
     "output_type": "execute_result"
    },
    {
     "data": {
      "image/png": "[encoded data removed]",
      "text/plain": [
       "<Figure size 432x288 with 2 Axes>"
      ]
     },
     "metadata": {
      "needs_background": "light"
     },
     "output_type": "display_data"
    }
   ],
   "source": [
    "df_atp.plot.scatter(x=\"pca1\",y=\"pca2\",c=df_atp[\"result\"],cmap=\"coolwarm\")"
   ]
  },
  {
   "cell_type": "markdown",
   "metadata": {},
   "source": [
    "### 2. Modeling"
   ]
  },
  {
   "cell_type": "markdown",
   "metadata": {},
   "source": [
    "We will try 4 models:\n",
    "    1. Logistic Regression\n",
    "    2. Decision Trees\n",
    "    3. Random Forests\n",
    "    4. XGBoost"
   ]
  },
  {
   "cell_type": "markdown",
   "metadata": {},
   "source": [
    "First, we need to separate the dataset into features and labels"
   ]
  },
  {
   "cell_type": "code",
   "execution_count": 107,
   "metadata": {},
   "outputs": [],
   "source": [
    "y_train = df_atp['result']\n",
    "x_train = df_atp.drop(['result'],axis=1)\n",
    "\n",
    "y_test = test['result']\n",
    "x_test = test.drop(['result'],axis=1)"
   ]
  },
  {
   "cell_type": "markdown",
   "metadata": {},
   "source": [
    "#### 2.1. Logistic regression"
   ]
  },
  {
   "cell_type": "code",
   "execution_count": 108,
   "metadata": {},
   "outputs": [],
   "source": [
    "def try_logistic_model(x_train, y_train, x_test, y_test, features):\n",
    "    \n",
    "    # Use only the features we selected\n",
    "    x_train = x_train[features]\n",
    "    x_test = x_test[features]\n",
    "    \n",
    "    # Use the pipeline in order to take adventage of the cross validation and the normalization of the data\n",
    "    # using the StandartScaler\n",
    "    steps = [('scaler', StandardScaler()), ('LogisticRegression', LogisticRegression())]\n",
    "    pipeline = Pipeline(steps)\n",
    "    grid = GridSearchCV(pipeline,param_grid=dict(),cv=3,scoring= 'accuracy')\n",
    "    grid.fit(x_train, y_train)\n",
    "        \n",
    "    # Predicting the test\n",
    "    y_pred = grid.predict(x_test)\n",
    "    #Printing the accuracy and the classification report\n",
    "    print(\"The accuracy is {}\".format(accuracy_score(y_test, y_pred)))\n",
    "    print(classification_report(y_test,y_pred))\n"
   ]
  },
  {
   "cell_type": "markdown",
   "metadata": {},
   "source": [
    "* All the features"
   ]
  },
  {
   "cell_type": "code",
   "execution_count": 109,
   "metadata": {},
   "outputs": [
    {
     "name": "stderr",
     "output_type": "stream",
     "text": [
      "C:\\ProgramData\\Anaconda3\\lib\\site-packages\\sklearn\\linear_model\\_logistic.py:940: ConvergenceWarning: lbfgs failed to converge (status=1):\n",
      "STOP: TOTAL NO. of ITERATIONS REACHED LIMIT.\n",
      "\n",
      "Increase the number of iterations (max_iter) or scale the data as shown in:\n",
      "    https://scikit-learn.org/stable/modules/preprocessing.html\n",
      "Please also refer to the documentation for alternative solver options:\n",
      "    https://scikit-learn.org/stable/modules/linear_model.html#logistic-regression\n",
      "  extra_warning_msg=_LOGISTIC_SOLVER_CONVERGENCE_MSG)\n",
      "C:\\ProgramData\\Anaconda3\\lib\\site-packages\\sklearn\\linear_model\\_logistic.py:940: ConvergenceWarning: lbfgs failed to converge (status=1):\n",
      "STOP: TOTAL NO. of ITERATIONS REACHED LIMIT.\n",
      "\n",
      "Increase the number of iterations (max_iter) or scale the data as shown in:\n",
      "    https://scikit-learn.org/stable/modules/preprocessing.html\n",
      "Please also refer to the documentation for alternative solver options:\n",
      "    https://scikit-learn.org/stable/modules/linear_model.html#logistic-regression\n",
      "  extra_warning_msg=_LOGISTIC_SOLVER_CONVERGENCE_MSG)\n"
     ]
    },
    {
     "name": "stdout",
     "output_type": "stream",
     "text": [
      "The accuracy is 0.672865275142315\n",
      "              precision    recall  f1-score   support\n",
      "\n",
      "           0       0.64      0.76      0.70      1293\n",
      "           1       0.72      0.59      0.65      1342\n",
      "\n",
      "    accuracy                           0.67      2635\n",
      "   macro avg       0.68      0.67      0.67      2635\n",
      "weighted avg       0.68      0.67      0.67      2635\n",
      "\n"
     ]
    },
    {
     "name": "stderr",
     "output_type": "stream",
     "text": [
      "C:\\ProgramData\\Anaconda3\\lib\\site-packages\\sklearn\\linear_model\\_logistic.py:940: ConvergenceWarning: lbfgs failed to converge (status=1):\n",
      "STOP: TOTAL NO. of ITERATIONS REACHED LIMIT.\n",
      "\n",
      "Increase the number of iterations (max_iter) or scale the data as shown in:\n",
      "    https://scikit-learn.org/stable/modules/preprocessing.html\n",
      "Please also refer to the documentation for alternative solver options:\n",
      "    https://scikit-learn.org/stable/modules/linear_model.html#logistic-regression\n",
      "  extra_warning_msg=_LOGISTIC_SOLVER_CONVERGENCE_MSG)\n"
     ]
    }
   ],
   "source": [
    "try_logistic_model(x_train, y_train, x_test, y_test,allFeatures)"
   ]
  },
  {
   "cell_type": "markdown",
   "metadata": {},
   "source": [
    "* Corrolated features"
   ]
  },
  {
   "cell_type": "code",
   "execution_count": 110,
   "metadata": {},
   "outputs": [
    {
     "name": "stdout",
     "output_type": "stream",
     "text": [
      "The accuracy is 0.6732447817836812\n",
      "              precision    recall  f1-score   support\n",
      "\n",
      "           0       0.64      0.76      0.70      1293\n",
      "           1       0.72      0.59      0.65      1342\n",
      "\n",
      "    accuracy                           0.67      2635\n",
      "   macro avg       0.68      0.67      0.67      2635\n",
      "weighted avg       0.68      0.67      0.67      2635\n",
      "\n"
     ]
    }
   ],
   "source": [
    "try_logistic_model(x_train, y_train, x_test, y_test,correlationFeatures)"
   ]
  },
  {
   "cell_type": "markdown",
   "metadata": {},
   "source": [
    "* PCA components "
   ]
  },
  {
   "cell_type": "code",
   "execution_count": 111,
   "metadata": {},
   "outputs": [
    {
     "name": "stdout",
     "output_type": "stream",
     "text": [
      "The accuracy is 0.6504743833017078\n",
      "              precision    recall  f1-score   support\n",
      "\n",
      "           0       0.64      0.66      0.65      1293\n",
      "           1       0.66      0.64      0.65      1342\n",
      "\n",
      "    accuracy                           0.65      2635\n",
      "   macro avg       0.65      0.65      0.65      2635\n",
      "weighted avg       0.65      0.65      0.65      2635\n",
      "\n"
     ]
    }
   ],
   "source": [
    "try_logistic_model(x_train, y_train, x_test, y_test,pcaFeatures)"
   ]
  },
  {
   "cell_type": "markdown",
   "metadata": {},
   "source": [
    "#### 2.2. Decision tree"
   ]
  },
  {
   "cell_type": "code",
   "execution_count": 112,
   "metadata": {},
   "outputs": [],
   "source": [
    "def try_decision_tree(x_train, y_train, x_test, y_test, features):\n",
    "    \n",
    "    # Use only the features we selected\n",
    "    x_train = x_train[features]\n",
    "    x_test = x_test[features]\n",
    "    \n",
    "    steps = [('scaler', StandardScaler()), ('DecisionTreeClassifier', DecisionTreeClassifier(random_state=0, max_depth=7))]\n",
    "    pipeline = Pipeline(steps)\n",
    "    grid = GridSearchCV(pipeline,param_grid=dict(),cv=10,scoring= 'accuracy')\n",
    "    grid.fit(x_train, y_train)\n",
    "    \n",
    "    # Predicting the test\n",
    "    y_pred = grid.predict(x_test)\n",
    "    #Printing the accuracy\n",
    "    print(\"The accuracy is {}\".format(accuracy_score(y_test, y_pred)))\n",
    "    print(classification_report(y_test,y_pred))"
   ]
  },
  {
   "cell_type": "markdown",
   "metadata": {},
   "source": [
    "* All the features"
   ]
  },
  {
   "cell_type": "code",
   "execution_count": 113,
   "metadata": {},
   "outputs": [
    {
     "name": "stdout",
     "output_type": "stream",
     "text": [
      "The accuracy is 0.6827324478178368\n",
      "              precision    recall  f1-score   support\n",
      "\n",
      "           0       0.66      0.71      0.69      1293\n",
      "           1       0.70      0.65      0.68      1342\n",
      "\n",
      "    accuracy                           0.68      2635\n",
      "   macro avg       0.68      0.68      0.68      2635\n",
      "weighted avg       0.68      0.68      0.68      2635\n",
      "\n"
     ]
    }
   ],
   "source": [
    "try_decision_tree(x_train, y_train, x_test, y_test,allFeatures)"
   ]
  },
  {
   "cell_type": "markdown",
   "metadata": {},
   "source": [
    "* Corrolated features"
   ]
  },
  {
   "cell_type": "code",
   "execution_count": 114,
   "metadata": {
    "scrolled": false
   },
   "outputs": [
    {
     "name": "stdout",
     "output_type": "stream",
     "text": [
      "The accuracy is 0.6755218216318786\n",
      "              precision    recall  f1-score   support\n",
      "\n",
      "           0       0.66      0.71      0.68      1293\n",
      "           1       0.70      0.65      0.67      1342\n",
      "\n",
      "    accuracy                           0.68      2635\n",
      "   macro avg       0.68      0.68      0.68      2635\n",
      "weighted avg       0.68      0.68      0.68      2635\n",
      "\n"
     ]
    }
   ],
   "source": [
    "try_decision_tree(x_train, y_train, x_test, y_test,correlationFeatures)"
   ]
  },
  {
   "cell_type": "markdown",
   "metadata": {},
   "source": [
    "* PCA components"
   ]
  },
  {
   "cell_type": "code",
   "execution_count": 115,
   "metadata": {
    "scrolled": true
   },
   "outputs": [
    {
     "name": "stdout",
     "output_type": "stream",
     "text": [
      "The accuracy is 0.647438330170778\n",
      "              precision    recall  f1-score   support\n",
      "\n",
      "           0       0.64      0.64      0.64      1293\n",
      "           1       0.65      0.65      0.65      1342\n",
      "\n",
      "    accuracy                           0.65      2635\n",
      "   macro avg       0.65      0.65      0.65      2635\n",
      "weighted avg       0.65      0.65      0.65      2635\n",
      "\n"
     ]
    }
   ],
   "source": [
    "try_decision_tree(x_train, y_train, x_test, y_test,pcaFeatures)"
   ]
  },
  {
   "cell_type": "markdown",
   "metadata": {},
   "source": [
    "#### 2.3. Random forest"
   ]
  },
  {
   "cell_type": "code",
   "execution_count": 116,
   "metadata": {},
   "outputs": [],
   "source": [
    "def try_random_forest(x_train, y_train, x_test, y_test, features):\n",
    "    \n",
    "    # Use only the features we selected\n",
    "    x_train = x_train[features]\n",
    "    x_test = x_test[features]\n",
    "    \n",
    "    steps = [('scaler', StandardScaler()), ('RandomForestClassifier', RandomForestClassifier(random_state=0, n_estimators=30, max_depth=6))]\n",
    "    pipeline = Pipeline(steps)\n",
    "    grid = GridSearchCV(pipeline,param_grid=dict(),cv=10,scoring= 'accuracy')\n",
    "    grid.fit(x_train, y_train)\n",
    "    \n",
    "    # Predicting the test\n",
    "    y_pred = grid.predict(x_test)\n",
    "    print(\"The accuracy is {}\".format(accuracy_score(y_test, y_pred)))\n",
    "    print(classification_report(y_test,y_pred))"
   ]
  },
  {
   "cell_type": "markdown",
   "metadata": {},
   "source": [
    "* All the features"
   ]
  },
  {
   "cell_type": "code",
   "execution_count": 117,
   "metadata": {},
   "outputs": [
    {
     "name": "stdout",
     "output_type": "stream",
     "text": [
      "The accuracy is 0.6781783681214422\n",
      "              precision    recall  f1-score   support\n",
      "\n",
      "           0       0.67      0.69      0.68      1293\n",
      "           1       0.69      0.67      0.68      1342\n",
      "\n",
      "    accuracy                           0.68      2635\n",
      "   macro avg       0.68      0.68      0.68      2635\n",
      "weighted avg       0.68      0.68      0.68      2635\n",
      "\n"
     ]
    }
   ],
   "source": [
    "try_random_forest(x_train, y_train, x_test, y_test,allFeatures)"
   ]
  },
  {
   "cell_type": "markdown",
   "metadata": {},
   "source": [
    "* Corrolated features"
   ]
  },
  {
   "cell_type": "code",
   "execution_count": 118,
   "metadata": {},
   "outputs": [
    {
     "name": "stdout",
     "output_type": "stream",
     "text": [
      "The accuracy is 0.6755218216318786\n",
      "              precision    recall  f1-score   support\n",
      "\n",
      "           0       0.66      0.69      0.68      1293\n",
      "           1       0.69      0.66      0.68      1342\n",
      "\n",
      "    accuracy                           0.68      2635\n",
      "   macro avg       0.68      0.68      0.68      2635\n",
      "weighted avg       0.68      0.68      0.68      2635\n",
      "\n"
     ]
    }
   ],
   "source": [
    "try_random_forest(x_train, y_train, x_test, y_test,correlationFeatures)"
   ]
  },
  {
   "cell_type": "markdown",
   "metadata": {},
   "source": [
    "* PCA Components"
   ]
  },
  {
   "cell_type": "code",
   "execution_count": 119,
   "metadata": {},
   "outputs": [
    {
     "name": "stdout",
     "output_type": "stream",
     "text": [
      "The accuracy is 0.6489563567362429\n",
      "              precision    recall  f1-score   support\n",
      "\n",
      "           0       0.64      0.65      0.65      1293\n",
      "           1       0.66      0.64      0.65      1342\n",
      "\n",
      "    accuracy                           0.65      2635\n",
      "   macro avg       0.65      0.65      0.65      2635\n",
      "weighted avg       0.65      0.65      0.65      2635\n",
      "\n"
     ]
    }
   ],
   "source": [
    "try_random_forest(x_train, y_train, x_test, y_test,pcaFeatures)"
   ]
  },
  {
   "cell_type": "markdown",
   "metadata": {},
   "source": [
    "#### 2.4. XGBoost"
   ]
  },
  {
   "cell_type": "code",
   "execution_count": 120,
   "metadata": {},
   "outputs": [],
   "source": [
    "def try_xgboost(x_train, y_train, x_test, y_test, features):\n",
    "    \n",
    "    # Use only the features we selected\n",
    "    x_train = x_train[features]\n",
    "    x_test = x_test[features]\n",
    "    \n",
    "    steps = [('scaler', StandardScaler()), ('RandomForestClassifier', XGBClassifier(max_depth=3, n_estimators=300, learning_rate=0.05))]\n",
    "    pipeline = Pipeline(steps)\n",
    "    grid = GridSearchCV(pipeline,param_grid=dict(),cv=10,scoring= 'accuracy')\n",
    "    grid.fit(x_train, y_train)\n",
    "    \n",
    "    # Predicting the test\n",
    "    y_pred = grid.predict(x_test)\n",
    "    \n",
    "    print(\"The accuracy is {}\".format(accuracy_score(y_test, y_pred)))\n",
    "    print(classification_report(y_test,y_pred))\n"
   ]
  },
  {
   "cell_type": "markdown",
   "metadata": {},
   "source": [
    "* All features"
   ]
  },
  {
   "cell_type": "code",
   "execution_count": 121,
   "metadata": {},
   "outputs": [
    {
     "name": "stdout",
     "output_type": "stream",
     "text": [
      "The accuracy is 0.6766603415559772\n",
      "              precision    recall  f1-score   support\n",
      "\n",
      "           0       0.66      0.69      0.68      1293\n",
      "           1       0.69      0.66      0.68      1342\n",
      "\n",
      "    accuracy                           0.68      2635\n",
      "   macro avg       0.68      0.68      0.68      2635\n",
      "weighted avg       0.68      0.68      0.68      2635\n",
      "\n"
     ]
    }
   ],
   "source": [
    "try_xgboost(x_train, y_train, x_test, y_test,allFeatures)"
   ]
  },
  {
   "cell_type": "markdown",
   "metadata": {},
   "source": [
    "* Corrolated features"
   ]
  },
  {
   "cell_type": "code",
   "execution_count": 122,
   "metadata": {},
   "outputs": [
    {
     "name": "stdout",
     "output_type": "stream",
     "text": [
      "The accuracy is 0.6800759013282732\n",
      "              precision    recall  f1-score   support\n",
      "\n",
      "           0       0.67      0.69      0.68      1293\n",
      "           1       0.69      0.67      0.68      1342\n",
      "\n",
      "    accuracy                           0.68      2635\n",
      "   macro avg       0.68      0.68      0.68      2635\n",
      "weighted avg       0.68      0.68      0.68      2635\n",
      "\n"
     ]
    }
   ],
   "source": [
    "try_xgboost(x_train, y_train, x_test, y_test,correlationFeatures)"
   ]
  },
  {
   "cell_type": "markdown",
   "metadata": {},
   "source": [
    "* PCA Components"
   ]
  },
  {
   "cell_type": "code",
   "execution_count": 123,
   "metadata": {},
   "outputs": [
    {
     "name": "stdout",
     "output_type": "stream",
     "text": [
      "The accuracy is 0.6485768500948766\n",
      "              precision    recall  f1-score   support\n",
      "\n",
      "           0       0.64      0.65      0.65      1293\n",
      "           1       0.66      0.65      0.65      1342\n",
      "\n",
      "    accuracy                           0.65      2635\n",
      "   macro avg       0.65      0.65      0.65      2635\n",
      "weighted avg       0.65      0.65      0.65      2635\n",
      "\n"
     ]
    }
   ],
   "source": [
    "try_xgboost(x_train, y_train, x_test, y_test,pcaFeatures)"
   ]
  }
 ],
 "metadata": {
  "kernelspec": {
   "display_name": "Python 3",
   "language": "python",
   "name": "python3"
  },
  "language_info": {
   "codemirror_mode": {
    "name": "ipython",
    "version": 3
   },
   "file_extension": ".py",
   "mimetype": "text/x-python",
   "name": "python",
   "nbconvert_exporter": "python",
   "pygments_lexer": "ipython3",
   "version": "3.7.6"
  }
 },
 "nbformat": 4,
 "nbformat_minor": 2
}
